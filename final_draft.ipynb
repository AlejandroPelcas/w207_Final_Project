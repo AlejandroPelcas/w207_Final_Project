{
 "cells": [
  {
   "cell_type": "markdown",
   "id": "8c29afea",
   "metadata": {},
   "source": [
    "# Using Historical ML to Predict the Fate of Accused Witches \n",
    "Elda Pere, Carlos Calderon, Alejandro Pelcastre, Kevin Gu "
   ]
  },
  {
   "cell_type": "markdown",
   "id": "3fc648f1",
   "metadata": {},
   "source": [
    "In this notebook, we attempt to answer the question: **How well can we predict whether a witch trial will end in execution using gender and gender related features?**. The data comes from the University of Edinburgh's Historical Scottish Witchcraft Dataset, with information dated between the 15th and 18th century in Scotland. This topic ties into modern-day sexism. The purpose of it is to understand the roots of gender equality issues in history to be able to better understand their evolution into sexism today.  "
   ]
  },
  {
   "cell_type": "markdown",
   "id": "7e4206ea",
   "metadata": {},
   "source": [
    "### Import Packages and Data"
   ]
  },
  {
   "cell_type": "code",
   "execution_count": 1,
   "id": "28b87bc1",
   "metadata": {},
   "outputs": [],
   "source": [
    "#Might need to download some of these in your console. \n",
    "\n",
    "#conda install -c conda-forge imbalanced-learn\n",
    "#sudo pip install keras\n",
    "#pip install tensorflow\n",
    "#pip install graphviz"
   ]
  },
  {
   "cell_type": "code",
   "execution_count": 2,
   "id": "13e6c38c",
   "metadata": {},
   "outputs": [
    {
     "name": "stdout",
     "output_type": "stream",
     "text": [
      "Set up complete\n"
     ]
    }
   ],
   "source": [
    "%matplotlib inline\n",
    "import time\n",
    "import numpy as np\n",
    "import pandas as pd\n",
    "import sklearn\n",
    "import random\n",
    "import seaborn as sns\n",
    "import matplotlib.pyplot as plt\n",
    "from matplotlib.ticker import MultipleLocator\n",
    "from sklearn.pipeline import Pipeline\n",
    "from sklearn.datasets import fetch_openml\n",
    "from sklearn.neighbors import KNeighborsClassifier\n",
    "from sklearn.metrics import confusion_matrix\n",
    "from sklearn.linear_model import LinearRegression\n",
    "from sklearn.naive_bayes import BernoulliNB\n",
    "from sklearn.naive_bayes import MultinomialNB\n",
    "from sklearn.naive_bayes import GaussianNB\n",
    "from sklearn.model_selection import GridSearchCV\n",
    "from sklearn.metrics import classification_report\n",
    "from sklearn.linear_model import LogisticRegression\n",
    "from sklearn.metrics import classification_report\n",
    "from sklearn.metrics import plot_confusion_matrix\n",
    "from sklearn.metrics import roc_auc_score\n",
    "from sklearn.metrics import roc_curve\n",
    "import urllib.request as urllib2 # For python3\n",
    "from sklearn import metrics\n",
    "from sklearn.decomposition import PCA\n",
    "from sklearn.cluster import KMeans\n",
    "from sklearn.mixture import GaussianMixture\n",
    "from matplotlib.colors import LogNorm\n",
    "from collections import Counter\n",
    "from imblearn.over_sampling import SMOTE\n",
    "from scipy.stats import norm\n",
    "from keras.models import Sequential\n",
    "from keras.layers import Dense\n",
    "import keras\n",
    "from tensorflow.keras.layers import Dense, Flatten, Conv2D, MaxPooling2D\n",
    "from tensorflow.keras.losses import sparse_categorical_crossentropy\n",
    "from sklearn.model_selection import KFold\n",
    "\n",
    "\n",
    "# Set the randomizer seed so results are the same each time.\n",
    "np.random.seed(0)\n",
    "print(\"Set up complete\")"
   ]
  },
  {
   "cell_type": "code",
   "execution_count": 3,
   "id": "2cd80af7",
   "metadata": {},
   "outputs": [
    {
     "data": {
      "text/html": [
       "<div>\n",
       "<style scoped>\n",
       "    .dataframe tbody tr th:only-of-type {\n",
       "        vertical-align: middle;\n",
       "    }\n",
       "\n",
       "    .dataframe tbody tr th {\n",
       "        vertical-align: top;\n",
       "    }\n",
       "\n",
       "    .dataframe thead th {\n",
       "        text-align: right;\n",
       "    }\n",
       "</style>\n",
       "<table border=\"1\" class=\"dataframe\">\n",
       "  <thead>\n",
       "    <tr style=\"text-align: right;\">\n",
       "      <th></th>\n",
       "      <th>AccusedRef</th>\n",
       "      <th>AccusedSystemId</th>\n",
       "      <th>AccusedID</th>\n",
       "      <th>FirstName</th>\n",
       "      <th>LastName</th>\n",
       "      <th>M_Firstname</th>\n",
       "      <th>M_Surname</th>\n",
       "      <th>Alias</th>\n",
       "      <th>Patronymic</th>\n",
       "      <th>DesTitle</th>\n",
       "      <th>...</th>\n",
       "      <th>Exec_county</th>\n",
       "      <th>Exec_burgh</th>\n",
       "      <th>Exec_NGR_Letters</th>\n",
       "      <th>Exec_NGR_Easting</th>\n",
       "      <th>Exec_NGR_Northing</th>\n",
       "      <th>PostTrialNotes</th>\n",
       "      <th>Createdby_y</th>\n",
       "      <th>Createdate_y</th>\n",
       "      <th>Lastupdatedby_y</th>\n",
       "      <th>Lastupdatedon_y</th>\n",
       "    </tr>\n",
       "  </thead>\n",
       "  <tbody>\n",
       "    <tr>\n",
       "      <th>0</th>\n",
       "      <td>A/EGD/10</td>\n",
       "      <td>EGD</td>\n",
       "      <td>10.0</td>\n",
       "      <td>Mareon</td>\n",
       "      <td>Quheitt</td>\n",
       "      <td>Marion</td>\n",
       "      <td>White</td>\n",
       "      <td>NaN</td>\n",
       "      <td>NaN</td>\n",
       "      <td>NaN</td>\n",
       "      <td>...</td>\n",
       "      <td>NaN</td>\n",
       "      <td>NaN</td>\n",
       "      <td>NaN</td>\n",
       "      <td>NaN</td>\n",
       "      <td>NaN</td>\n",
       "      <td>NaN</td>\n",
       "      <td>jhm</td>\n",
       "      <td>08/07/02 15:23:55</td>\n",
       "      <td>LEM</td>\n",
       "      <td>10/28/02 13:06:53</td>\n",
       "    </tr>\n",
       "    <tr>\n",
       "      <th>1</th>\n",
       "      <td>A/EGD/100</td>\n",
       "      <td>EGD</td>\n",
       "      <td>100.0</td>\n",
       "      <td>Thom</td>\n",
       "      <td>Cockburn</td>\n",
       "      <td>Thomas</td>\n",
       "      <td>Cockburn</td>\n",
       "      <td>NaN</td>\n",
       "      <td>NaN</td>\n",
       "      <td>NaN</td>\n",
       "      <td>...</td>\n",
       "      <td>NaN</td>\n",
       "      <td>NaN</td>\n",
       "      <td>NaN</td>\n",
       "      <td>NaN</td>\n",
       "      <td>NaN</td>\n",
       "      <td>NaN</td>\n",
       "      <td>LEM</td>\n",
       "      <td>07/24/02 16:01:21</td>\n",
       "      <td>LEM</td>\n",
       "      <td>07/24/02 16:01:23</td>\n",
       "    </tr>\n",
       "    <tr>\n",
       "      <th>2</th>\n",
       "      <td>A/EGD/1000</td>\n",
       "      <td>EGD</td>\n",
       "      <td>1000.0</td>\n",
       "      <td>Christian</td>\n",
       "      <td>Aitkenhead</td>\n",
       "      <td>Christine</td>\n",
       "      <td>Aikenhead</td>\n",
       "      <td>NaN</td>\n",
       "      <td>NaN</td>\n",
       "      <td>NaN</td>\n",
       "      <td>...</td>\n",
       "      <td>NaN</td>\n",
       "      <td>NaN</td>\n",
       "      <td>NaN</td>\n",
       "      <td>NaN</td>\n",
       "      <td>NaN</td>\n",
       "      <td>NaN</td>\n",
       "      <td>LEM</td>\n",
       "      <td>07/18/01 16:13:27</td>\n",
       "      <td>jhm</td>\n",
       "      <td>10/01/02 10:48:24</td>\n",
       "    </tr>\n",
       "  </tbody>\n",
       "</table>\n",
       "<p>3 rows × 205 columns</p>\n",
       "</div>"
      ],
      "text/plain": [
       "   AccusedRef AccusedSystemId  AccusedID  FirstName    LastName M_Firstname  \\\n",
       "0    A/EGD/10             EGD       10.0     Mareon     Quheitt      Marion   \n",
       "1   A/EGD/100             EGD      100.0       Thom    Cockburn      Thomas   \n",
       "2  A/EGD/1000             EGD     1000.0  Christian  Aitkenhead   Christine   \n",
       "\n",
       "   M_Surname Alias Patronymic DesTitle  ... Exec_county  Exec_burgh  \\\n",
       "0      White   NaN        NaN      NaN  ...         NaN         NaN   \n",
       "1   Cockburn   NaN        NaN      NaN  ...         NaN         NaN   \n",
       "2  Aikenhead   NaN        NaN      NaN  ...         NaN         NaN   \n",
       "\n",
       "   Exec_NGR_Letters  Exec_NGR_Easting Exec_NGR_Northing PostTrialNotes  \\\n",
       "0               NaN               NaN               NaN            NaN   \n",
       "1               NaN               NaN               NaN            NaN   \n",
       "2               NaN               NaN               NaN            NaN   \n",
       "\n",
       "  Createdby_y       Createdate_y Lastupdatedby_y    Lastupdatedon_y  \n",
       "0         jhm  08/07/02 15:23:55             LEM  10/28/02 13:06:53  \n",
       "1         LEM  07/24/02 16:01:21             LEM  07/24/02 16:01:23  \n",
       "2         LEM  07/18/01 16:13:27             jhm  10/01/02 10:48:24  \n",
       "\n",
       "[3 rows x 205 columns]"
      ]
     },
     "execution_count": 3,
     "metadata": {},
     "output_type": "execute_result"
    }
   ],
   "source": [
    "#Quick overview of data\n",
    "data = pd.read_csv(\"data/derived_accused_cases_trials.csv\")\n",
    "data.head(3)"
   ]
  },
  {
   "cell_type": "code",
   "execution_count": 4,
   "id": "30bd66a5",
   "metadata": {},
   "outputs": [
    {
     "name": "stdout",
     "output_type": "stream",
     "text": [
      "The shape of our data: (3795, 205)\n"
     ]
    }
   ],
   "source": [
    "print(\"The shape of our data:\",data.shape)"
   ]
  },
  {
   "cell_type": "markdown",
   "id": "bb870382",
   "metadata": {},
   "source": [
    "### Preprocessing"
   ]
  },
  {
   "cell_type": "code",
   "execution_count": 5,
   "id": "9e2dd0d0",
   "metadata": {},
   "outputs": [],
   "source": [
    "# Features we are interested in \n",
    "list_of_trial_features = ['Execution', 'Noreftocentral', 'Localwithcrep', 'Circuit', 'Cjtorder', 'Defence', 'High_status', \n",
    "                          'Male_accusers', 'Female_accusers', 'Confrontingsuspects', 'ActionDropped', 'Fled', 'Arrest', \n",
    "                          'Watching', 'TrialType']\n",
    "\n",
    "list_of_accused_features = ['AccusedRef', 'M_Firstname', 'M_Surname', 'Alias', 'Patronymic', 'DesTitle', 'Sex', 'Age', \n",
    "                            'Res_settlement', 'Res_parish', 'Res_presbytery',  'Res_county', 'Res_burgh', 'Ethnic_origin', \n",
    "                            'MaritalStatus', 'SocioecStatus', 'Occupation', 'Notes']\n",
    "\n",
    "list_of_cases_features = ['CaseRef', 'CaseStart_date', 'CaseStart_date_as_date', 'Case_date', 'Case_date_as_date', 'Age_at_case', \n",
    "                          'CaseCommonName', 'Complaint', 'Correspondence', 'Chronicle', 'Suspects_text', 'Familiars', 'Shape-Changing', \n",
    "                          'Dreams/Visions', 'UnorthodoxReligiousPractice', 'SympatheticMagic', 'Ridingdead', 'FolkNotes', \n",
    "                          'HumanIllness', 'HumanDeath', 'AnimalIllness', 'AnimalDeath', 'FemaleInfertility', 'MaleImpotence', \n",
    "                          'AggravatingDisease', 'TransferringDisease', 'LayingOn', 'Removalbewitchment', 'Quarreling', 'Cursing', \n",
    "                          'Poisoning', 'RecHealer', 'HealingHumans', 'HealingAnimals', 'Midwifery', 'DiseaseNotes', 'PropertyDamage', \n",
    "                          'WeatherModification', 'OtherMaleficiaNotes', 'OtherChargesNotes', 'ClaimedBewitched', 'ClaimedPossessed', \n",
    "                          'AdmitLesserCharge', 'ClaimedNaturalCauses', 'Nodefence', 'DefenseNotes', 'CaseNotes', 'PoliticalMotive_s', \n",
    "                          'PropertyMotive_p', 'PropertyMotive_s', 'RefusedCharity_p', 'RefusedCharity_s', 'Treason_p', 'Treason_s', \n",
    "                          'Other_p', 'Other_s', 'OtherText', 'NotEnoughInfo_p', 'NotEnoughInfo_s', 'WhiteMagic_p', 'WhiteMagic_s', \n",
    "                          'Charnotes', 'DemonicPact', 'DevilNotes', 'WitchesMeeting', 'MeetingName', 'DevilPresent', 'Maleficium', \n",
    "                          'CommunalSex', 'DevilWorship', 'FoodAndDrink', 'Dancing', 'Singing', 'SingingText', 'OtherPractices', \n",
    "                          'MeetingNotes', 'Elphane/Fairyland', 'Food/Drink', 'SpecificVerbalFormulae', 'SpecificRitualActs', \n",
    "                          'UNorthodoxRelPract_p', 'UNorthodoxRelPract_s', 'Consulting_p', 'Consulting_s', 'Demonic_p', 'Demonic_s', \n",
    "                          'Demonic_possess_p', 'Demonic_possess_s', 'Fairies_p', 'Fairies_s', 'Folk_healing_p', 'Folk_healing_s', \n",
    "                          'Maleficium_p', 'Maleficium_s', 'Midwifery_p', 'Midwifery_s', 'ImplicatedByAnother_p', 'ImplicatedByAnother_s', \n",
    "                          'Neighbhd_dispute_p', 'Neighbhd_dispute_s', 'PoliticalMotive_p']"
   ]
  },
  {
   "cell_type": "code",
   "execution_count": 6,
   "id": "79b725f0",
   "metadata": {},
   "outputs": [],
   "source": [
    "#Limit data to important features.\n",
    "all_features = list_of_accused_features + list_of_cases_features + list_of_trial_features\n",
    "df = data[all_features]"
   ]
  },
  {
   "cell_type": "code",
   "execution_count": 7,
   "id": "5eb09a2b",
   "metadata": {},
   "outputs": [],
   "source": [
    "#Drop columns with more than 70% missing values. This helps us weed out less important features\n",
    "percent_non_null = 0.7\n",
    "df = df.dropna(axis = 1, thresh=df.shape[0]*percent_non_null)"
   ]
  },
  {
   "cell_type": "code",
   "execution_count": 8,
   "id": "2b03ab6d",
   "metadata": {},
   "outputs": [
    {
     "data": {
      "text/html": [
       "<div>\n",
       "<style scoped>\n",
       "    .dataframe tbody tr th:only-of-type {\n",
       "        vertical-align: middle;\n",
       "    }\n",
       "\n",
       "    .dataframe tbody tr th {\n",
       "        vertical-align: top;\n",
       "    }\n",
       "\n",
       "    .dataframe thead th {\n",
       "        text-align: right;\n",
       "    }\n",
       "</style>\n",
       "<table border=\"1\" class=\"dataframe\">\n",
       "  <thead>\n",
       "    <tr style=\"text-align: right;\">\n",
       "      <th></th>\n",
       "      <th>AccusedRef</th>\n",
       "      <th>M_Firstname</th>\n",
       "      <th>M_Surname</th>\n",
       "      <th>Sex</th>\n",
       "      <th>Res_presbytery</th>\n",
       "      <th>Res_county</th>\n",
       "      <th>CaseRef</th>\n",
       "      <th>CaseStart_date</th>\n",
       "      <th>CaseStart_date_as_date</th>\n",
       "      <th>Case_date</th>\n",
       "      <th>...</th>\n",
       "      <th>Defence</th>\n",
       "      <th>High_status</th>\n",
       "      <th>Male_accusers</th>\n",
       "      <th>Female_accusers</th>\n",
       "      <th>Confrontingsuspects</th>\n",
       "      <th>ActionDropped</th>\n",
       "      <th>Fled</th>\n",
       "      <th>Arrest</th>\n",
       "      <th>Watching</th>\n",
       "      <th>TrialType</th>\n",
       "    </tr>\n",
       "  </thead>\n",
       "  <tbody>\n",
       "    <tr>\n",
       "      <th>count</th>\n",
       "      <td>3594</td>\n",
       "      <td>3550</td>\n",
       "      <td>3558</td>\n",
       "      <td>3544</td>\n",
       "      <td>2799</td>\n",
       "      <td>3474</td>\n",
       "      <td>3788</td>\n",
       "      <td>2971</td>\n",
       "      <td>2971</td>\n",
       "      <td>3774</td>\n",
       "      <td>...</td>\n",
       "      <td>3211.000000</td>\n",
       "      <td>3211.000000</td>\n",
       "      <td>3209.000000</td>\n",
       "      <td>3208.000000</td>\n",
       "      <td>3211.000000</td>\n",
       "      <td>3211.000000</td>\n",
       "      <td>3211.00000</td>\n",
       "      <td>3211.000000</td>\n",
       "      <td>3211.000000</td>\n",
       "      <td>3211.000000</td>\n",
       "    </tr>\n",
       "    <tr>\n",
       "      <th>unique</th>\n",
       "      <td>3219</td>\n",
       "      <td>159</td>\n",
       "      <td>1168</td>\n",
       "      <td>2</td>\n",
       "      <td>74</td>\n",
       "      <td>34</td>\n",
       "      <td>3413</td>\n",
       "      <td>956</td>\n",
       "      <td>937</td>\n",
       "      <td>1164</td>\n",
       "      <td>...</td>\n",
       "      <td>NaN</td>\n",
       "      <td>NaN</td>\n",
       "      <td>NaN</td>\n",
       "      <td>NaN</td>\n",
       "      <td>NaN</td>\n",
       "      <td>NaN</td>\n",
       "      <td>NaN</td>\n",
       "      <td>NaN</td>\n",
       "      <td>NaN</td>\n",
       "      <td>NaN</td>\n",
       "    </tr>\n",
       "    <tr>\n",
       "      <th>top</th>\n",
       "      <td>A/EGD/1342</td>\n",
       "      <td>Janet</td>\n",
       "      <td>Thomson</td>\n",
       "      <td>Female</td>\n",
       "      <td>Haddington</td>\n",
       "      <td>Haddington</td>\n",
       "      <td>C/EGD/1545</td>\n",
       "      <td>1649</td>\n",
       "      <td>06/01/49 00:00:00</td>\n",
       "      <td>17/4/1662</td>\n",
       "      <td>...</td>\n",
       "      <td>NaN</td>\n",
       "      <td>NaN</td>\n",
       "      <td>NaN</td>\n",
       "      <td>NaN</td>\n",
       "      <td>NaN</td>\n",
       "      <td>NaN</td>\n",
       "      <td>NaN</td>\n",
       "      <td>NaN</td>\n",
       "      <td>NaN</td>\n",
       "      <td>NaN</td>\n",
       "    </tr>\n",
       "    <tr>\n",
       "      <th>freq</th>\n",
       "      <td>3</td>\n",
       "      <td>544</td>\n",
       "      <td>66</td>\n",
       "      <td>3030</td>\n",
       "      <td>459</td>\n",
       "      <td>658</td>\n",
       "      <td>3</td>\n",
       "      <td>62</td>\n",
       "      <td>62</td>\n",
       "      <td>93</td>\n",
       "      <td>...</td>\n",
       "      <td>NaN</td>\n",
       "      <td>NaN</td>\n",
       "      <td>NaN</td>\n",
       "      <td>NaN</td>\n",
       "      <td>NaN</td>\n",
       "      <td>NaN</td>\n",
       "      <td>NaN</td>\n",
       "      <td>NaN</td>\n",
       "      <td>NaN</td>\n",
       "      <td>NaN</td>\n",
       "    </tr>\n",
       "    <tr>\n",
       "      <th>mean</th>\n",
       "      <td>NaN</td>\n",
       "      <td>NaN</td>\n",
       "      <td>NaN</td>\n",
       "      <td>NaN</td>\n",
       "      <td>NaN</td>\n",
       "      <td>NaN</td>\n",
       "      <td>NaN</td>\n",
       "      <td>NaN</td>\n",
       "      <td>NaN</td>\n",
       "      <td>NaN</td>\n",
       "      <td>...</td>\n",
       "      <td>0.013080</td>\n",
       "      <td>0.008409</td>\n",
       "      <td>0.418199</td>\n",
       "      <td>0.255923</td>\n",
       "      <td>0.032077</td>\n",
       "      <td>0.012457</td>\n",
       "      <td>0.03052</td>\n",
       "      <td>0.151355</td>\n",
       "      <td>0.006851</td>\n",
       "      <td>2.536593</td>\n",
       "    </tr>\n",
       "    <tr>\n",
       "      <th>std</th>\n",
       "      <td>NaN</td>\n",
       "      <td>NaN</td>\n",
       "      <td>NaN</td>\n",
       "      <td>NaN</td>\n",
       "      <td>NaN</td>\n",
       "      <td>NaN</td>\n",
       "      <td>NaN</td>\n",
       "      <td>NaN</td>\n",
       "      <td>NaN</td>\n",
       "      <td>NaN</td>\n",
       "      <td>...</td>\n",
       "      <td>0.113635</td>\n",
       "      <td>0.091326</td>\n",
       "      <td>2.510500</td>\n",
       "      <td>1.627914</td>\n",
       "      <td>0.176233</td>\n",
       "      <td>0.110932</td>\n",
       "      <td>0.17204</td>\n",
       "      <td>0.358450</td>\n",
       "      <td>0.082502</td>\n",
       "      <td>0.927673</td>\n",
       "    </tr>\n",
       "    <tr>\n",
       "      <th>min</th>\n",
       "      <td>NaN</td>\n",
       "      <td>NaN</td>\n",
       "      <td>NaN</td>\n",
       "      <td>NaN</td>\n",
       "      <td>NaN</td>\n",
       "      <td>NaN</td>\n",
       "      <td>NaN</td>\n",
       "      <td>NaN</td>\n",
       "      <td>NaN</td>\n",
       "      <td>NaN</td>\n",
       "      <td>...</td>\n",
       "      <td>0.000000</td>\n",
       "      <td>0.000000</td>\n",
       "      <td>0.000000</td>\n",
       "      <td>0.000000</td>\n",
       "      <td>0.000000</td>\n",
       "      <td>0.000000</td>\n",
       "      <td>0.00000</td>\n",
       "      <td>0.000000</td>\n",
       "      <td>0.000000</td>\n",
       "      <td>1.000000</td>\n",
       "    </tr>\n",
       "    <tr>\n",
       "      <th>25%</th>\n",
       "      <td>NaN</td>\n",
       "      <td>NaN</td>\n",
       "      <td>NaN</td>\n",
       "      <td>NaN</td>\n",
       "      <td>NaN</td>\n",
       "      <td>NaN</td>\n",
       "      <td>NaN</td>\n",
       "      <td>NaN</td>\n",
       "      <td>NaN</td>\n",
       "      <td>NaN</td>\n",
       "      <td>...</td>\n",
       "      <td>0.000000</td>\n",
       "      <td>0.000000</td>\n",
       "      <td>0.000000</td>\n",
       "      <td>0.000000</td>\n",
       "      <td>0.000000</td>\n",
       "      <td>0.000000</td>\n",
       "      <td>0.00000</td>\n",
       "      <td>0.000000</td>\n",
       "      <td>0.000000</td>\n",
       "      <td>2.000000</td>\n",
       "    </tr>\n",
       "    <tr>\n",
       "      <th>50%</th>\n",
       "      <td>NaN</td>\n",
       "      <td>NaN</td>\n",
       "      <td>NaN</td>\n",
       "      <td>NaN</td>\n",
       "      <td>NaN</td>\n",
       "      <td>NaN</td>\n",
       "      <td>NaN</td>\n",
       "      <td>NaN</td>\n",
       "      <td>NaN</td>\n",
       "      <td>NaN</td>\n",
       "      <td>...</td>\n",
       "      <td>0.000000</td>\n",
       "      <td>0.000000</td>\n",
       "      <td>0.000000</td>\n",
       "      <td>0.000000</td>\n",
       "      <td>0.000000</td>\n",
       "      <td>0.000000</td>\n",
       "      <td>0.00000</td>\n",
       "      <td>0.000000</td>\n",
       "      <td>0.000000</td>\n",
       "      <td>2.000000</td>\n",
       "    </tr>\n",
       "    <tr>\n",
       "      <th>75%</th>\n",
       "      <td>NaN</td>\n",
       "      <td>NaN</td>\n",
       "      <td>NaN</td>\n",
       "      <td>NaN</td>\n",
       "      <td>NaN</td>\n",
       "      <td>NaN</td>\n",
       "      <td>NaN</td>\n",
       "      <td>NaN</td>\n",
       "      <td>NaN</td>\n",
       "      <td>NaN</td>\n",
       "      <td>...</td>\n",
       "      <td>0.000000</td>\n",
       "      <td>0.000000</td>\n",
       "      <td>0.000000</td>\n",
       "      <td>0.000000</td>\n",
       "      <td>0.000000</td>\n",
       "      <td>0.000000</td>\n",
       "      <td>0.00000</td>\n",
       "      <td>0.000000</td>\n",
       "      <td>0.000000</td>\n",
       "      <td>4.000000</td>\n",
       "    </tr>\n",
       "    <tr>\n",
       "      <th>max</th>\n",
       "      <td>NaN</td>\n",
       "      <td>NaN</td>\n",
       "      <td>NaN</td>\n",
       "      <td>NaN</td>\n",
       "      <td>NaN</td>\n",
       "      <td>NaN</td>\n",
       "      <td>NaN</td>\n",
       "      <td>NaN</td>\n",
       "      <td>NaN</td>\n",
       "      <td>NaN</td>\n",
       "      <td>...</td>\n",
       "      <td>1.000000</td>\n",
       "      <td>1.000000</td>\n",
       "      <td>48.000000</td>\n",
       "      <td>27.000000</td>\n",
       "      <td>1.000000</td>\n",
       "      <td>1.000000</td>\n",
       "      <td>1.00000</td>\n",
       "      <td>1.000000</td>\n",
       "      <td>1.000000</td>\n",
       "      <td>4.000000</td>\n",
       "    </tr>\n",
       "  </tbody>\n",
       "</table>\n",
       "<p>11 rows × 104 columns</p>\n",
       "</div>"
      ],
      "text/plain": [
       "        AccusedRef M_Firstname M_Surname     Sex Res_presbytery  Res_county  \\\n",
       "count         3594        3550      3558    3544           2799        3474   \n",
       "unique        3219         159      1168       2             74          34   \n",
       "top     A/EGD/1342       Janet   Thomson  Female     Haddington  Haddington   \n",
       "freq             3         544        66    3030            459         658   \n",
       "mean           NaN         NaN       NaN     NaN            NaN         NaN   \n",
       "std            NaN         NaN       NaN     NaN            NaN         NaN   \n",
       "min            NaN         NaN       NaN     NaN            NaN         NaN   \n",
       "25%            NaN         NaN       NaN     NaN            NaN         NaN   \n",
       "50%            NaN         NaN       NaN     NaN            NaN         NaN   \n",
       "75%            NaN         NaN       NaN     NaN            NaN         NaN   \n",
       "max            NaN         NaN       NaN     NaN            NaN         NaN   \n",
       "\n",
       "           CaseRef CaseStart_date CaseStart_date_as_date  Case_date  ...  \\\n",
       "count         3788           2971                   2971       3774  ...   \n",
       "unique        3413            956                    937       1164  ...   \n",
       "top     C/EGD/1545           1649      06/01/49 00:00:00  17/4/1662  ...   \n",
       "freq             3             62                     62         93  ...   \n",
       "mean           NaN            NaN                    NaN        NaN  ...   \n",
       "std            NaN            NaN                    NaN        NaN  ...   \n",
       "min            NaN            NaN                    NaN        NaN  ...   \n",
       "25%            NaN            NaN                    NaN        NaN  ...   \n",
       "50%            NaN            NaN                    NaN        NaN  ...   \n",
       "75%            NaN            NaN                    NaN        NaN  ...   \n",
       "max            NaN            NaN                    NaN        NaN  ...   \n",
       "\n",
       "            Defence  High_status  Male_accusers  Female_accusers  \\\n",
       "count   3211.000000  3211.000000    3209.000000      3208.000000   \n",
       "unique          NaN          NaN            NaN              NaN   \n",
       "top             NaN          NaN            NaN              NaN   \n",
       "freq            NaN          NaN            NaN              NaN   \n",
       "mean       0.013080     0.008409       0.418199         0.255923   \n",
       "std        0.113635     0.091326       2.510500         1.627914   \n",
       "min        0.000000     0.000000       0.000000         0.000000   \n",
       "25%        0.000000     0.000000       0.000000         0.000000   \n",
       "50%        0.000000     0.000000       0.000000         0.000000   \n",
       "75%        0.000000     0.000000       0.000000         0.000000   \n",
       "max        1.000000     1.000000      48.000000        27.000000   \n",
       "\n",
       "        Confrontingsuspects  ActionDropped        Fled       Arrest  \\\n",
       "count           3211.000000    3211.000000  3211.00000  3211.000000   \n",
       "unique                  NaN            NaN         NaN          NaN   \n",
       "top                     NaN            NaN         NaN          NaN   \n",
       "freq                    NaN            NaN         NaN          NaN   \n",
       "mean               0.032077       0.012457     0.03052     0.151355   \n",
       "std                0.176233       0.110932     0.17204     0.358450   \n",
       "min                0.000000       0.000000     0.00000     0.000000   \n",
       "25%                0.000000       0.000000     0.00000     0.000000   \n",
       "50%                0.000000       0.000000     0.00000     0.000000   \n",
       "75%                0.000000       0.000000     0.00000     0.000000   \n",
       "max                1.000000       1.000000     1.00000     1.000000   \n",
       "\n",
       "           Watching    TrialType  \n",
       "count   3211.000000  3211.000000  \n",
       "unique          NaN          NaN  \n",
       "top             NaN          NaN  \n",
       "freq            NaN          NaN  \n",
       "mean       0.006851     2.536593  \n",
       "std        0.082502     0.927673  \n",
       "min        0.000000     1.000000  \n",
       "25%        0.000000     2.000000  \n",
       "50%        0.000000     2.000000  \n",
       "75%        0.000000     4.000000  \n",
       "max        1.000000     4.000000  \n",
       "\n",
       "[11 rows x 104 columns]"
      ]
     },
     "execution_count": 8,
     "metadata": {},
     "output_type": "execute_result"
    }
   ],
   "source": [
    "df.describe(include=\"all\")"
   ]
  },
  {
   "cell_type": "code",
   "execution_count": 9,
   "id": "b258fd55",
   "metadata": {},
   "outputs": [],
   "source": [
    "#Return % of null values\n",
    "percent_missing = df.isnull().sum() * 100 / len(df)\n",
    "missing_value_df = pd.DataFrame({'column_name': df.columns,\n",
    "                                 'percent_missing': percent_missing})"
   ]
  },
  {
   "cell_type": "code",
   "execution_count": 10,
   "id": "b1dfda6e",
   "metadata": {},
   "outputs": [
    {
     "data": {
      "text/html": [
       "<div>\n",
       "<style scoped>\n",
       "    .dataframe tbody tr th:only-of-type {\n",
       "        vertical-align: middle;\n",
       "    }\n",
       "\n",
       "    .dataframe tbody tr th {\n",
       "        vertical-align: top;\n",
       "    }\n",
       "\n",
       "    .dataframe thead th {\n",
       "        text-align: right;\n",
       "    }\n",
       "</style>\n",
       "<table border=\"1\" class=\"dataframe\">\n",
       "  <thead>\n",
       "    <tr style=\"text-align: right;\">\n",
       "      <th></th>\n",
       "      <th>column_name</th>\n",
       "      <th>percent_missing</th>\n",
       "    </tr>\n",
       "  </thead>\n",
       "  <tbody>\n",
       "    <tr>\n",
       "      <th>Res_presbytery</th>\n",
       "      <td>Res_presbytery</td>\n",
       "      <td>26.245059</td>\n",
       "    </tr>\n",
       "    <tr>\n",
       "      <th>CaseStart_date</th>\n",
       "      <td>CaseStart_date</td>\n",
       "      <td>21.712780</td>\n",
       "    </tr>\n",
       "    <tr>\n",
       "      <th>CaseStart_date_as_date</th>\n",
       "      <td>CaseStart_date_as_date</td>\n",
       "      <td>21.712780</td>\n",
       "    </tr>\n",
       "    <tr>\n",
       "      <th>Female_accusers</th>\n",
       "      <td>Female_accusers</td>\n",
       "      <td>15.467721</td>\n",
       "    </tr>\n",
       "    <tr>\n",
       "      <th>Male_accusers</th>\n",
       "      <td>Male_accusers</td>\n",
       "      <td>15.441370</td>\n",
       "    </tr>\n",
       "  </tbody>\n",
       "</table>\n",
       "</div>"
      ],
      "text/plain": [
       "                                   column_name  percent_missing\n",
       "Res_presbytery                  Res_presbytery        26.245059\n",
       "CaseStart_date                  CaseStart_date        21.712780\n",
       "CaseStart_date_as_date  CaseStart_date_as_date        21.712780\n",
       "Female_accusers                Female_accusers        15.467721\n",
       "Male_accusers                    Male_accusers        15.441370"
      ]
     },
     "execution_count": 10,
     "metadata": {},
     "output_type": "execute_result"
    }
   ],
   "source": [
    "missing_value_df.sort_values(\"percent_missing\", ascending=False).head(5)"
   ]
  },
  {
   "cell_type": "code",
   "execution_count": 11,
   "id": "7e00c181",
   "metadata": {},
   "outputs": [],
   "source": [
    "#Return % of NA values\n",
    "percent_missing = df.isna().sum() * 100 / len(df)\n",
    "missing_value_df = pd.DataFrame({'column_name': df.columns,\n",
    "                                 'percent_missing': percent_missing})"
   ]
  },
  {
   "cell_type": "code",
   "execution_count": 12,
   "id": "d2aeebfc",
   "metadata": {},
   "outputs": [
    {
     "data": {
      "text/html": [
       "<div>\n",
       "<style scoped>\n",
       "    .dataframe tbody tr th:only-of-type {\n",
       "        vertical-align: middle;\n",
       "    }\n",
       "\n",
       "    .dataframe tbody tr th {\n",
       "        vertical-align: top;\n",
       "    }\n",
       "\n",
       "    .dataframe thead th {\n",
       "        text-align: right;\n",
       "    }\n",
       "</style>\n",
       "<table border=\"1\" class=\"dataframe\">\n",
       "  <thead>\n",
       "    <tr style=\"text-align: right;\">\n",
       "      <th></th>\n",
       "      <th>column_name</th>\n",
       "      <th>percent_missing</th>\n",
       "    </tr>\n",
       "  </thead>\n",
       "  <tbody>\n",
       "    <tr>\n",
       "      <th>NotEnoughInfo_p</th>\n",
       "      <td>NotEnoughInfo_p</td>\n",
       "      <td>0.184453</td>\n",
       "    </tr>\n",
       "    <tr>\n",
       "      <th>DevilPresent</th>\n",
       "      <td>DevilPresent</td>\n",
       "      <td>0.184453</td>\n",
       "    </tr>\n",
       "    <tr>\n",
       "      <th>WitchesMeeting</th>\n",
       "      <td>WitchesMeeting</td>\n",
       "      <td>0.184453</td>\n",
       "    </tr>\n",
       "    <tr>\n",
       "      <th>DemonicPact</th>\n",
       "      <td>DemonicPact</td>\n",
       "      <td>0.184453</td>\n",
       "    </tr>\n",
       "    <tr>\n",
       "      <th>WhiteMagic_s</th>\n",
       "      <td>WhiteMagic_s</td>\n",
       "      <td>0.184453</td>\n",
       "    </tr>\n",
       "  </tbody>\n",
       "</table>\n",
       "</div>"
      ],
      "text/plain": [
       "                     column_name  percent_missing\n",
       "NotEnoughInfo_p  NotEnoughInfo_p         0.184453\n",
       "DevilPresent        DevilPresent         0.184453\n",
       "WitchesMeeting    WitchesMeeting         0.184453\n",
       "DemonicPact          DemonicPact         0.184453\n",
       "WhiteMagic_s        WhiteMagic_s         0.184453"
      ]
     },
     "execution_count": 12,
     "metadata": {},
     "output_type": "execute_result"
    }
   ],
   "source": [
    "missing_value_df.sort_values(\"percent_missing\", ascending=True).head(5)\n"
   ]
  },
  {
   "cell_type": "markdown",
   "id": "e8e0930f",
   "metadata": {},
   "source": [
    "Within our usable columns, let's choose some features that can be useful in determining execution. "
   ]
  },
  {
   "cell_type": "code",
   "execution_count": 13,
   "id": "bfdd4d03",
   "metadata": {},
   "outputs": [],
   "source": [
    "important_features = ['Execution', 'Arrest', 'Fled', 'ActionDropped', 'High_status', 'Male_accusers', 'Female_accusers', \n",
    "                      'WhiteMagic_p', 'WhiteMagic_s', 'Folk_healing_p', 'Folk_healing_s', 'Demonic_possess_p', 'Demonic_possess_s', \n",
    "                     'UNorthodoxRelPract_p', 'UNorthodoxRelPract_s', 'UnorthodoxReligiousPractice', 'HealingHumans', 'HealingAnimals', \n",
    "                     'Neighbhd_dispute_p', 'Neighbhd_dispute_s', 'PoliticalMotive_p', 'PoliticalMotive_s', 'PropertyMotive_p', 'PropertyMotive_s', \n",
    "                     'RefusedCharity_p', 'RefusedCharity_s', 'Treason_p', 'Treason_s', 'Quarreling', 'Cursing', 'Poisoning', 'RecHealer', \n",
    "                     'Dancing', 'Singing', 'Midwifery']"
   ]
  },
  {
   "cell_type": "markdown",
   "id": "1ebb5bd4",
   "metadata": {},
   "source": [
    "Let's look at some of the distributions of these features, including Execution itself. We'll first exclude the ones that aren't binary. When the value of a feature is 1, that means that feature was a reason behind someone's accusation. For example, for Quarreling, a 1 means that the person quarreling (with strangers, neighbors, etc.) was one reason behind why they were accused of being a witch. A 0 means it wasn't a reason. Some variables have a p or s attached, in which case p means it was a primary reason for accusation, and s secondary. "
   ]
  },
  {
   "cell_type": "code",
   "execution_count": 14,
   "id": "d0c26503",
   "metadata": {},
   "outputs": [
    {
     "data": {
      "text/html": [
       "<div>\n",
       "<style scoped>\n",
       "    .dataframe tbody tr th:only-of-type {\n",
       "        vertical-align: middle;\n",
       "    }\n",
       "\n",
       "    .dataframe tbody tr th {\n",
       "        vertical-align: top;\n",
       "    }\n",
       "\n",
       "    .dataframe thead th {\n",
       "        text-align: right;\n",
       "    }\n",
       "</style>\n",
       "<table border=\"1\" class=\"dataframe\">\n",
       "  <thead>\n",
       "    <tr style=\"text-align: right;\">\n",
       "      <th></th>\n",
       "      <th>0</th>\n",
       "      <th>1</th>\n",
       "    </tr>\n",
       "  </thead>\n",
       "  <tbody>\n",
       "    <tr>\n",
       "      <th>Execution</th>\n",
       "      <td>2981</td>\n",
       "      <td>230</td>\n",
       "    </tr>\n",
       "    <tr>\n",
       "      <th>Arrest</th>\n",
       "      <td>2725</td>\n",
       "      <td>486</td>\n",
       "    </tr>\n",
       "    <tr>\n",
       "      <th>Fled</th>\n",
       "      <td>3113</td>\n",
       "      <td>98</td>\n",
       "    </tr>\n",
       "    <tr>\n",
       "      <th>ActionDropped</th>\n",
       "      <td>3171</td>\n",
       "      <td>40</td>\n",
       "    </tr>\n",
       "    <tr>\n",
       "      <th>High_status</th>\n",
       "      <td>3184</td>\n",
       "      <td>27</td>\n",
       "    </tr>\n",
       "    <tr>\n",
       "      <th>WhiteMagic_p</th>\n",
       "      <td>3781</td>\n",
       "      <td>7</td>\n",
       "    </tr>\n",
       "    <tr>\n",
       "      <th>WhiteMagic_s</th>\n",
       "      <td>3695</td>\n",
       "      <td>93</td>\n",
       "    </tr>\n",
       "    <tr>\n",
       "      <th>Folk_healing_p</th>\n",
       "      <td>3740</td>\n",
       "      <td>48</td>\n",
       "    </tr>\n",
       "    <tr>\n",
       "      <th>Folk_healing_s</th>\n",
       "      <td>3618</td>\n",
       "      <td>170</td>\n",
       "    </tr>\n",
       "    <tr>\n",
       "      <th>Demonic_possess_p</th>\n",
       "      <td>3730</td>\n",
       "      <td>58</td>\n",
       "    </tr>\n",
       "    <tr>\n",
       "      <th>Demonic_possess_s</th>\n",
       "      <td>3701</td>\n",
       "      <td>87</td>\n",
       "    </tr>\n",
       "    <tr>\n",
       "      <th>UNorthodoxRelPract_p</th>\n",
       "      <td>3788</td>\n",
       "      <td>0</td>\n",
       "    </tr>\n",
       "    <tr>\n",
       "      <th>UNorthodoxRelPract_s</th>\n",
       "      <td>3677</td>\n",
       "      <td>111</td>\n",
       "    </tr>\n",
       "    <tr>\n",
       "      <th>UnorthodoxReligiousPractice</th>\n",
       "      <td>3677</td>\n",
       "      <td>111</td>\n",
       "    </tr>\n",
       "    <tr>\n",
       "      <th>HealingHumans</th>\n",
       "      <td>3646</td>\n",
       "      <td>142</td>\n",
       "    </tr>\n",
       "    <tr>\n",
       "      <th>HealingAnimals</th>\n",
       "      <td>3726</td>\n",
       "      <td>62</td>\n",
       "    </tr>\n",
       "    <tr>\n",
       "      <th>Neighbhd_dispute_p</th>\n",
       "      <td>3723</td>\n",
       "      <td>65</td>\n",
       "    </tr>\n",
       "    <tr>\n",
       "      <th>Neighbhd_dispute_s</th>\n",
       "      <td>3633</td>\n",
       "      <td>155</td>\n",
       "    </tr>\n",
       "    <tr>\n",
       "      <th>PoliticalMotive_p</th>\n",
       "      <td>3785</td>\n",
       "      <td>3</td>\n",
       "    </tr>\n",
       "    <tr>\n",
       "      <th>PoliticalMotive_s</th>\n",
       "      <td>3718</td>\n",
       "      <td>70</td>\n",
       "    </tr>\n",
       "    <tr>\n",
       "      <th>PropertyMotive_p</th>\n",
       "      <td>3782</td>\n",
       "      <td>6</td>\n",
       "    </tr>\n",
       "    <tr>\n",
       "      <th>PropertyMotive_s</th>\n",
       "      <td>3710</td>\n",
       "      <td>78</td>\n",
       "    </tr>\n",
       "    <tr>\n",
       "      <th>RefusedCharity_p</th>\n",
       "      <td>3778</td>\n",
       "      <td>10</td>\n",
       "    </tr>\n",
       "    <tr>\n",
       "      <th>RefusedCharity_s</th>\n",
       "      <td>3765</td>\n",
       "      <td>23</td>\n",
       "    </tr>\n",
       "    <tr>\n",
       "      <th>Treason_p</th>\n",
       "      <td>3782</td>\n",
       "      <td>6</td>\n",
       "    </tr>\n",
       "    <tr>\n",
       "      <th>Treason_s</th>\n",
       "      <td>3757</td>\n",
       "      <td>31</td>\n",
       "    </tr>\n",
       "    <tr>\n",
       "      <th>Quarreling</th>\n",
       "      <td>3616</td>\n",
       "      <td>172</td>\n",
       "    </tr>\n",
       "    <tr>\n",
       "      <th>Cursing</th>\n",
       "      <td>3623</td>\n",
       "      <td>165</td>\n",
       "    </tr>\n",
       "    <tr>\n",
       "      <th>Poisoning</th>\n",
       "      <td>3765</td>\n",
       "      <td>23</td>\n",
       "    </tr>\n",
       "    <tr>\n",
       "      <th>RecHealer</th>\n",
       "      <td>3733</td>\n",
       "      <td>55</td>\n",
       "    </tr>\n",
       "    <tr>\n",
       "      <th>Dancing</th>\n",
       "      <td>3633</td>\n",
       "      <td>155</td>\n",
       "    </tr>\n",
       "    <tr>\n",
       "      <th>Singing</th>\n",
       "      <td>3764</td>\n",
       "      <td>24</td>\n",
       "    </tr>\n",
       "    <tr>\n",
       "      <th>Midwifery</th>\n",
       "      <td>3772</td>\n",
       "      <td>16</td>\n",
       "    </tr>\n",
       "  </tbody>\n",
       "</table>\n",
       "</div>"
      ],
      "text/plain": [
       "                                0    1\n",
       "Execution                    2981  230\n",
       "Arrest                       2725  486\n",
       "Fled                         3113   98\n",
       "ActionDropped                3171   40\n",
       "High_status                  3184   27\n",
       "WhiteMagic_p                 3781    7\n",
       "WhiteMagic_s                 3695   93\n",
       "Folk_healing_p               3740   48\n",
       "Folk_healing_s               3618  170\n",
       "Demonic_possess_p            3730   58\n",
       "Demonic_possess_s            3701   87\n",
       "UNorthodoxRelPract_p         3788    0\n",
       "UNorthodoxRelPract_s         3677  111\n",
       "UnorthodoxReligiousPractice  3677  111\n",
       "HealingHumans                3646  142\n",
       "HealingAnimals               3726   62\n",
       "Neighbhd_dispute_p           3723   65\n",
       "Neighbhd_dispute_s           3633  155\n",
       "PoliticalMotive_p            3785    3\n",
       "PoliticalMotive_s            3718   70\n",
       "PropertyMotive_p             3782    6\n",
       "PropertyMotive_s             3710   78\n",
       "RefusedCharity_p             3778   10\n",
       "RefusedCharity_s             3765   23\n",
       "Treason_p                    3782    6\n",
       "Treason_s                    3757   31\n",
       "Quarreling                   3616  172\n",
       "Cursing                      3623  165\n",
       "Poisoning                    3765   23\n",
       "RecHealer                    3733   55\n",
       "Dancing                      3633  155\n",
       "Singing                      3764   24\n",
       "Midwifery                    3772   16"
      ]
     },
     "execution_count": 14,
     "metadata": {},
     "output_type": "execute_result"
    }
   ],
   "source": [
    "num_0s = []\n",
    "num_1s = []\n",
    "#Return dataframe of lists of outcomes == 1 and outcomes == 0\n",
    "for feature in important_features:\n",
    "    value_counts = data[feature].value_counts()\n",
    "    if len(value_counts) == 2:\n",
    "        num_0s.append(value_counts[0])\n",
    "        num_1s.append(value_counts[1])\n",
    "    # And just in case any column would happen to have all 0's\n",
    "    if len(value_counts) == 1:\n",
    "        num_0s.append(value_counts[0])\n",
    "        num_1s.append(0)\n",
    "\n",
    "\n",
    "pd.DataFrame(list(zip(num_0s, num_1s)), index = [i for i in important_features if len(data[i].value_counts()) <= 2], \n",
    "                                                 columns = [0, 1])"
   ]
  },
  {
   "cell_type": "markdown",
   "id": "0161753f",
   "metadata": {},
   "source": [
    "Now let's look at the two features that aren't binary, the number of male and female accusers the accused had. "
   ]
  },
  {
   "cell_type": "code",
   "execution_count": 15,
   "id": "fefa063a",
   "metadata": {},
   "outputs": [
    {
     "data": {
      "text/plain": [
       "<AxesSubplot:ylabel='Frequency'>"
      ]
     },
     "execution_count": 15,
     "metadata": {},
     "output_type": "execute_result"
    },
    {
     "data": {
      "image/png": "[encoded data removed]",
      "text/plain": [
       "<Figure size 432x288 with 1 Axes>"
      ]
     },
     "metadata": {
      "needs_background": "light"
     },
     "output_type": "display_data"
    }
   ],
   "source": [
    "data.Male_accusers.plot.hist(bins = 30, xlim = (0,30))"
   ]
  },
  {
   "cell_type": "code",
   "execution_count": 16,
   "id": "154c3c79",
   "metadata": {},
   "outputs": [
    {
     "data": {
      "text/plain": [
       "<AxesSubplot:ylabel='Frequency'>"
      ]
     },
     "execution_count": 16,
     "metadata": {},
     "output_type": "execute_result"
    },
    {
     "data": {
      "image/png": "[encoded data removed]",
      "text/plain": [
       "<Figure size 432x288 with 1 Axes>"
      ]
     },
     "metadata": {
      "needs_background": "light"
     },
     "output_type": "display_data"
    }
   ],
   "source": [
    "data.Female_accusers.plot.hist(bins = 30, xlim = (0,30))"
   ]
  },
  {
   "cell_type": "code",
   "execution_count": 17,
   "id": "39c779a2",
   "metadata": {},
   "outputs": [],
   "source": [
    "#Create new df with important features only\n",
    "df_important_features = df[important_features]"
   ]
  },
  {
   "cell_type": "code",
   "execution_count": 18,
   "id": "4682f249",
   "metadata": {},
   "outputs": [],
   "source": [
    "# Add the sex column, but changed to 0-1 format\n",
    "df_sex = pd.get_dummies(df.Sex)\n",
    "df_important_features = pd.concat((df_sex, df_important_features), axis = 1)"
   ]
  },
  {
   "cell_type": "code",
   "execution_count": 19,
   "id": "f41fdbcc",
   "metadata": {},
   "outputs": [],
   "source": [
    "df_important_features = df_important_features.drop(['Male'], axis = 1)\n",
    "df_important_features = df_important_features.rename(columns={\"Female\": \"Sex\"})"
   ]
  },
  {
   "cell_type": "code",
   "execution_count": 20,
   "id": "691a0584",
   "metadata": {},
   "outputs": [],
   "source": [
    "important_features.insert(1, \"Sex\")\n",
    "df_important_features = df_important_features.reindex(columns = important_features)"
   ]
  },
  {
   "cell_type": "code",
   "execution_count": 21,
   "id": "415acae4",
   "metadata": {},
   "outputs": [
    {
     "name": "stdout",
     "output_type": "stream",
     "text": [
      "Female --> 1\n",
      "Male --> 0\n"
     ]
    },
    {
     "data": {
      "text/plain": [
       "1    3030\n",
       "0     765\n",
       "Name: Sex, dtype: int64"
      ]
     },
     "execution_count": 21,
     "metadata": {},
     "output_type": "execute_result"
    }
   ],
   "source": [
    "print(\"Female --> 1\")\n",
    "print(\"Male --> 0\")\n",
    "df_important_features.Sex.value_counts()"
   ]
  },
  {
   "cell_type": "code",
   "execution_count": 22,
   "id": "4acfb4f3",
   "metadata": {},
   "outputs": [],
   "source": [
    "def summary(feature):\n",
    "    \"\"\" quick function to print out summaries of features of interest\"\"\"\n",
    "    #Print out all feature values\n",
    "    #print(\"The rows of the feature are,\" , str(feature))\n",
    "    \n",
    "    #print value counts\n",
    "    print('' )\n",
    "    print(\"The values are, \",feature.value_counts() )\n",
    "    print('')\n",
    "    \n",
    "    #print most seen value\n",
    "    mode = max(feature.value_counts())\n",
    "    print(\"The most seen value is,\", mode )\n",
    "    print('')\n",
    "    \n",
    "    #Get unique values of feature\n",
    "    output = []\n",
    "    for x in feature.value_counts():\n",
    "        if x not in output:\n",
    "            output.append(x)\n",
    "    print(\"The unique value counts are\", output)"
   ]
  },
  {
   "cell_type": "code",
   "execution_count": 23,
   "id": "b291d326",
   "metadata": {},
   "outputs": [
    {
     "name": "stdout",
     "output_type": "stream",
     "text": [
      "\n",
      "The values are,  0.0    2981\n",
      "1.0     230\n",
      "Name: Execution, dtype: int64\n",
      "\n",
      "The most seen value is, 2981\n",
      "\n",
      "The unique value counts are [2981, 230]\n"
     ]
    }
   ],
   "source": [
    "#Return summary of Execution feature\n",
    "summary(df_important_features.Execution)"
   ]
  },
  {
   "cell_type": "markdown",
   "id": "bead19f2",
   "metadata": {},
   "source": [
    "### Replacing Null Values\n",
    "Deleted data columns that were not of type float. Then filled in NaN values with a random value from the column with probability proportional to the frequency of value in the column."
   ]
  },
  {
   "cell_type": "code",
   "execution_count": 24,
   "id": "5b1e03da",
   "metadata": {},
   "outputs": [
    {
     "name": "stdout",
     "output_type": "stream",
     "text": [
      "Total null values before transformation: 8020.0\n"
     ]
    }
   ],
   "source": [
    "df_important_features['Sex']=df_important_features['Sex'].astype('float64')\n",
    "#There were no integer features so we only select float64 types\n",
    "float_columns = df_important_features.select_dtypes(include=['float64']).columns\n",
    "\n",
    "#get columns with float dtypes\n",
    "df_important_features = df_important_features[float_columns]\n",
    "\n",
    "#For each column, sum all the values vertically and skip the null values\n",
    "#Show the column and how many Null values\n",
    "print('Total null values before transformation: ' + str(df_important_features.sum(axis = 0, skipna = True).sum()))\n",
    "#sum up the values (to be used if we wanna incorporate filling with mean but I don't do it in this cell)\n",
    "sum_series = df_important_features.sum(axis = 0, skipna = True)\n",
    "columns = sum_series.index\n",
    "\n",
    "#for each column, add the non-NA values into list then fill in NA values with elements from list with probability equal \n",
    "#to their frequency\n",
    "for col in df_important_features:\n",
    "    values = []\n",
    "    for value in df_important_features[col]:\n",
    "        if not np.isnan(value):\n",
    "            values.append(value)\n",
    "    if len(values) > 0:\n",
    "        while df_important_features[col].isna().sum() > 0:\n",
    "            df_important_features[col].fillna(random.choice(values), inplace = True, limit = 1)\n",
    "    "
   ]
  },
  {
   "cell_type": "code",
   "execution_count": 25,
   "id": "760d3e3c",
   "metadata": {},
   "outputs": [
    {
     "name": "stdout",
     "output_type": "stream",
     "text": [
      "Total null values left in the data: 0\n"
     ]
    }
   ],
   "source": [
    "print('Total null values left in the data: ' + str(df_important_features[columns].isna().sum().sum()))"
   ]
  },
  {
   "cell_type": "markdown",
   "id": "02204fe2",
   "metadata": {},
   "source": [
    "### Train/Test Split"
   ]
  },
  {
   "cell_type": "code",
   "execution_count": 26,
   "id": "dd1a7812",
   "metadata": {},
   "outputs": [
    {
     "name": "stderr",
     "output_type": "stream",
     "text": [
      "<ipython-input-26-8183bf3d0d2e>:1: FutureWarning: In a future version of pandas all arguments of DataFrame.drop except for the argument 'labels' will be keyword-only\n",
      "  X = df_important_features.drop('Execution', 1)\n"
     ]
    }
   ],
   "source": [
    "X = df_important_features.drop('Execution', 1)\n",
    "Y = df_important_features.Execution\n",
    "\n",
    "train_test_split = int(0.8 * X.shape[0])\n",
    "train_dev_split = (int)(2/3 * train_test_split)"
   ]
  },
  {
   "cell_type": "code",
   "execution_count": 27,
   "id": "41856fba",
   "metadata": {},
   "outputs": [
    {
     "name": "stdout",
     "output_type": "stream",
     "text": [
      "training data shape is: (3036, 35) Test data shape is: (759, 35)\n"
     ]
    }
   ],
   "source": [
    "#Split data into train and test\n",
    "train_data, train_labels = X[:train_test_split], Y[:train_test_split]\n",
    "test_data, test_labels = X[train_test_split:], Y[train_test_split:]\n",
    "\n",
    "print(\"training data shape is:\",train_data.shape, \"Test data shape is:\", test_data.shape)"
   ]
  },
  {
   "cell_type": "markdown",
   "id": "4534ec9d",
   "metadata": {},
   "source": [
    "### Applying SMOTE for Imbalanced Classes"
   ]
  },
  {
   "cell_type": "code",
   "execution_count": 29,
   "id": "2e4fc099",
   "metadata": {},
   "outputs": [
    {
     "name": "stdout",
     "output_type": "stream",
     "text": [
      "Rebalancing training data:\n",
      "Classes before SMOTE: \n",
      "Counter({0.0: 2801, 1.0: 2801})\n",
      "Classes after SMOTE: \n",
      "Counter({0.0: 2801, 1.0: 2801})\n",
      "------------------------------\n"
     ]
    }
   ],
   "source": [
    "#For Training Data: \n",
    "print(\"Rebalancing training data:\")\n",
    "# summarize class distribution\n",
    "print(\"Classes before SMOTE: \")\n",
    "counter = Counter(train_labels)\n",
    "print(counter)\n",
    "# transform the dataset\n",
    "oversample_train = SMOTE(random_state=0)\n",
    "train_data, train_labels = oversample_train.fit_resample(train_data, train_labels)\n",
    "# summarize the new class distribution\n",
    "print(\"Classes after SMOTE: \")\n",
    "counter = Counter(train_labels)\n",
    "print(counter)\n",
    "print(\"-\"*30)\n",
    "\n",
    "#For Dev Data: \n",
    "#print(\"Rebalancing development data:\")\n",
    "# summarize class distribution\n",
    "#print(\"Classes before SMOTE: \")\n",
    "#counter = Counter(dev_labels)\n",
    "#print(counter)\n",
    "# transform the dataset\n",
    "#oversample_dev = SMOTE(random_state=0)\n",
    "#dev_data, dev_labels = oversample_dev.fit_resample(dev_data, dev_labels)\n",
    "# summarize the new class distribution\n",
    "#print(\"Classes after SMOTE: \")\n",
    "#counter = Counter(dev_labels)\n",
    "#print(counter)\n",
    "#print(\"-\"*30)"
   ]
  },
  {
   "cell_type": "markdown",
   "id": "30df2ee9",
   "metadata": {},
   "source": [
    "### Principal Component Analysis, Fraction of Total Variance"
   ]
  },
  {
   "cell_type": "markdown",
   "id": "f8c86e5c",
   "metadata": {},
   "source": [
    "Since we have 35 features selected, it makes sense to do some dimensionality reduction using Principal Component Analysis. Let's see how well different numbers of principal components can still explain our data. "
   ]
  },
  {
   "cell_type": "code",
   "execution_count": 30,
   "id": "93f8cf21",
   "metadata": {},
   "outputs": [
    {
     "data": {
      "text/html": [
       "<div>\n",
       "<style scoped>\n",
       "    .dataframe tbody tr th:only-of-type {\n",
       "        vertical-align: middle;\n",
       "    }\n",
       "\n",
       "    .dataframe tbody tr th {\n",
       "        vertical-align: top;\n",
       "    }\n",
       "\n",
       "    .dataframe thead th {\n",
       "        text-align: right;\n",
       "    }\n",
       "</style>\n",
       "<table border=\"1\" class=\"dataframe\">\n",
       "  <thead>\n",
       "    <tr style=\"text-align: right;\">\n",
       "      <th></th>\n",
       "      <th>0</th>\n",
       "    </tr>\n",
       "  </thead>\n",
       "  <tbody>\n",
       "    <tr>\n",
       "      <th>n = 5</th>\n",
       "      <td>0.915554</td>\n",
       "    </tr>\n",
       "    <tr>\n",
       "      <th>n = 1</th>\n",
       "      <td>0.966548</td>\n",
       "    </tr>\n",
       "    <tr>\n",
       "      <th>n = 3</th>\n",
       "      <td>0.974949</td>\n",
       "    </tr>\n",
       "    <tr>\n",
       "      <th>n = 2</th>\n",
       "      <td>0.980219</td>\n",
       "    </tr>\n",
       "    <tr>\n",
       "      <th>n = 4</th>\n",
       "      <td>0.984574</td>\n",
       "    </tr>\n",
       "  </tbody>\n",
       "</table>\n",
       "</div>"
      ],
      "text/plain": [
       "              0\n",
       "n = 5  0.915554\n",
       "n = 1  0.966548\n",
       "n = 3  0.974949\n",
       "n = 2  0.980219\n",
       "n = 4  0.984574"
      ]
     },
     "metadata": {},
     "output_type": "display_data"
    },
    {
     "data": {
      "image/png": "[encoded data removed]",
      "text/plain": [
       "<Figure size 432x288 with 1 Axes>"
      ]
     },
     "metadata": {
      "needs_background": "light"
     },
     "output_type": "display_data"
    }
   ],
   "source": [
    "pca = PCA(n_components = train_data.shape[1])\n",
    "X_train_pca = pca.fit_transform(train_data.fillna(0))\n",
    "explained_variances = np.cumsum(pca.explained_variance_ratio_)\n",
    "\n",
    "display(pd.DataFrame(explained_variances[:5], index={\"n = 1\",\"n = 2\",'n = 3','n = 4','n = 5'}))\n",
    "\n",
    "#Plot\n",
    "plt.plot(explained_variances);\n",
    "plt.xlabel(\"Number of principal components\");\n",
    "plt.ylabel(\"Proportion of total variance explained\");\n",
    "plt.title(\"Total variance explained vs number of PC's\");"
   ]
  },
  {
   "cell_type": "markdown",
   "id": "4e84119f",
   "metadata": {},
   "source": [
    "Let's see what 2 principal components can capture in terms of the executed versus not executed!"
   ]
  },
  {
   "cell_type": "code",
   "execution_count": 31,
   "id": "c46f3e52",
   "metadata": {},
   "outputs": [
    {
     "data": {
      "text/plain": [
       "Text(0.5, 1.0, \"First two PC's, distinguished by executed vs non-executed\")"
      ]
     },
     "execution_count": 31,
     "metadata": {},
     "output_type": "execute_result"
    },
    {
     "data": {
      "image/png": "[encoded data removed]",
      "text/plain": [
       "<Figure size 432x288 with 1 Axes>"
      ]
     },
     "metadata": {
      "needs_background": "light"
     },
     "output_type": "display_data"
    }
   ],
   "source": [
    "pca = PCA(n_components=2)\n",
    "X_train_pca = pca.fit_transform(train_data)\n",
    "X_train_pca_df = pd.DataFrame(X_train_pca)\n",
    "X_train_pca_df = X_train_pca_df.assign(label = train_labels)\n",
    "X_train_pca_df_non_executed, X_train_pca_df_executed = X_train_pca_df[X_train_pca_df['label'] == 0], X_train_pca_df[X_train_pca_df['label'] == 1]\n",
    "\n",
    "#Plot\n",
    "plt.scatter(X_train_pca_df_non_executed.loc[:, 0], X_train_pca_df_non_executed.loc[:, 1], color = 'blue', label = \"non-executed\")\n",
    "plt.scatter(X_train_pca_df_executed.loc[:, 0], X_train_pca_df_executed.loc[:, 1], color = 'red', label = \"executed\")\n",
    "plt.legend()\n",
    "plt.xlabel(\"1st Principal Component\")\n",
    "plt.ylabel(\"2nd Principal Component\")\n",
    "plt.title(\"First two PC's, distinguished by executed vs non-executed\")"
   ]
  },
  {
   "cell_type": "markdown",
   "id": "a0665a68",
   "metadata": {},
   "source": [
    "Let's save some dataframes with more Principal Components of the data."
   ]
  },
  {
   "cell_type": "code",
   "execution_count": 32,
   "id": "eb3d7943",
   "metadata": {},
   "outputs": [
    {
     "data": {
      "text/html": [
       "<div>\n",
       "<style scoped>\n",
       "    .dataframe tbody tr th:only-of-type {\n",
       "        vertical-align: middle;\n",
       "    }\n",
       "\n",
       "    .dataframe tbody tr th {\n",
       "        vertical-align: top;\n",
       "    }\n",
       "\n",
       "    .dataframe thead th {\n",
       "        text-align: right;\n",
       "    }\n",
       "</style>\n",
       "<table border=\"1\" class=\"dataframe\">\n",
       "  <thead>\n",
       "    <tr style=\"text-align: right;\">\n",
       "      <th></th>\n",
       "      <th>0</th>\n",
       "      <th>1</th>\n",
       "      <th>2</th>\n",
       "      <th>3</th>\n",
       "      <th>4</th>\n",
       "    </tr>\n",
       "  </thead>\n",
       "  <tbody>\n",
       "    <tr>\n",
       "      <th>0</th>\n",
       "      <td>-1.947862</td>\n",
       "      <td>0.036943</td>\n",
       "      <td>-0.161791</td>\n",
       "      <td>-0.373134</td>\n",
       "      <td>0.670425</td>\n",
       "    </tr>\n",
       "    <tr>\n",
       "      <th>1</th>\n",
       "      <td>-1.943982</td>\n",
       "      <td>0.021484</td>\n",
       "      <td>-0.227075</td>\n",
       "      <td>0.333465</td>\n",
       "      <td>-0.078803</td>\n",
       "    </tr>\n",
       "    <tr>\n",
       "      <th>2</th>\n",
       "      <td>-1.950660</td>\n",
       "      <td>-0.005644</td>\n",
       "      <td>-0.170048</td>\n",
       "      <td>0.069694</td>\n",
       "      <td>-0.202642</td>\n",
       "    </tr>\n",
       "    <tr>\n",
       "      <th>3</th>\n",
       "      <td>-1.950660</td>\n",
       "      <td>-0.005644</td>\n",
       "      <td>-0.170048</td>\n",
       "      <td>0.069694</td>\n",
       "      <td>-0.202642</td>\n",
       "    </tr>\n",
       "    <tr>\n",
       "      <th>4</th>\n",
       "      <td>-1.947862</td>\n",
       "      <td>0.036943</td>\n",
       "      <td>-0.161791</td>\n",
       "      <td>-0.373134</td>\n",
       "      <td>0.670425</td>\n",
       "    </tr>\n",
       "  </tbody>\n",
       "</table>\n",
       "</div>"
      ],
      "text/plain": [
       "          0         1         2         3         4\n",
       "0 -1.947862  0.036943 -0.161791 -0.373134  0.670425\n",
       "1 -1.943982  0.021484 -0.227075  0.333465 -0.078803\n",
       "2 -1.950660 -0.005644 -0.170048  0.069694 -0.202642\n",
       "3 -1.950660 -0.005644 -0.170048  0.069694 -0.202642\n",
       "4 -1.947862  0.036943 -0.161791 -0.373134  0.670425"
      ]
     },
     "execution_count": 32,
     "metadata": {},
     "output_type": "execute_result"
    }
   ],
   "source": [
    "# List of additional PC's\n",
    "pca_train_dataframes = []\n",
    "pca_test_dataframes = []\n",
    "for i in range(2, 7):\n",
    "    pca_model = PCA(n_components=i)\n",
    "    \n",
    "    # Feature selection for training data\n",
    "    pca_data = pca_model.fit_transform(train_data)\n",
    "    pca_train_dataframes.append(pd.DataFrame(pca_data))\n",
    "    \n",
    "    # Feature selection for test data \n",
    "    # Currently replacing all NaN values with 0. Might change this \n",
    "    # based on what Alejandro figures out \n",
    "    pca_test = pca_model.transform(test_data)\n",
    "    pca_test_dataframes.append(pd.DataFrame(pca_test))\n",
    "\n",
    "pca_train_dataframes[3].head()"
   ]
  },
  {
   "cell_type": "markdown",
   "id": "2ad74c8c",
   "metadata": {},
   "source": [
    "### Logistic Regression"
   ]
  },
  {
   "cell_type": "markdown",
   "id": "a6de9e62",
   "metadata": {},
   "source": [
    "Our baseline model for this project will be a logistic regression model since we are working on a binary classification problem. After applying the transformations above, we experimented with different parameters such as using L1 regularization instead of the default L2. Although this would have reduce some features, the performance metrics did not improve (accuracy = 0.826) and so we kept the default value. "
   ]
  },
  {
   "cell_type": "code",
   "execution_count": 33,
   "id": "16912ac1",
   "metadata": {},
   "outputs": [
    {
     "name": "stdout",
     "output_type": "stream",
     "text": [
      "The model accuracy for the test data is: 0.8959156785243741\n"
     ]
    },
    {
     "name": "stderr",
     "output_type": "stream",
     "text": [
      "/Users/carloscalderon/.local/lib/python3.8/site-packages/sklearn/linear_model/_logistic.py:814: ConvergenceWarning: lbfgs failed to converge (status=1):\n",
      "STOP: TOTAL NO. of ITERATIONS REACHED LIMIT.\n",
      "\n",
      "Increase the number of iterations (max_iter) or scale the data as shown in:\n",
      "    https://scikit-learn.org/stable/modules/preprocessing.html\n",
      "Please also refer to the documentation for alternative solver options:\n",
      "    https://scikit-learn.org/stable/modules/linear_model.html#logistic-regression\n",
      "  n_iter_i = _check_optimize_result(\n"
     ]
    }
   ],
   "source": [
    "lr_model = LogisticRegression(random_state = 0)\n",
    "\n",
    "#Fit model then print the features with their coefficient values from the logistic regression model \n",
    "lr_model.fit(train_data, train_labels)\n",
    "features_coef = []\n",
    "for i in range(0, 35):\n",
    "    features_coef.append((lr_model.coef_[0][i], train_data.columns[i]))\n",
    "\n",
    "#score data\n",
    "print(\"The model accuracy for the test data is: \" + str(lr_model.score(test_data, test_labels)))\n",
    "#Turn to data frame\n",
    "coefs = pd.DataFrame(features_coef, columns=['Coefficient_value', 'Feature_name'])"
   ]
  },
  {
   "cell_type": "markdown",
   "id": "c1a3f0e8",
   "metadata": {},
   "source": [
    "Below, we check p-values to see if we can reject the null hypothesis that the variables have no real effect on the 'Execution' variable. "
   ]
  },
  {
   "cell_type": "code",
   "execution_count": 34,
   "id": "39a0f3ee",
   "metadata": {},
   "outputs": [],
   "source": [
    "#Referenced from stackoverflow.com/questions/25122999/scikit-learn-how-to-check-coefficients-significance  \n",
    "def logit_pvalue(model, x):\n",
    "    \"\"\" Calculate z-scores for scikit-learn LogisticRegression.\n",
    "    parameters:\n",
    "        model: fitted sklearn.linear_model.LogisticRegression with intercept and large C\n",
    "        x:     matrix on which the model was fit\n",
    "    This function uses asymtptics for maximum likelihood estimates.\n",
    "    \"\"\"\n",
    "    #Adding noise to avoid perfect collinearity\n",
    "    x = x+0.00001*np.random.rand(len(x), len(x.columns))\n",
    "    p = model.predict_proba(x)\n",
    "    n = len(p)\n",
    "    m = len(model.coef_[0]) + 1\n",
    "    coefs = np.concatenate([model.intercept_, model.coef_[0]])\n",
    "    x_full = np.matrix(np.insert(np.array(x), 0, 1, axis = 1))\n",
    "    ans = np.zeros((m, m))\n",
    "    for i in range(n):\n",
    "        ans = ans + np.dot(np.transpose(x_full[i, :]), x_full[i, :]) * p[i,1] * p[i, 0]\n",
    "    vcov = np.linalg.inv(np.matrix(ans))\n",
    "    se = np.sqrt(np.diag(vcov))\n",
    "    t =  coefs/se  \n",
    "    p = (1 - norm.cdf(abs(t))) * 2\n",
    "    return p\n",
    "\n",
    "# test p-values\n",
    "coefs['P Value'] = pd.DataFrame(logit_pvalue(lr_model, train_data))\n",
    "coefs['Is Significant'] = coefs['P Value'] < 0.05\n",
    "coefs['Odds Ratio'] = np.exp(coefs['Coefficient_value'])"
   ]
  },
  {
   "cell_type": "code",
   "execution_count": 35,
   "id": "dbdfef52",
   "metadata": {},
   "outputs": [],
   "source": [
    "coefs = coefs.sort_values(by = 'Coefficient_value', ascending = False)"
   ]
  },
  {
   "cell_type": "code",
   "execution_count": 36,
   "id": "fb3e46b5",
   "metadata": {},
   "outputs": [
    {
     "data": {
      "text/html": [
       "<div>\n",
       "<style scoped>\n",
       "    .dataframe tbody tr th:only-of-type {\n",
       "        vertical-align: middle;\n",
       "    }\n",
       "\n",
       "    .dataframe tbody tr th {\n",
       "        vertical-align: top;\n",
       "    }\n",
       "\n",
       "    .dataframe thead th {\n",
       "        text-align: right;\n",
       "    }\n",
       "</style>\n",
       "<table border=\"1\" class=\"dataframe\">\n",
       "  <thead>\n",
       "    <tr style=\"text-align: right;\">\n",
       "      <th></th>\n",
       "      <th>Coefficient_value</th>\n",
       "      <th>Feature_name</th>\n",
       "      <th>P Value</th>\n",
       "      <th>Is Significant</th>\n",
       "      <th>Odds Ratio</th>\n",
       "    </tr>\n",
       "  </thead>\n",
       "  <tbody>\n",
       "    <tr>\n",
       "      <th>20</th>\n",
       "      <td>3.766342</td>\n",
       "      <td>PoliticalMotive_p</td>\n",
       "      <td>3.447087e-07</td>\n",
       "      <td>True</td>\n",
       "      <td>43.221681</td>\n",
       "    </tr>\n",
       "    <tr>\n",
       "      <th>31</th>\n",
       "      <td>2.122935</td>\n",
       "      <td>RecHealer</td>\n",
       "      <td>1.539125e-01</td>\n",
       "      <td>False</td>\n",
       "      <td>8.355626</td>\n",
       "    </tr>\n",
       "    <tr>\n",
       "      <th>29</th>\n",
       "      <td>1.768317</td>\n",
       "      <td>Cursing</td>\n",
       "      <td>2.586504e-01</td>\n",
       "      <td>False</td>\n",
       "      <td>5.860979</td>\n",
       "    </tr>\n",
       "    <tr>\n",
       "      <th>32</th>\n",
       "      <td>1.307917</td>\n",
       "      <td>Dancing</td>\n",
       "      <td>2.059417e-07</td>\n",
       "      <td>True</td>\n",
       "      <td>3.698461</td>\n",
       "    </tr>\n",
       "    <tr>\n",
       "      <th>10</th>\n",
       "      <td>0.879464</td>\n",
       "      <td>Folk_healing_s</td>\n",
       "      <td>1.049555e-02</td>\n",
       "      <td>True</td>\n",
       "      <td>2.409607</td>\n",
       "    </tr>\n",
       "    <tr>\n",
       "      <th>1</th>\n",
       "      <td>0.676448</td>\n",
       "      <td>Arrest</td>\n",
       "      <td>3.053459e-04</td>\n",
       "      <td>True</td>\n",
       "      <td>1.966879</td>\n",
       "    </tr>\n",
       "    <tr>\n",
       "      <th>18</th>\n",
       "      <td>0.673685</td>\n",
       "      <td>Neighbhd_dispute_p</td>\n",
       "      <td>3.987705e-01</td>\n",
       "      <td>False</td>\n",
       "      <td>1.961452</td>\n",
       "    </tr>\n",
       "    <tr>\n",
       "      <th>30</th>\n",
       "      <td>0.642741</td>\n",
       "      <td>Poisoning</td>\n",
       "      <td>8.308665e-11</td>\n",
       "      <td>True</td>\n",
       "      <td>1.901686</td>\n",
       "    </tr>\n",
       "    <tr>\n",
       "      <th>15</th>\n",
       "      <td>0.424962</td>\n",
       "      <td>UnorthodoxReligiousPractice</td>\n",
       "      <td>9.999545e-01</td>\n",
       "      <td>False</td>\n",
       "      <td>1.529533</td>\n",
       "    </tr>\n",
       "    <tr>\n",
       "      <th>14</th>\n",
       "      <td>0.424962</td>\n",
       "      <td>UNorthodoxRelPract_s</td>\n",
       "      <td>1.000000e+00</td>\n",
       "      <td>False</td>\n",
       "      <td>1.529533</td>\n",
       "    </tr>\n",
       "    <tr>\n",
       "      <th>4</th>\n",
       "      <td>0.339297</td>\n",
       "      <td>High_status</td>\n",
       "      <td>2.649955e-03</td>\n",
       "      <td>True</td>\n",
       "      <td>1.403960</td>\n",
       "    </tr>\n",
       "    <tr>\n",
       "      <th>0</th>\n",
       "      <td>0.334799</td>\n",
       "      <td>Sex</td>\n",
       "      <td>0.000000e+00</td>\n",
       "      <td>True</td>\n",
       "      <td>1.397659</td>\n",
       "    </tr>\n",
       "    <tr>\n",
       "      <th>33</th>\n",
       "      <td>0.213987</td>\n",
       "      <td>Singing</td>\n",
       "      <td>0.000000e+00</td>\n",
       "      <td>True</td>\n",
       "      <td>1.238607</td>\n",
       "    </tr>\n",
       "    <tr>\n",
       "      <th>5</th>\n",
       "      <td>0.162651</td>\n",
       "      <td>Male_accusers</td>\n",
       "      <td>3.900086e-01</td>\n",
       "      <td>False</td>\n",
       "      <td>1.176626</td>\n",
       "    </tr>\n",
       "    <tr>\n",
       "      <th>6</th>\n",
       "      <td>0.107613</td>\n",
       "      <td>Female_accusers</td>\n",
       "      <td>4.386491e-12</td>\n",
       "      <td>True</td>\n",
       "      <td>1.113617</td>\n",
       "    </tr>\n",
       "    <tr>\n",
       "      <th>34</th>\n",
       "      <td>0.048366</td>\n",
       "      <td>Midwifery</td>\n",
       "      <td>5.347009e-01</td>\n",
       "      <td>False</td>\n",
       "      <td>1.049555</td>\n",
       "    </tr>\n",
       "    <tr>\n",
       "      <th>21</th>\n",
       "      <td>0.029087</td>\n",
       "      <td>PoliticalMotive_s</td>\n",
       "      <td>2.521834e-07</td>\n",
       "      <td>True</td>\n",
       "      <td>1.029515</td>\n",
       "    </tr>\n",
       "    <tr>\n",
       "      <th>11</th>\n",
       "      <td>0.002304</td>\n",
       "      <td>Demonic_possess_p</td>\n",
       "      <td>1.061385e-03</td>\n",
       "      <td>True</td>\n",
       "      <td>1.002307</td>\n",
       "    </tr>\n",
       "    <tr>\n",
       "      <th>13</th>\n",
       "      <td>0.000000</td>\n",
       "      <td>UNorthodoxRelPract_p</td>\n",
       "      <td>5.346617e-04</td>\n",
       "      <td>True</td>\n",
       "      <td>1.000000</td>\n",
       "    </tr>\n",
       "    <tr>\n",
       "      <th>2</th>\n",
       "      <td>-0.192451</td>\n",
       "      <td>Fled</td>\n",
       "      <td>0.000000e+00</td>\n",
       "      <td>True</td>\n",
       "      <td>0.824935</td>\n",
       "    </tr>\n",
       "    <tr>\n",
       "      <th>16</th>\n",
       "      <td>-0.203584</td>\n",
       "      <td>HealingHumans</td>\n",
       "      <td>9.999545e-01</td>\n",
       "      <td>False</td>\n",
       "      <td>0.815802</td>\n",
       "    </tr>\n",
       "    <tr>\n",
       "      <th>17</th>\n",
       "      <td>-0.247506</td>\n",
       "      <td>HealingAnimals</td>\n",
       "      <td>4.882488e-01</td>\n",
       "      <td>False</td>\n",
       "      <td>0.780745</td>\n",
       "    </tr>\n",
       "    <tr>\n",
       "      <th>28</th>\n",
       "      <td>-0.307533</td>\n",
       "      <td>Quarreling</td>\n",
       "      <td>2.927219e-01</td>\n",
       "      <td>False</td>\n",
       "      <td>0.735259</td>\n",
       "    </tr>\n",
       "    <tr>\n",
       "      <th>8</th>\n",
       "      <td>-0.370256</td>\n",
       "      <td>WhiteMagic_s</td>\n",
       "      <td>4.809352e-01</td>\n",
       "      <td>False</td>\n",
       "      <td>0.690557</td>\n",
       "    </tr>\n",
       "    <tr>\n",
       "      <th>25</th>\n",
       "      <td>-0.446021</td>\n",
       "      <td>RefusedCharity_s</td>\n",
       "      <td>3.003851e-01</td>\n",
       "      <td>False</td>\n",
       "      <td>0.640170</td>\n",
       "    </tr>\n",
       "    <tr>\n",
       "      <th>27</th>\n",
       "      <td>-0.450262</td>\n",
       "      <td>Treason_s</td>\n",
       "      <td>1.708304e-01</td>\n",
       "      <td>False</td>\n",
       "      <td>0.637461</td>\n",
       "    </tr>\n",
       "    <tr>\n",
       "      <th>7</th>\n",
       "      <td>-0.835159</td>\n",
       "      <td>WhiteMagic_p</td>\n",
       "      <td>2.963124e-03</td>\n",
       "      <td>True</td>\n",
       "      <td>0.433806</td>\n",
       "    </tr>\n",
       "    <tr>\n",
       "      <th>22</th>\n",
       "      <td>-0.904863</td>\n",
       "      <td>PropertyMotive_p</td>\n",
       "      <td>9.415058e-01</td>\n",
       "      <td>False</td>\n",
       "      <td>0.404597</td>\n",
       "    </tr>\n",
       "    <tr>\n",
       "      <th>9</th>\n",
       "      <td>-1.059540</td>\n",
       "      <td>Folk_healing_p</td>\n",
       "      <td>1.115950e-01</td>\n",
       "      <td>False</td>\n",
       "      <td>0.346615</td>\n",
       "    </tr>\n",
       "    <tr>\n",
       "      <th>3</th>\n",
       "      <td>-1.135116</td>\n",
       "      <td>ActionDropped</td>\n",
       "      <td>2.841783e-01</td>\n",
       "      <td>False</td>\n",
       "      <td>0.321385</td>\n",
       "    </tr>\n",
       "    <tr>\n",
       "      <th>24</th>\n",
       "      <td>-1.150227</td>\n",
       "      <td>RefusedCharity_p</td>\n",
       "      <td>1.646646e-03</td>\n",
       "      <td>True</td>\n",
       "      <td>0.316565</td>\n",
       "    </tr>\n",
       "    <tr>\n",
       "      <th>23</th>\n",
       "      <td>-1.196048</td>\n",
       "      <td>PropertyMotive_s</td>\n",
       "      <td>4.515243e-01</td>\n",
       "      <td>False</td>\n",
       "      <td>0.302387</td>\n",
       "    </tr>\n",
       "    <tr>\n",
       "      <th>26</th>\n",
       "      <td>-1.397951</td>\n",
       "      <td>Treason_p</td>\n",
       "      <td>4.153890e-01</td>\n",
       "      <td>False</td>\n",
       "      <td>0.247103</td>\n",
       "    </tr>\n",
       "    <tr>\n",
       "      <th>19</th>\n",
       "      <td>-1.583313</td>\n",
       "      <td>Neighbhd_dispute_s</td>\n",
       "      <td>3.410990e-02</td>\n",
       "      <td>True</td>\n",
       "      <td>0.205294</td>\n",
       "    </tr>\n",
       "    <tr>\n",
       "      <th>12</th>\n",
       "      <td>-2.475672</td>\n",
       "      <td>Demonic_possess_s</td>\n",
       "      <td>9.980653e-01</td>\n",
       "      <td>False</td>\n",
       "      <td>0.084106</td>\n",
       "    </tr>\n",
       "  </tbody>\n",
       "</table>\n",
       "</div>"
      ],
      "text/plain": [
       "    Coefficient_value                 Feature_name       P Value  \\\n",
       "20           3.766342            PoliticalMotive_p  3.447087e-07   \n",
       "31           2.122935                    RecHealer  1.539125e-01   \n",
       "29           1.768317                      Cursing  2.586504e-01   \n",
       "32           1.307917                      Dancing  2.059417e-07   \n",
       "10           0.879464               Folk_healing_s  1.049555e-02   \n",
       "1            0.676448                       Arrest  3.053459e-04   \n",
       "18           0.673685           Neighbhd_dispute_p  3.987705e-01   \n",
       "30           0.642741                    Poisoning  8.308665e-11   \n",
       "15           0.424962  UnorthodoxReligiousPractice  9.999545e-01   \n",
       "14           0.424962         UNorthodoxRelPract_s  1.000000e+00   \n",
       "4            0.339297                  High_status  2.649955e-03   \n",
       "0            0.334799                          Sex  0.000000e+00   \n",
       "33           0.213987                      Singing  0.000000e+00   \n",
       "5            0.162651                Male_accusers  3.900086e-01   \n",
       "6            0.107613              Female_accusers  4.386491e-12   \n",
       "34           0.048366                    Midwifery  5.347009e-01   \n",
       "21           0.029087            PoliticalMotive_s  2.521834e-07   \n",
       "11           0.002304            Demonic_possess_p  1.061385e-03   \n",
       "13           0.000000         UNorthodoxRelPract_p  5.346617e-04   \n",
       "2           -0.192451                         Fled  0.000000e+00   \n",
       "16          -0.203584                HealingHumans  9.999545e-01   \n",
       "17          -0.247506               HealingAnimals  4.882488e-01   \n",
       "28          -0.307533                   Quarreling  2.927219e-01   \n",
       "8           -0.370256                 WhiteMagic_s  4.809352e-01   \n",
       "25          -0.446021             RefusedCharity_s  3.003851e-01   \n",
       "27          -0.450262                    Treason_s  1.708304e-01   \n",
       "7           -0.835159                 WhiteMagic_p  2.963124e-03   \n",
       "22          -0.904863             PropertyMotive_p  9.415058e-01   \n",
       "9           -1.059540               Folk_healing_p  1.115950e-01   \n",
       "3           -1.135116                ActionDropped  2.841783e-01   \n",
       "24          -1.150227             RefusedCharity_p  1.646646e-03   \n",
       "23          -1.196048             PropertyMotive_s  4.515243e-01   \n",
       "26          -1.397951                    Treason_p  4.153890e-01   \n",
       "19          -1.583313           Neighbhd_dispute_s  3.410990e-02   \n",
       "12          -2.475672            Demonic_possess_s  9.980653e-01   \n",
       "\n",
       "    Is Significant  Odds Ratio  \n",
       "20            True   43.221681  \n",
       "31           False    8.355626  \n",
       "29           False    5.860979  \n",
       "32            True    3.698461  \n",
       "10            True    2.409607  \n",
       "1             True    1.966879  \n",
       "18           False    1.961452  \n",
       "30            True    1.901686  \n",
       "15           False    1.529533  \n",
       "14           False    1.529533  \n",
       "4             True    1.403960  \n",
       "0             True    1.397659  \n",
       "33            True    1.238607  \n",
       "5            False    1.176626  \n",
       "6             True    1.113617  \n",
       "34           False    1.049555  \n",
       "21            True    1.029515  \n",
       "11            True    1.002307  \n",
       "13            True    1.000000  \n",
       "2             True    0.824935  \n",
       "16           False    0.815802  \n",
       "17           False    0.780745  \n",
       "28           False    0.735259  \n",
       "8            False    0.690557  \n",
       "25           False    0.640170  \n",
       "27           False    0.637461  \n",
       "7             True    0.433806  \n",
       "22           False    0.404597  \n",
       "9            False    0.346615  \n",
       "3            False    0.321385  \n",
       "24            True    0.316565  \n",
       "23           False    0.302387  \n",
       "26           False    0.247103  \n",
       "19            True    0.205294  \n",
       "12           False    0.084106  "
      ]
     },
     "execution_count": 36,
     "metadata": {},
     "output_type": "execute_result"
    }
   ],
   "source": [
    "#check out coefficients of log reg model\n",
    "coefs"
   ]
  },
  {
   "cell_type": "code",
   "execution_count": 37,
   "id": "7d3d5603",
   "metadata": {},
   "outputs": [
    {
     "name": "stdout",
     "output_type": "stream",
     "text": [
      "The top 5 significant features with an inverse relationship to 'Execution': \n"
     ]
    },
    {
     "data": {
      "text/plain": [
       "20    PoliticalMotive_p\n",
       "32              Dancing\n",
       "10       Folk_healing_s\n",
       "1                Arrest\n",
       "30            Poisoning\n",
       "Name: Feature_name, dtype: object"
      ]
     },
     "execution_count": 37,
     "metadata": {},
     "output_type": "execute_result"
    }
   ],
   "source": [
    "#The coefficients with the maximum distance away from 0 are the more influential features. \n",
    "print(\"The top 5 significant features with an inverse relationship to 'Execution': \")\n",
    "coefs['Feature_name'][coefs['Is Significant'] == True].head(5)\n"
   ]
  },
  {
   "cell_type": "code",
   "execution_count": 38,
   "id": "57716267",
   "metadata": {},
   "outputs": [
    {
     "name": "stdout",
     "output_type": "stream",
     "text": [
      "The top 5 significant features with a linear relationship to 'Execution': \n"
     ]
    },
    {
     "data": {
      "text/plain": [
       "13    UNorthodoxRelPract_p\n",
       "2                     Fled\n",
       "7             WhiteMagic_p\n",
       "24        RefusedCharity_p\n",
       "19      Neighbhd_dispute_s\n",
       "Name: Feature_name, dtype: object"
      ]
     },
     "execution_count": 38,
     "metadata": {},
     "output_type": "execute_result"
    }
   ],
   "source": [
    "#The coefficients with the maximum distance away from 0 are the more influential features. \n",
    "print(\"The top 5 significant features with a linear relationship to 'Execution': \")\n",
    "coefs['Feature_name'][coefs['Is Significant'] == True].tail(5)\n"
   ]
  },
  {
   "cell_type": "markdown",
   "id": "e2dbe6f9",
   "metadata": {},
   "source": [
    "#### Logistic On Transformed PCA Data"
   ]
  },
  {
   "cell_type": "code",
   "execution_count": 39,
   "id": "21ed588b",
   "metadata": {},
   "outputs": [
    {
     "name": "stdout",
     "output_type": "stream",
     "text": [
      "The model accuracy for the test data is: 0.9367588932806324\n"
     ]
    }
   ],
   "source": [
    "#Evaluate the logistic regression performance on the transformed PCA data\n",
    "logreg = LogisticRegression(random_state = 0)\n",
    "logreg.fit(X_train_pca, train_labels)\n",
    "X_test_pca = pca.transform(test_data)\n",
    "print(\"The model accuracy for the test data is: \" + str(logreg.score(X_test_pca, test_labels)))"
   ]
  },
  {
   "cell_type": "markdown",
   "id": "d683ace5",
   "metadata": {},
   "source": [
    "### Logistic Regression Performance"
   ]
  },
  {
   "cell_type": "markdown",
   "id": "e76c4dae",
   "metadata": {},
   "source": [
    "Finally, we visualize the performance of our model."
   ]
  },
  {
   "cell_type": "markdown",
   "id": "62fa89dd",
   "metadata": {},
   "source": [
    "##### No PCA"
   ]
  },
  {
   "cell_type": "code",
   "execution_count": 40,
   "id": "4826e785",
   "metadata": {},
   "outputs": [
    {
     "name": "stdout",
     "output_type": "stream",
     "text": [
      "<sklearn.metrics._plot.confusion_matrix.ConfusionMatrixDisplay object at 0x7fe492b92220>\n"
     ]
    },
    {
     "name": "stderr",
     "output_type": "stream",
     "text": [
      "/Users/carloscalderon/.local/lib/python3.8/site-packages/sklearn/utils/deprecation.py:87: FutureWarning: Function plot_confusion_matrix is deprecated; Function `plot_confusion_matrix` is deprecated in 1.0 and will be removed in 1.2. Use one of the class methods: ConfusionMatrixDisplay.from_predictions or ConfusionMatrixDisplay.from_estimator.\n",
      "  warnings.warn(msg, category=FutureWarning)\n"
     ]
    },
    {
     "data": {
      "image/png": "[encoded data removed]",
      "text/plain": [
       "<Figure size 432x288 with 2 Axes>"
      ]
     },
     "metadata": {
      "needs_background": "light"
     },
     "output_type": "display_data"
    }
   ],
   "source": [
    "confusion_matrix = plot_confusion_matrix(lr_model, test_data, test_labels)\n",
    "print(confusion_matrix)"
   ]
  },
  {
   "cell_type": "code",
   "execution_count": 41,
   "id": "5009ba8b",
   "metadata": {},
   "outputs": [
    {
     "name": "stdout",
     "output_type": "stream",
     "text": [
      "              precision    recall  f1-score   support\n",
      "\n",
      "         0.0       0.96      0.93      0.94       726\n",
      "         1.0       0.12      0.21      0.15        33\n",
      "\n",
      "    accuracy                           0.90       759\n",
      "   macro avg       0.54      0.57      0.55       759\n",
      "weighted avg       0.93      0.90      0.91       759\n",
      "\n"
     ]
    }
   ],
   "source": [
    "y_pred_lr = lr_model.predict(test_data)\n",
    "print(classification_report(test_labels, y_pred_lr))"
   ]
  },
  {
   "cell_type": "code",
   "execution_count": 42,
   "id": "45a98916",
   "metadata": {},
   "outputs": [
    {
     "data": {
      "image/png": "[encoded data removed]",
      "text/plain": [
       "<Figure size 432x288 with 1 Axes>"
      ]
     },
     "metadata": {
      "needs_background": "light"
     },
     "output_type": "display_data"
    }
   ],
   "source": [
    "log_roc_auc = roc_auc_score(test_labels, lr_model.predict_proba(test_data)[:,1])\n",
    "fpr, tpr, thresholds = roc_curve(test_labels, lr_model.predict_proba(test_data)[:,1])\n",
    "plt.figure()\n",
    "plt.plot(fpr, tpr, label='Logistic Regression (area = %0.2f)' % log_roc_auc)\n",
    "plt.plot([0, 1], [0, 1],'r--')\n",
    "plt.xlim([0.0, 1.0])\n",
    "plt.ylim([0.0, 1.05])\n",
    "plt.xlabel('False Positive Rate')\n",
    "plt.ylabel('True Positive Rate')\n",
    "plt.title('Receiver operating characteristic')\n",
    "plt.legend(loc=\"lower right\")\n",
    "plt.savefig('Log_ROC')\n",
    "plt.show()"
   ]
  },
  {
   "cell_type": "markdown",
   "id": "f1d3eb66",
   "metadata": {},
   "source": [
    "##### PCA"
   ]
  },
  {
   "cell_type": "code",
   "execution_count": 43,
   "id": "e25dfc63",
   "metadata": {},
   "outputs": [
    {
     "name": "stdout",
     "output_type": "stream",
     "text": [
      "<sklearn.metrics._plot.confusion_matrix.ConfusionMatrixDisplay object at 0x7fe493d80370>\n"
     ]
    },
    {
     "name": "stderr",
     "output_type": "stream",
     "text": [
      "/Users/carloscalderon/.local/lib/python3.8/site-packages/sklearn/utils/deprecation.py:87: FutureWarning: Function plot_confusion_matrix is deprecated; Function `plot_confusion_matrix` is deprecated in 1.0 and will be removed in 1.2. Use one of the class methods: ConfusionMatrixDisplay.from_predictions or ConfusionMatrixDisplay.from_estimator.\n",
      "  warnings.warn(msg, category=FutureWarning)\n"
     ]
    },
    {
     "data": {
      "image/png": "[encoded data removed]",
      "text/plain": [
       "<Figure size 432x288 with 2 Axes>"
      ]
     },
     "metadata": {
      "needs_background": "light"
     },
     "output_type": "display_data"
    }
   ],
   "source": [
    "confusion_matrix = plot_confusion_matrix(logreg, X_test_pca, test_labels)\n",
    "print(confusion_matrix)"
   ]
  },
  {
   "cell_type": "code",
   "execution_count": 44,
   "id": "701944f9",
   "metadata": {},
   "outputs": [
    {
     "name": "stdout",
     "output_type": "stream",
     "text": [
      "              precision    recall  f1-score   support\n",
      "\n",
      "         0.0       0.96      0.98      0.97       726\n",
      "         1.0       0.14      0.09      0.11        33\n",
      "\n",
      "    accuracy                           0.94       759\n",
      "   macro avg       0.55      0.53      0.54       759\n",
      "weighted avg       0.92      0.94      0.93       759\n",
      "\n"
     ]
    }
   ],
   "source": [
    "y_pred_logreg = logreg.predict(X_test_pca)\n",
    "print(classification_report(test_labels, y_pred_logreg))"
   ]
  },
  {
   "cell_type": "code",
   "execution_count": 45,
   "id": "f6cf99ac",
   "metadata": {},
   "outputs": [
    {
     "data": {
      "image/png": "[encoded data removed]",
      "text/plain": [
       "<Figure size 432x288 with 1 Axes>"
      ]
     },
     "metadata": {
      "needs_background": "light"
     },
     "output_type": "display_data"
    }
   ],
   "source": [
    "logreg_roc_auc = roc_auc_score(test_labels, logreg.predict_proba(X_test_pca)[:,1])\n",
    "fpr, tpr, thresholds = roc_curve(test_labels, logreg.predict_proba(X_test_pca)[:,1])\n",
    "plt.figure()\n",
    "plt.plot(fpr, tpr, label='Logistic Regression (area = %0.2f)' % logreg_roc_auc)\n",
    "plt.plot([0, 1], [0, 1],'r--')\n",
    "plt.xlim([0.0, 1.0])\n",
    "plt.ylim([0.0, 1.05])\n",
    "plt.xlabel('False Positive Rate')\n",
    "plt.ylabel('True Positive Rate')\n",
    "plt.title('Receiver operating characteristic')\n",
    "plt.legend(loc=\"lower right\")\n",
    "plt.savefig('Log_ROC')\n",
    "plt.show()"
   ]
  },
  {
   "cell_type": "markdown",
   "id": "d84ea2e0",
   "metadata": {},
   "source": [
    "To conclude the results of our baseline model, we learned that despite the performance shown in the first ROC curve, there are a number of significant relationships within the data (see significance table above). Between the model that uses PCA and the one that does not, the model with PCA performs significantly better by 10 percentage points. **Most importantly, we found that gender related variables such as 'Sex', 'Midwifery', 'Dancing' and 'Singing' had statistically significant effects on whether the accused was executed. The model results show that the odds of a female accusee being executed were 1.6 times that of a male accusee, when controlling for all other variables.**"
   ]
  },
  {
   "cell_type": "markdown",
   "id": "5babb6b6",
   "metadata": {},
   "source": [
    "### Neural Net "
   ]
  },
  {
   "cell_type": "markdown",
   "id": "f22db03d",
   "metadata": {},
   "source": [
    "Below, we try to use more robust models that may find nonlinear patterns in the data. Although the nonlinear nature prevents us from interpreting the results and finding relationships as in the logistic regression, we hope to increase our model performance with additional freedoms.  \n",
    "\n",
    "The following code cell is our first attempt at building a Neural Net using keras. "
   ]
  },
  {
   "cell_type": "code",
   "execution_count": 46,
   "id": "dd10aafe",
   "metadata": {},
   "outputs": [
    {
     "name": "stdout",
     "output_type": "stream",
     "text": [
      "Training Binary Accuracy = 0.6279900074005127\n",
      "Testing Binary Accuracy = 0.9380764365196228\n"
     ]
    }
   ],
   "source": [
    "# First, attempting to see whether I can get a keras neural net working \n",
    "\n",
    "# Applying dimensionality reduction to our data\n",
    "X_train_nn = X_train_pca_df.iloc[:, 0:2]\n",
    "train_labels_nn = X_train_pca_df.iloc[:, 2]\n",
    "\n",
    "test_data_pca = pca.transform(test_data.fillna(0))\n",
    "test_data_nn = pd.DataFrame(test_data_pca)\n",
    "\n",
    "# Define the keras model \n",
    "model = Sequential()\n",
    "model.add(Dense(12, input_dim=2, activation=\"relu\"))\n",
    "model.add(Dense(8, activation=\"relu\"))\n",
    "model.add(Dense(1, activation=\"sigmoid\"))\n",
    "\n",
    "# Compile the keras model \n",
    "model.compile(loss=keras.losses.BinaryCrossentropy(), \n",
    "              optimizer=\"adam\", \n",
    "              metrics=[keras.metrics.BinaryAccuracy()])\n",
    "\n",
    "# Fit the keras model \n",
    "model.fit(X_train_nn, train_labels_nn, epochs=50, batch_size=10, verbose=0)\n",
    "\n",
    "# Evaluate the keras model \n",
    "_, binary_accuracy = model.evaluate(X_train_nn, train_labels_nn, verbose=0)\n",
    "print(f\"Training Binary Accuracy = {binary_accuracy}\")\n",
    "\n",
    "_, binary_accuracy= model.evaluate(test_data_nn, test_labels, verbose=0)     \n",
    "\n",
    "#######Could the accuracy be different because you need test_labels_nn? ^\n",
    "print(f\"Testing Binary Accuracy = {binary_accuracy}\")"
   ]
  },
  {
   "cell_type": "markdown",
   "id": "4d603a75",
   "metadata": {},
   "source": [
    "### Neural Net: Cross Validation"
   ]
  },
  {
   "cell_type": "markdown",
   "id": "ac91518e-e8c9-4e93-bcdf-1298d76d6705",
   "metadata": {},
   "source": [
    "Given our relatively high accuracy, let's pretend this is our final model. In this section, we are interested about what number of principal components is most optimal to train our Neural Net on. This is important because a Neural Net takes a long time to train when testing against several combinations of hyperparameters.   \n",
    "\n",
    "First, we will apply dimensionality reduction to our data and concatenate the test and train sets to create train/validation splits with all of our data. "
   ]
  },
  {
   "cell_type": "code",
   "execution_count": 47,
   "id": "ff2f902b",
   "metadata": {},
   "outputs": [],
   "source": [
    "# Applying dimensionality reduction to our data\n",
    "X_train_nn = X_train_pca_df.iloc[:, 0:2]\n",
    "train_labels_nn = X_train_pca_df.iloc[:, 2]\n",
    "\n",
    "test_data_pca = pca.transform(test_data.fillna(0))\n",
    "test_data_nn = pd.DataFrame(test_data_pca)"
   ]
  },
  {
   "cell_type": "code",
   "execution_count": 48,
   "id": "309418d4",
   "metadata": {},
   "outputs": [],
   "source": [
    "inputs = np.concatenate((X_train_nn, test_data_nn), axis=0)\n",
    "targets = np.concatenate((train_labels_nn, test_labels), axis=0)"
   ]
  },
  {
   "cell_type": "code",
   "execution_count": 62,
   "id": "6e30e8e1",
   "metadata": {},
   "outputs": [],
   "source": [
    "def cross_validation(train_data, train_labels, test_data, test_labels, num_components):\n",
    "    \n",
    "    inputs = np.concatenate((train_data, test_data), axis=0)\n",
    "    targets = np.concatenate((train_labels, test_labels), axis=0)\n",
    "    \n",
    "    num_folds = 10\n",
    "\n",
    "    # Define the K-fold Cross Validator\n",
    "    kfold = KFold(n_splits=num_folds, shuffle=True)\n",
    "\n",
    "    acc_per_fold = []\n",
    "    loss_per_fold = []\n",
    "\n",
    "    # K-fold Cross Validation model evaluation\n",
    "    fold_no = 1\n",
    "    for train, test in kfold.split(inputs, targets):\n",
    "\n",
    "        # Define the keras model \n",
    "        model = Sequential()\n",
    "        model.add(Dense(12, input_dim=num_components, activation=\"relu\"))\n",
    "        model.add(Dense(8, activation=\"relu\"))\n",
    "        model.add(Dense(1, activation=\"sigmoid\"))\n",
    "\n",
    "        # Compile the keras model \n",
    "        model.compile(loss=keras.losses.BinaryCrossentropy(), \n",
    "                      optimizer=\"adam\", \n",
    "                      metrics=[keras.metrics.BinaryAccuracy()])\n",
    "\n",
    "        # Fit data to model\n",
    "        history = model.fit(inputs[train], \n",
    "                            targets[train], \n",
    "                            epochs=50, \n",
    "                            batch_size=10, \n",
    "                            verbose=0)\n",
    "\n",
    "        # Generate generalization metrics\n",
    "        scores = model.evaluate(inputs[test], targets[test], verbose=0)\n",
    "        print(f'Score for fold {fold_no}: {model.metrics_names[0]} of {scores[0]}; {model.metrics_names[1]} of {scores[1]*100}%')\n",
    "        acc_per_fold.append(scores[1] * 100)\n",
    "        loss_per_fold.append(scores[0])\n",
    "\n",
    "        # Increase fold number\n",
    "        fold_no = fold_no + 1\n",
    "        \n",
    "\n",
    "    print('-' * 20)\n",
    "    print('Score per fold')\n",
    "    print('-' * 20)\n",
    "    print('Average scores for all folds:')\n",
    "    print(f'> Accuracy: {np.mean(acc_per_fold)} (+- {np.std(acc_per_fold)})')\n",
    "    print(f'> Loss: {np.mean(loss_per_fold)}')\n",
    "    print('-' * 20)"
   ]
  },
  {
   "cell_type": "markdown",
   "id": "23b9dece-db0c-48d2-8e26-3092b5033a80",
   "metadata": {},
   "source": [
    "Now, we run the cross validation against all possible number of principal components. "
   ]
  },
  {
   "cell_type": "code",
   "execution_count": null,
   "id": "b330ccf8",
   "metadata": {},
   "outputs": [],
   "source": [
    "for i in range(2, 7):\n",
    "    \n",
    "    cv_train_data = pca_train_dataframes[i - 2]\n",
    "    cv_test_data = pca_test_dataframes[i - 2]\n",
    "    cv_train_labels = train_labels\n",
    "    cv_test_labels = test_labels\n",
    "    \n",
    "    print(\"=\" * 20)\n",
    "    print(f\"Cross Validation Results for n={i} Principal Components\")\n",
    "    cross_validation(cv_train_data, cv_train_labels, cv_test_data, cv_test_labels, i)\n"
   ]
  },
  {
   "cell_type": "markdown",
   "id": "f8314f46-ed63-4f69-befb-e8d8b8fb689d",
   "metadata": {},
   "source": [
    "Here we see that there is relatively small changes in accuracy across all possible number principal components. For this reason, we will choose hyperparameters for our Neural Net using data transformed and reduced down to 2 principal components for the sake of runtime. "
   ]
  },
  {
   "cell_type": "markdown",
   "id": "5bcfde32",
   "metadata": {},
   "source": [
    "### Neural Net: Grid Search Cross Validation"
   ]
  },
  {
   "cell_type": "markdown",
   "id": "6f5ee22e-8970-4533-9f8a-fadc6221dd51",
   "metadata": {},
   "source": [
    "Now, we will test several combinations of hyperparameters to obtain our optimal Neural Net.  \n",
    "\n",
    "The following code test the best combination of hyperparameters for a 2 layer neural net. "
   ]
  },
  {
   "cell_type": "code",
   "execution_count": null,
   "id": "d0ab9c24",
   "metadata": {},
   "outputs": [],
   "source": [
    "# 2-layer NN GridSearch CV\n",
    "import numpy\n",
    "from sklearn.model_selection import GridSearchCV\n",
    "from keras.models import Sequential\n",
    "from keras.layers import Dense\n",
    "from scikeras.wrappers import KerasClassifier\n",
    "from keras.constraints import maxnorm\n",
    "\n",
    "def create_model(learn_rate, \n",
    "                 activation,\n",
    "                 neurons):\n",
    "    model = Sequential()\n",
    "    model.add(Dense(neurons, input_dim=2, activation=activation))\n",
    "    model.add(Dense(1, activation=activation))\n",
    "\n",
    "    model.compile(loss=keras.losses.BinaryCrossentropy(), \n",
    "                  optimizer=\"Adam\", \n",
    "                  metrics=[keras.metrics.BinaryAccuracy()])\n",
    "    \n",
    "    return model\n",
    "\n",
    "model = KerasClassifier(model=create_model, verbose=0,\n",
    "                        optimizer=\"Adam\", learn_rate=0.001, \n",
    "                        loss=keras.losses.BinaryCrossentropy(), epochs=10,\n",
    "                        batch_size=10, activation=\"sigmoid\", neurons=10)\n",
    "\n",
    "# GridSearchCV to test for several hyperparameters\n",
    "hyper_params = {\n",
    "    'batch_size': ([10, 20, 50]),\n",
    "    'epochs': ([10, 20, 50]),\n",
    "    'learn_rate': ([0.001, 0.01, 0.1]),\n",
    "    'activation': (['tanh', 'sigmoid']),\n",
    "    'neurons': ([10, 20, 25]) \n",
    "}\n",
    "\n",
    "grid = GridSearchCV(estimator=model, param_grid=hyper_params, n_jobs=-1, cv=3, verbose=3, error_score=\"raise\")\n",
    "grid_result = grid.fit(inputs, targets)\n",
    "\n",
    "print(\"Best: %f using %s\" % (grid_result.best_score_, grid_result.best_params_))"
   ]
  },
  {
   "cell_type": "markdown",
   "id": "8c0bcdf8-fd79-4950-a995-64c97ea2110a",
   "metadata": {},
   "source": [
    "Below, we do the same for a 3 layer neural net. "
   ]
  },
  {
   "cell_type": "code",
   "execution_count": null,
   "id": "c9563772",
   "metadata": {},
   "outputs": [],
   "source": [
    "# 3-layer NN GridSearchCV\n",
    "def create_model(learn_rate,\n",
    "                 activation,\n",
    "                 neurons):\n",
    "    model = Sequential()\n",
    "    # 1st layer \n",
    "    model.add(Dense(neurons, input_dim=2, activation=activation))\n",
    "    model.add(Dense(neurons - 4, activation=activation))\n",
    "    model.add(Dense(1, activation=activation))\n",
    "\n",
    "    model.compile(loss=keras.losses.BinaryCrossentropy(), \n",
    "                  optimizer=\"Adam\", \n",
    "                  metrics=[keras.metrics.BinaryAccuracy()])\n",
    "    \n",
    "    return model\n",
    "\n",
    "model = KerasClassifier(model=create_model, verbose=False,\n",
    "                        optimizer=\"Adam\", learn_rate=0.1, \n",
    "                        loss=keras.losses.BinaryCrossentropy(), \n",
    "                        epochs=50, batch_size=10, \n",
    "                        activation=\"sigmoid\", neurons=10)\n",
    "\n",
    "# GridSearchCV to test for several hyperparameters\n",
    "hyper_params = {\n",
    "    'batch_size': ([10, 20]),\n",
    "    'epochs': ([10, 20]),\n",
    "    'learn_rate': ([0.001, 0.01, 0.1]),\n",
    "    'activation': ([\"softsign\", \"sigmoid\", \"tanh\"]),\n",
    "    'neurons': ([10, 15, 20, 25, 30]) \n",
    "}\n",
    "\n",
    "grid = GridSearchCV(estimator=model, param_grid=hyper_params, n_jobs=-1, cv=3, verbose=3, error_score=\"raise\")\n",
    "grid_result = grid.fit(inputs, targets)\n",
    "\n",
    "print(\"Best: %f using %s\" % (grid_result.best_score_, grid_result.best_params_))"
   ]
  },
  {
   "cell_type": "markdown",
   "id": "47ca67f9-1820-4d7e-8920-d79ef70e22b1",
   "metadata": {},
   "source": [
    "Now that we have seen the best combination of hyperparameters, we will define our optimal model as the 2 layer neural net given that accuracy does not change much whilst runtime increases wildly. Moving forward, we will use this model to evaluate the performance of Neural Nets relative to Logistic Regression models. "
   ]
  },
  {
   "cell_type": "code",
   "execution_count": null,
   "id": "e221ed68",
   "metadata": {},
   "outputs": [],
   "source": [
    "import tensorflow as tf\n",
    "model = Sequential()\n",
    "model.add(Dense(25, input_dim=2, activation='tanh'))\n",
    "model.add(Dense(1, activation='tanh'))\n",
    "opt = tf.keras.optimizers.Adam(learning_rate=0.001)\n",
    "model.compile(loss=keras.losses.BinaryCrossentropy(), \n",
    "              optimizer=opt, \n",
    "              metrics=[keras.metrics.BinaryAccuracy()])"
   ]
  },
  {
   "cell_type": "code",
   "execution_count": null,
   "id": "5df84548",
   "metadata": {},
   "outputs": [],
   "source": [
    "X_train_nn = X_train_pca_df.iloc[:, 0:2]\n",
    "train_labels_nn = X_train_pca_df.iloc[:, 2]\n",
    "\n",
    "test_data_pca = pca.transform(test_data.fillna(0))\n",
    "test_data_nn = pd.DataFrame(test_data_pca)"
   ]
  },
  {
   "cell_type": "code",
   "execution_count": null,
   "id": "af64b859",
   "metadata": {},
   "outputs": [],
   "source": [
    "hist = model.fit(X_train_nn, train_labels_nn, epochs=20, batch_size=10, verbose=0)"
   ]
  },
  {
   "cell_type": "code",
   "execution_count": null,
   "id": "0b4a6c4f",
   "metadata": {},
   "outputs": [],
   "source": [
    "scores = model.evaluate(test_data_nn, test_labels)"
   ]
  },
  {
   "cell_type": "code",
   "execution_count": null,
   "id": "fbab10be",
   "metadata": {},
   "outputs": [],
   "source": [
    "print(f\"Model Accuracy {scores[1]}\")"
   ]
  },
  {
   "cell_type": "markdown",
   "id": "f5bd11a3",
   "metadata": {},
   "source": [
    "### Neural Net Performance"
   ]
  },
  {
   "cell_type": "markdown",
   "id": "43f7e558",
   "metadata": {},
   "source": [
    "Visualizing model performance with the best hyperparameters."
   ]
  },
  {
   "cell_type": "code",
   "execution_count": null,
   "id": "9f36a70c",
   "metadata": {},
   "outputs": [],
   "source": [
    "y_pred = model.predict(test_data_nn)"
   ]
  },
  {
   "cell_type": "code",
   "execution_count": null,
   "id": "f943b5c0",
   "metadata": {},
   "outputs": [],
   "source": [
    "cf_matrix = pd.DataFrame(metrics.confusion_matrix(test_labels, 1*(y_pred>=0.5)))\n",
    "\n",
    "ax = sns.heatmap(cf_matrix, annot=True, cmap='Blues')\n",
    "\n",
    "ax.set_xlabel('\\nPredicted Values')\n",
    "ax.set_ylabel('Actual Values ');\n",
    "\n",
    "## Ticket labels - List must be in alphabetical order\n",
    "ax.xaxis.set_ticklabels(['False','True'])\n",
    "ax.yaxis.set_ticklabels(['False','True'])\n",
    "\n",
    "## Display the visualization of the Confusion Matrix.\n",
    "plt.show()"
   ]
  },
  {
   "cell_type": "code",
   "execution_count": null,
   "id": "8f4e8554",
   "metadata": {},
   "outputs": [],
   "source": [
    "print(classification_report(test_labels, 1*(y_pred>=0.5)))"
   ]
  },
  {
   "cell_type": "code",
   "execution_count": null,
   "id": "a3a0c164",
   "metadata": {},
   "outputs": [],
   "source": [
    "nn_roc_auc = roc_auc_score(test_labels, y_pred)\n",
    "fpr, tpr, thresholds = roc_curve(test_labels, y_pred)\n",
    "\n",
    "#Plot \n",
    "plt.figure()\n",
    "plt.plot(fpr, tpr, label='Neural Network (area = %0.2f)' % nn_roc_auc)\n",
    "plt.plot([0, 1], [0, 1],'r--')\n",
    "plt.xlim([0.0, 1.0])\n",
    "plt.ylim([0.0, 1.05])\n",
    "plt.xlabel('False Positive Rate')\n",
    "plt.ylabel('True Positive Rate')\n",
    "plt.title('Receiver operating characteristic')\n",
    "plt.legend(loc=\"lower right\")\n",
    "plt.savefig('Log_ROC')\n",
    "plt.show()"
   ]
  },
  {
   "cell_type": "markdown",
   "id": "050f0896",
   "metadata": {},
   "source": [
    "**In conclusion, although in general cases neural networks perform better compared to the logistic regression model, the logistic regression outperforms in this case. In addition, explainability is very important in this case, so we would choose the logistic regression.** Today, it is no longer necessary to predict witch trial executions, but it is necessary to be able to interpret the causes of these historical effects and to be able to make connections to gender issues that continue to exist today. "
   ]
  },
  {
   "cell_type": "markdown",
   "id": "b40f7e2a",
   "metadata": {},
   "source": [
    "#### Contributions\n",
    "\n",
    "**Elda Pere**: Worked on collecting the data, researching 15th-18th century witchcraft in Scotland and how it relates to gender, balancing the target variable with SMOTE, determining significance and interpreting results of logistic regression, evaluating and visualizing the performance of the models that are run, and working on the presentation. \n",
    "\n",
    "**Kevin Gu**: Worked on data exploration, cleaning/preprocessing, feature engineering,  PCA dimensionality reduction, helped on presentation\n",
    "\n",
    "**Alejandro Pelcastre**: Worked on data exploration, data cleaning + probability distribution function (to fill na), Decision Tree (scraped because didn't add much), created baseline Logistic Regression model + L1 regularization on regular+transformed data, helped with presentation\n",
    "\n",
    "**Carlos Calderon**: Assisted in data collection. Worked on cross validation and grid search cross validation for Neural Net construction. Assisted in the exploratory data analysis process. "
   ]
  },
  {
   "cell_type": "markdown",
   "id": "b4b62710",
   "metadata": {},
   "source": [
    "### Thank you!"
   ]
  }
 ],
 "metadata": {
  "kernelspec": {
   "display_name": "Python 3",
   "language": "python",
   "name": "python3"
  },
  "language_info": {
   "codemirror_mode": {
    "name": "ipython",
    "version": 3
   },
   "file_extension": ".py",
   "mimetype": "text/x-python",
   "name": "python",
   "nbconvert_exporter": "python",
   "pygments_lexer": "ipython3",
   "version": "3.8.8"
  }
 },
 "nbformat": 4,
 "nbformat_minor": 5
}
