{
 "cells": [
  {
   "cell_type": "markdown",
   "id": "9792e26b",
   "metadata": {},
   "source": [
    "# Using Historical ML to Predict the Fate of Accused Witches \n",
    "Elda Pere, Carlos Calderon, Alejandro Pelcastre, Kevin Gu \n"
   ]
  },
  {
   "cell_type": "markdown",
   "id": "6106987a",
   "metadata": {},
   "source": [
    "In this notebook, we attempt to answer the question: **How well can we predict whether a witch trial will end in execution using gender and gender related features?**. The data comes from the University of Edinburgh's Historical Scottish Witchcraft Dataset, with information dated between the 15th and 18th century in Scotland. This topic ties into modern-day sexism. The purpose of it is to understand the roots of gender equality issues in history to be able to better understand their evolution into sexism today.  "
   ]
  },
  {
   "cell_type": "markdown",
   "id": "bf146ce8",
   "metadata": {},
   "source": [
    "### Import Packages and Data"
   ]
  },
  {
   "cell_type": "code",
   "execution_count": 1,
   "id": "fe257406",
   "metadata": {},
   "outputs": [],
   "source": [
    "#Might need to download some of these in your console. \n",
    "\n",
    "#conda install -c conda-forge imbalanced-learn\n",
    "#sudo pip install keras\n",
    "#pip install tensorflow\n",
    "#pip install graphviz"
   ]
  },
  {
   "cell_type": "code",
   "execution_count": 2,
   "id": "787a119a",
   "metadata": {},
   "outputs": [
    {
     "name": "stdout",
     "output_type": "stream",
     "text": [
      "Set up complete\n"
     ]
    }
   ],
   "source": [
    "%matplotlib inline\n",
    "import time\n",
    "import numpy as np\n",
    "import pandas as pd\n",
    "import sklearn\n",
    "import random\n",
    "import seaborn as sns\n",
    "import matplotlib.pyplot as plt\n",
    "from matplotlib.ticker import MultipleLocator\n",
    "from sklearn.pipeline import Pipeline\n",
    "from sklearn.datasets import fetch_openml\n",
    "from sklearn.neighbors import KNeighborsClassifier\n",
    "from sklearn.metrics import confusion_matrix\n",
    "from sklearn.linear_model import LinearRegression\n",
    "from sklearn.naive_bayes import BernoulliNB\n",
    "from sklearn.naive_bayes import MultinomialNB\n",
    "from sklearn.naive_bayes import GaussianNB\n",
    "from sklearn.model_selection import GridSearchCV\n",
    "from sklearn.metrics import classification_report\n",
    "from sklearn.linear_model import LogisticRegression\n",
    "from sklearn.metrics import classification_report\n",
    "from sklearn.metrics import plot_confusion_matrix\n",
    "from sklearn.metrics import roc_auc_score\n",
    "from sklearn.metrics import roc_curve\n",
    "import urllib.request as urllib2 # For python3\n",
    "from sklearn import metrics\n",
    "from sklearn.decomposition import PCA\n",
    "from sklearn.cluster import KMeans\n",
    "from sklearn.mixture import GaussianMixture\n",
    "from matplotlib.colors import LogNorm\n",
    "from collections import Counter\n",
    "from imblearn.over_sampling import SMOTE\n",
    "from scipy.stats import norm\n",
    "from keras.models import Sequential\n",
    "from keras.layers import Dense\n",
    "import keras\n",
    "from tensorflow.keras.layers import Dense, Flatten, Conv2D, MaxPooling2D\n",
    "from tensorflow.keras.losses import sparse_categorical_crossentropy\n",
    "from sklearn.model_selection import KFold\n",
    "\n",
    "\n",
    "# Set the randomizer seed so results are the same each time.\n",
    "np.random.seed(0)\n",
    "print(\"Set up complete\")"
   ]
  },
  {
   "cell_type": "code",
   "execution_count": 3,
   "id": "299ab2d0",
   "metadata": {},
   "outputs": [
    {
     "data": {
      "text/html": [
       "<div>\n",
       "<style scoped>\n",
       "    .dataframe tbody tr th:only-of-type {\n",
       "        vertical-align: middle;\n",
       "    }\n",
       "\n",
       "    .dataframe tbody tr th {\n",
       "        vertical-align: top;\n",
       "    }\n",
       "\n",
       "    .dataframe thead th {\n",
       "        text-align: right;\n",
       "    }\n",
       "</style>\n",
       "<table border=\"1\" class=\"dataframe\">\n",
       "  <thead>\n",
       "    <tr style=\"text-align: right;\">\n",
       "      <th></th>\n",
       "      <th>AccusedRef</th>\n",
       "      <th>AccusedSystemId</th>\n",
       "      <th>AccusedID</th>\n",
       "      <th>FirstName</th>\n",
       "      <th>LastName</th>\n",
       "      <th>M_Firstname</th>\n",
       "      <th>M_Surname</th>\n",
       "      <th>Alias</th>\n",
       "      <th>Patronymic</th>\n",
       "      <th>DesTitle</th>\n",
       "      <th>...</th>\n",
       "      <th>Exec_county</th>\n",
       "      <th>Exec_burgh</th>\n",
       "      <th>Exec_NGR_Letters</th>\n",
       "      <th>Exec_NGR_Easting</th>\n",
       "      <th>Exec_NGR_Northing</th>\n",
       "      <th>PostTrialNotes</th>\n",
       "      <th>Createdby_y</th>\n",
       "      <th>Createdate_y</th>\n",
       "      <th>Lastupdatedby_y</th>\n",
       "      <th>Lastupdatedon_y</th>\n",
       "    </tr>\n",
       "  </thead>\n",
       "  <tbody>\n",
       "    <tr>\n",
       "      <th>0</th>\n",
       "      <td>A/EGD/10</td>\n",
       "      <td>EGD</td>\n",
       "      <td>10.0</td>\n",
       "      <td>Mareon</td>\n",
       "      <td>Quheitt</td>\n",
       "      <td>Marion</td>\n",
       "      <td>White</td>\n",
       "      <td>NaN</td>\n",
       "      <td>NaN</td>\n",
       "      <td>NaN</td>\n",
       "      <td>...</td>\n",
       "      <td>NaN</td>\n",
       "      <td>NaN</td>\n",
       "      <td>NaN</td>\n",
       "      <td>NaN</td>\n",
       "      <td>NaN</td>\n",
       "      <td>NaN</td>\n",
       "      <td>jhm</td>\n",
       "      <td>08/07/02 15:23:55</td>\n",
       "      <td>LEM</td>\n",
       "      <td>10/28/02 13:06:53</td>\n",
       "    </tr>\n",
       "    <tr>\n",
       "      <th>1</th>\n",
       "      <td>A/EGD/100</td>\n",
       "      <td>EGD</td>\n",
       "      <td>100.0</td>\n",
       "      <td>Thom</td>\n",
       "      <td>Cockburn</td>\n",
       "      <td>Thomas</td>\n",
       "      <td>Cockburn</td>\n",
       "      <td>NaN</td>\n",
       "      <td>NaN</td>\n",
       "      <td>NaN</td>\n",
       "      <td>...</td>\n",
       "      <td>NaN</td>\n",
       "      <td>NaN</td>\n",
       "      <td>NaN</td>\n",
       "      <td>NaN</td>\n",
       "      <td>NaN</td>\n",
       "      <td>NaN</td>\n",
       "      <td>LEM</td>\n",
       "      <td>07/24/02 16:01:21</td>\n",
       "      <td>LEM</td>\n",
       "      <td>07/24/02 16:01:23</td>\n",
       "    </tr>\n",
       "    <tr>\n",
       "      <th>2</th>\n",
       "      <td>A/EGD/1000</td>\n",
       "      <td>EGD</td>\n",
       "      <td>1000.0</td>\n",
       "      <td>Christian</td>\n",
       "      <td>Aitkenhead</td>\n",
       "      <td>Christine</td>\n",
       "      <td>Aikenhead</td>\n",
       "      <td>NaN</td>\n",
       "      <td>NaN</td>\n",
       "      <td>NaN</td>\n",
       "      <td>...</td>\n",
       "      <td>NaN</td>\n",
       "      <td>NaN</td>\n",
       "      <td>NaN</td>\n",
       "      <td>NaN</td>\n",
       "      <td>NaN</td>\n",
       "      <td>NaN</td>\n",
       "      <td>LEM</td>\n",
       "      <td>07/18/01 16:13:27</td>\n",
       "      <td>jhm</td>\n",
       "      <td>10/01/02 10:48:24</td>\n",
       "    </tr>\n",
       "  </tbody>\n",
       "</table>\n",
       "<p>3 rows × 205 columns</p>\n",
       "</div>"
      ],
      "text/plain": [
       "   AccusedRef AccusedSystemId  AccusedID  FirstName    LastName M_Firstname  \\\n",
       "0    A/EGD/10             EGD       10.0     Mareon     Quheitt      Marion   \n",
       "1   A/EGD/100             EGD      100.0       Thom    Cockburn      Thomas   \n",
       "2  A/EGD/1000             EGD     1000.0  Christian  Aitkenhead   Christine   \n",
       "\n",
       "   M_Surname Alias Patronymic DesTitle  ... Exec_county  Exec_burgh  \\\n",
       "0      White   NaN        NaN      NaN  ...         NaN         NaN   \n",
       "1   Cockburn   NaN        NaN      NaN  ...         NaN         NaN   \n",
       "2  Aikenhead   NaN        NaN      NaN  ...         NaN         NaN   \n",
       "\n",
       "   Exec_NGR_Letters  Exec_NGR_Easting Exec_NGR_Northing PostTrialNotes  \\\n",
       "0               NaN               NaN               NaN            NaN   \n",
       "1               NaN               NaN               NaN            NaN   \n",
       "2               NaN               NaN               NaN            NaN   \n",
       "\n",
       "  Createdby_y       Createdate_y Lastupdatedby_y    Lastupdatedon_y  \n",
       "0         jhm  08/07/02 15:23:55             LEM  10/28/02 13:06:53  \n",
       "1         LEM  07/24/02 16:01:21             LEM  07/24/02 16:01:23  \n",
       "2         LEM  07/18/01 16:13:27             jhm  10/01/02 10:48:24  \n",
       "\n",
       "[3 rows x 205 columns]"
      ]
     },
     "execution_count": 3,
     "metadata": {},
     "output_type": "execute_result"
    }
   ],
   "source": [
    "#Quick overview of data\n",
    "data = pd.read_csv(\"data/derived_accused_cases_trials.csv\")\n",
    "data.head(3)"
   ]
  },
  {
   "cell_type": "code",
   "execution_count": 4,
   "id": "b20a1916",
   "metadata": {},
   "outputs": [
    {
     "name": "stdout",
     "output_type": "stream",
     "text": [
      "The shape of our data: (3795, 205)\n"
     ]
    }
   ],
   "source": [
    "print(\"The shape of our data:\",data.shape)"
   ]
  },
  {
   "cell_type": "markdown",
   "id": "aaa6c991",
   "metadata": {},
   "source": [
    "### Preprocessing"
   ]
  },
  {
   "cell_type": "code",
   "execution_count": 5,
   "id": "c8b3fd2b",
   "metadata": {},
   "outputs": [],
   "source": [
    "# Features we are interested in \n",
    "list_of_trial_features = ['Execution', 'Noreftocentral', 'Localwithcrep', 'Circuit', 'Cjtorder', 'Defence', 'High_status', \n",
    "                          'Male_accusers', 'Female_accusers', 'Confrontingsuspects', 'ActionDropped', 'Fled', 'Arrest', \n",
    "                          'Watching', 'TrialType']\n",
    "\n",
    "list_of_accused_features = ['AccusedRef', 'M_Firstname', 'M_Surname', 'Alias', 'Patronymic', 'DesTitle', 'Sex', 'Age', \n",
    "                            'Res_settlement', 'Res_parish', 'Res_presbytery',  'Res_county', 'Res_burgh', 'Ethnic_origin', \n",
    "                            'MaritalStatus', 'SocioecStatus', 'Occupation', 'Notes']\n",
    "\n",
    "list_of_cases_features = ['CaseRef', 'CaseStart_date', 'CaseStart_date_as_date', 'Case_date', 'Case_date_as_date', 'Age_at_case', \n",
    "                          'CaseCommonName', 'Complaint', 'Correspondence', 'Chronicle', 'Suspects_text', 'Familiars', 'Shape-Changing', \n",
    "                          'Dreams/Visions', 'UnorthodoxReligiousPractice', 'SympatheticMagic', 'Ridingdead', 'FolkNotes', \n",
    "                          'HumanIllness', 'HumanDeath', 'AnimalIllness', 'AnimalDeath', 'FemaleInfertility', 'MaleImpotence', \n",
    "                          'AggravatingDisease', 'TransferringDisease', 'LayingOn', 'Removalbewitchment', 'Quarreling', 'Cursing', \n",
    "                          'Poisoning', 'RecHealer', 'HealingHumans', 'HealingAnimals', 'Midwifery', 'DiseaseNotes', 'PropertyDamage', \n",
    "                          'WeatherModification', 'OtherMaleficiaNotes', 'OtherChargesNotes', 'ClaimedBewitched', 'ClaimedPossessed', \n",
    "                          'AdmitLesserCharge', 'ClaimedNaturalCauses', 'Nodefence', 'DefenseNotes', 'CaseNotes', 'PoliticalMotive_s', \n",
    "                          'PropertyMotive_p', 'PropertyMotive_s', 'RefusedCharity_p', 'RefusedCharity_s', 'Treason_p', 'Treason_s', \n",
    "                          'Other_p', 'Other_s', 'OtherText', 'NotEnoughInfo_p', 'NotEnoughInfo_s', 'WhiteMagic_p', 'WhiteMagic_s', \n",
    "                          'Charnotes', 'DemonicPact', 'DevilNotes', 'WitchesMeeting', 'MeetingName', 'DevilPresent', 'Maleficium', \n",
    "                          'CommunalSex', 'DevilWorship', 'FoodAndDrink', 'Dancing', 'Singing', 'SingingText', 'OtherPractices', \n",
    "                          'MeetingNotes', 'Elphane/Fairyland', 'Food/Drink', 'SpecificVerbalFormulae', 'SpecificRitualActs', \n",
    "                          'UNorthodoxRelPract_p', 'UNorthodoxRelPract_s', 'Consulting_p', 'Consulting_s', 'Demonic_p', 'Demonic_s', \n",
    "                          'Demonic_possess_p', 'Demonic_possess_s', 'Fairies_p', 'Fairies_s', 'Folk_healing_p', 'Folk_healing_s', \n",
    "                          'Maleficium_p', 'Maleficium_s', 'Midwifery_p', 'Midwifery_s', 'ImplicatedByAnother_p', 'ImplicatedByAnother_s', \n",
    "                          'Neighbhd_dispute_p', 'Neighbhd_dispute_s', 'PoliticalMotive_p']"
   ]
  },
  {
   "cell_type": "code",
   "execution_count": 6,
   "id": "dfc46f4e",
   "metadata": {},
   "outputs": [],
   "source": [
    "#Limit data to important features.\n",
    "all_features = list_of_accused_features + list_of_cases_features + list_of_trial_features\n",
    "df = data[all_features]"
   ]
  },
  {
   "cell_type": "code",
   "execution_count": 11,
   "id": "7b03bcb5",
   "metadata": {},
   "outputs": [],
   "source": [
    "#Drop columns with more than 70% missing values. This helps us weed out less important features\n",
    "percent_non_null = 0.7\n",
    "df = df.dropna(axis = 1, thresh=df.shape[0]*percent_non_null)"
   ]
  },
  {
   "cell_type": "code",
   "execution_count": 12,
   "id": "31843aa5",
   "metadata": {},
   "outputs": [
    {
     "data": {
      "text/html": [
       "<div>\n",
       "<style scoped>\n",
       "    .dataframe tbody tr th:only-of-type {\n",
       "        vertical-align: middle;\n",
       "    }\n",
       "\n",
       "    .dataframe tbody tr th {\n",
       "        vertical-align: top;\n",
       "    }\n",
       "\n",
       "    .dataframe thead th {\n",
       "        text-align: right;\n",
       "    }\n",
       "</style>\n",
       "<table border=\"1\" class=\"dataframe\">\n",
       "  <thead>\n",
       "    <tr style=\"text-align: right;\">\n",
       "      <th></th>\n",
       "      <th>AccusedRef</th>\n",
       "      <th>M_Firstname</th>\n",
       "      <th>M_Surname</th>\n",
       "      <th>Sex</th>\n",
       "      <th>Res_county</th>\n",
       "      <th>CaseRef</th>\n",
       "      <th>Case_date</th>\n",
       "      <th>Case_date_as_date</th>\n",
       "      <th>CaseCommonName</th>\n",
       "      <th>Familiars</th>\n",
       "      <th>...</th>\n",
       "      <th>Defence</th>\n",
       "      <th>High_status</th>\n",
       "      <th>Male_accusers</th>\n",
       "      <th>Female_accusers</th>\n",
       "      <th>Confrontingsuspects</th>\n",
       "      <th>ActionDropped</th>\n",
       "      <th>Fled</th>\n",
       "      <th>Arrest</th>\n",
       "      <th>Watching</th>\n",
       "      <th>TrialType</th>\n",
       "    </tr>\n",
       "  </thead>\n",
       "  <tbody>\n",
       "    <tr>\n",
       "      <th>count</th>\n",
       "      <td>3594</td>\n",
       "      <td>3550</td>\n",
       "      <td>3558</td>\n",
       "      <td>3544</td>\n",
       "      <td>3474</td>\n",
       "      <td>3788</td>\n",
       "      <td>3774</td>\n",
       "      <td>3773</td>\n",
       "      <td>3788</td>\n",
       "      <td>3788.000000</td>\n",
       "      <td>...</td>\n",
       "      <td>3211.000000</td>\n",
       "      <td>3211.000000</td>\n",
       "      <td>3209.000000</td>\n",
       "      <td>3208.000000</td>\n",
       "      <td>3211.000000</td>\n",
       "      <td>3211.000000</td>\n",
       "      <td>3211.00000</td>\n",
       "      <td>3211.000000</td>\n",
       "      <td>3211.000000</td>\n",
       "      <td>3211.000000</td>\n",
       "    </tr>\n",
       "    <tr>\n",
       "      <th>unique</th>\n",
       "      <td>3219</td>\n",
       "      <td>159</td>\n",
       "      <td>1168</td>\n",
       "      <td>2</td>\n",
       "      <td>34</td>\n",
       "      <td>3413</td>\n",
       "      <td>1164</td>\n",
       "      <td>1159</td>\n",
       "      <td>3047</td>\n",
       "      <td>NaN</td>\n",
       "      <td>...</td>\n",
       "      <td>NaN</td>\n",
       "      <td>NaN</td>\n",
       "      <td>NaN</td>\n",
       "      <td>NaN</td>\n",
       "      <td>NaN</td>\n",
       "      <td>NaN</td>\n",
       "      <td>NaN</td>\n",
       "      <td>NaN</td>\n",
       "      <td>NaN</td>\n",
       "      <td>NaN</td>\n",
       "    </tr>\n",
       "    <tr>\n",
       "      <th>top</th>\n",
       "      <td>A/EGD/1342</td>\n",
       "      <td>Janet</td>\n",
       "      <td>Thomson</td>\n",
       "      <td>Female</td>\n",
       "      <td>Haddington</td>\n",
       "      <td>C/EGD/1545</td>\n",
       "      <td>17/4/1662</td>\n",
       "      <td>04/17/62 00:00:00</td>\n",
       "      <td>3 unnamed witches</td>\n",
       "      <td>NaN</td>\n",
       "      <td>...</td>\n",
       "      <td>NaN</td>\n",
       "      <td>NaN</td>\n",
       "      <td>NaN</td>\n",
       "      <td>NaN</td>\n",
       "      <td>NaN</td>\n",
       "      <td>NaN</td>\n",
       "      <td>NaN</td>\n",
       "      <td>NaN</td>\n",
       "      <td>NaN</td>\n",
       "      <td>NaN</td>\n",
       "    </tr>\n",
       "    <tr>\n",
       "      <th>freq</th>\n",
       "      <td>3</td>\n",
       "      <td>544</td>\n",
       "      <td>66</td>\n",
       "      <td>3030</td>\n",
       "      <td>658</td>\n",
       "      <td>3</td>\n",
       "      <td>93</td>\n",
       "      <td>93</td>\n",
       "      <td>109</td>\n",
       "      <td>NaN</td>\n",
       "      <td>...</td>\n",
       "      <td>NaN</td>\n",
       "      <td>NaN</td>\n",
       "      <td>NaN</td>\n",
       "      <td>NaN</td>\n",
       "      <td>NaN</td>\n",
       "      <td>NaN</td>\n",
       "      <td>NaN</td>\n",
       "      <td>NaN</td>\n",
       "      <td>NaN</td>\n",
       "      <td>NaN</td>\n",
       "    </tr>\n",
       "    <tr>\n",
       "      <th>mean</th>\n",
       "      <td>NaN</td>\n",
       "      <td>NaN</td>\n",
       "      <td>NaN</td>\n",
       "      <td>NaN</td>\n",
       "      <td>NaN</td>\n",
       "      <td>NaN</td>\n",
       "      <td>NaN</td>\n",
       "      <td>NaN</td>\n",
       "      <td>NaN</td>\n",
       "      <td>0.003432</td>\n",
       "      <td>...</td>\n",
       "      <td>0.013080</td>\n",
       "      <td>0.008409</td>\n",
       "      <td>0.418199</td>\n",
       "      <td>0.255923</td>\n",
       "      <td>0.032077</td>\n",
       "      <td>0.012457</td>\n",
       "      <td>0.03052</td>\n",
       "      <td>0.151355</td>\n",
       "      <td>0.006851</td>\n",
       "      <td>2.536593</td>\n",
       "    </tr>\n",
       "    <tr>\n",
       "      <th>std</th>\n",
       "      <td>NaN</td>\n",
       "      <td>NaN</td>\n",
       "      <td>NaN</td>\n",
       "      <td>NaN</td>\n",
       "      <td>NaN</td>\n",
       "      <td>NaN</td>\n",
       "      <td>NaN</td>\n",
       "      <td>NaN</td>\n",
       "      <td>NaN</td>\n",
       "      <td>0.058489</td>\n",
       "      <td>...</td>\n",
       "      <td>0.113635</td>\n",
       "      <td>0.091326</td>\n",
       "      <td>2.510500</td>\n",
       "      <td>1.627914</td>\n",
       "      <td>0.176233</td>\n",
       "      <td>0.110932</td>\n",
       "      <td>0.17204</td>\n",
       "      <td>0.358450</td>\n",
       "      <td>0.082502</td>\n",
       "      <td>0.927673</td>\n",
       "    </tr>\n",
       "    <tr>\n",
       "      <th>min</th>\n",
       "      <td>NaN</td>\n",
       "      <td>NaN</td>\n",
       "      <td>NaN</td>\n",
       "      <td>NaN</td>\n",
       "      <td>NaN</td>\n",
       "      <td>NaN</td>\n",
       "      <td>NaN</td>\n",
       "      <td>NaN</td>\n",
       "      <td>NaN</td>\n",
       "      <td>0.000000</td>\n",
       "      <td>...</td>\n",
       "      <td>0.000000</td>\n",
       "      <td>0.000000</td>\n",
       "      <td>0.000000</td>\n",
       "      <td>0.000000</td>\n",
       "      <td>0.000000</td>\n",
       "      <td>0.000000</td>\n",
       "      <td>0.00000</td>\n",
       "      <td>0.000000</td>\n",
       "      <td>0.000000</td>\n",
       "      <td>1.000000</td>\n",
       "    </tr>\n",
       "    <tr>\n",
       "      <th>25%</th>\n",
       "      <td>NaN</td>\n",
       "      <td>NaN</td>\n",
       "      <td>NaN</td>\n",
       "      <td>NaN</td>\n",
       "      <td>NaN</td>\n",
       "      <td>NaN</td>\n",
       "      <td>NaN</td>\n",
       "      <td>NaN</td>\n",
       "      <td>NaN</td>\n",
       "      <td>0.000000</td>\n",
       "      <td>...</td>\n",
       "      <td>0.000000</td>\n",
       "      <td>0.000000</td>\n",
       "      <td>0.000000</td>\n",
       "      <td>0.000000</td>\n",
       "      <td>0.000000</td>\n",
       "      <td>0.000000</td>\n",
       "      <td>0.00000</td>\n",
       "      <td>0.000000</td>\n",
       "      <td>0.000000</td>\n",
       "      <td>2.000000</td>\n",
       "    </tr>\n",
       "    <tr>\n",
       "      <th>50%</th>\n",
       "      <td>NaN</td>\n",
       "      <td>NaN</td>\n",
       "      <td>NaN</td>\n",
       "      <td>NaN</td>\n",
       "      <td>NaN</td>\n",
       "      <td>NaN</td>\n",
       "      <td>NaN</td>\n",
       "      <td>NaN</td>\n",
       "      <td>NaN</td>\n",
       "      <td>0.000000</td>\n",
       "      <td>...</td>\n",
       "      <td>0.000000</td>\n",
       "      <td>0.000000</td>\n",
       "      <td>0.000000</td>\n",
       "      <td>0.000000</td>\n",
       "      <td>0.000000</td>\n",
       "      <td>0.000000</td>\n",
       "      <td>0.00000</td>\n",
       "      <td>0.000000</td>\n",
       "      <td>0.000000</td>\n",
       "      <td>2.000000</td>\n",
       "    </tr>\n",
       "    <tr>\n",
       "      <th>75%</th>\n",
       "      <td>NaN</td>\n",
       "      <td>NaN</td>\n",
       "      <td>NaN</td>\n",
       "      <td>NaN</td>\n",
       "      <td>NaN</td>\n",
       "      <td>NaN</td>\n",
       "      <td>NaN</td>\n",
       "      <td>NaN</td>\n",
       "      <td>NaN</td>\n",
       "      <td>0.000000</td>\n",
       "      <td>...</td>\n",
       "      <td>0.000000</td>\n",
       "      <td>0.000000</td>\n",
       "      <td>0.000000</td>\n",
       "      <td>0.000000</td>\n",
       "      <td>0.000000</td>\n",
       "      <td>0.000000</td>\n",
       "      <td>0.00000</td>\n",
       "      <td>0.000000</td>\n",
       "      <td>0.000000</td>\n",
       "      <td>4.000000</td>\n",
       "    </tr>\n",
       "    <tr>\n",
       "      <th>max</th>\n",
       "      <td>NaN</td>\n",
       "      <td>NaN</td>\n",
       "      <td>NaN</td>\n",
       "      <td>NaN</td>\n",
       "      <td>NaN</td>\n",
       "      <td>NaN</td>\n",
       "      <td>NaN</td>\n",
       "      <td>NaN</td>\n",
       "      <td>NaN</td>\n",
       "      <td>1.000000</td>\n",
       "      <td>...</td>\n",
       "      <td>1.000000</td>\n",
       "      <td>1.000000</td>\n",
       "      <td>48.000000</td>\n",
       "      <td>27.000000</td>\n",
       "      <td>1.000000</td>\n",
       "      <td>1.000000</td>\n",
       "      <td>1.00000</td>\n",
       "      <td>1.000000</td>\n",
       "      <td>1.000000</td>\n",
       "      <td>4.000000</td>\n",
       "    </tr>\n",
       "  </tbody>\n",
       "</table>\n",
       "<p>11 rows × 101 columns</p>\n",
       "</div>"
      ],
      "text/plain": [
       "        AccusedRef M_Firstname M_Surname     Sex  Res_county     CaseRef  \\\n",
       "count         3594        3550      3558    3544        3474        3788   \n",
       "unique        3219         159      1168       2          34        3413   \n",
       "top     A/EGD/1342       Janet   Thomson  Female  Haddington  C/EGD/1545   \n",
       "freq             3         544        66    3030         658           3   \n",
       "mean           NaN         NaN       NaN     NaN         NaN         NaN   \n",
       "std            NaN         NaN       NaN     NaN         NaN         NaN   \n",
       "min            NaN         NaN       NaN     NaN         NaN         NaN   \n",
       "25%            NaN         NaN       NaN     NaN         NaN         NaN   \n",
       "50%            NaN         NaN       NaN     NaN         NaN         NaN   \n",
       "75%            NaN         NaN       NaN     NaN         NaN         NaN   \n",
       "max            NaN         NaN       NaN     NaN         NaN         NaN   \n",
       "\n",
       "        Case_date  Case_date_as_date     CaseCommonName    Familiars  ...  \\\n",
       "count        3774               3773               3788  3788.000000  ...   \n",
       "unique       1164               1159               3047          NaN  ...   \n",
       "top     17/4/1662  04/17/62 00:00:00  3 unnamed witches          NaN  ...   \n",
       "freq           93                 93                109          NaN  ...   \n",
       "mean          NaN                NaN                NaN     0.003432  ...   \n",
       "std           NaN                NaN                NaN     0.058489  ...   \n",
       "min           NaN                NaN                NaN     0.000000  ...   \n",
       "25%           NaN                NaN                NaN     0.000000  ...   \n",
       "50%           NaN                NaN                NaN     0.000000  ...   \n",
       "75%           NaN                NaN                NaN     0.000000  ...   \n",
       "max           NaN                NaN                NaN     1.000000  ...   \n",
       "\n",
       "            Defence  High_status  Male_accusers  Female_accusers  \\\n",
       "count   3211.000000  3211.000000    3209.000000      3208.000000   \n",
       "unique          NaN          NaN            NaN              NaN   \n",
       "top             NaN          NaN            NaN              NaN   \n",
       "freq            NaN          NaN            NaN              NaN   \n",
       "mean       0.013080     0.008409       0.418199         0.255923   \n",
       "std        0.113635     0.091326       2.510500         1.627914   \n",
       "min        0.000000     0.000000       0.000000         0.000000   \n",
       "25%        0.000000     0.000000       0.000000         0.000000   \n",
       "50%        0.000000     0.000000       0.000000         0.000000   \n",
       "75%        0.000000     0.000000       0.000000         0.000000   \n",
       "max        1.000000     1.000000      48.000000        27.000000   \n",
       "\n",
       "        Confrontingsuspects  ActionDropped        Fled       Arrest  \\\n",
       "count           3211.000000    3211.000000  3211.00000  3211.000000   \n",
       "unique                  NaN            NaN         NaN          NaN   \n",
       "top                     NaN            NaN         NaN          NaN   \n",
       "freq                    NaN            NaN         NaN          NaN   \n",
       "mean               0.032077       0.012457     0.03052     0.151355   \n",
       "std                0.176233       0.110932     0.17204     0.358450   \n",
       "min                0.000000       0.000000     0.00000     0.000000   \n",
       "25%                0.000000       0.000000     0.00000     0.000000   \n",
       "50%                0.000000       0.000000     0.00000     0.000000   \n",
       "75%                0.000000       0.000000     0.00000     0.000000   \n",
       "max                1.000000       1.000000     1.00000     1.000000   \n",
       "\n",
       "           Watching    TrialType  \n",
       "count   3211.000000  3211.000000  \n",
       "unique          NaN          NaN  \n",
       "top             NaN          NaN  \n",
       "freq            NaN          NaN  \n",
       "mean       0.006851     2.536593  \n",
       "std        0.082502     0.927673  \n",
       "min        0.000000     1.000000  \n",
       "25%        0.000000     2.000000  \n",
       "50%        0.000000     2.000000  \n",
       "75%        0.000000     4.000000  \n",
       "max        1.000000     4.000000  \n",
       "\n",
       "[11 rows x 101 columns]"
      ]
     },
     "execution_count": 12,
     "metadata": {},
     "output_type": "execute_result"
    }
   ],
   "source": [
    "df.describe(include=\"all\")"
   ]
  },
  {
   "cell_type": "code",
   "execution_count": 13,
   "id": "d6f24a7b",
   "metadata": {},
   "outputs": [],
   "source": [
    "percent_missing = df.isnull().sum() * 100 / len(df)\n",
    "missing_value_df = pd.DataFrame({'column_name': df.columns,\n",
    "                                 'percent_missing': percent_missing})"
   ]
  },
  {
   "cell_type": "code",
   "execution_count": 14,
   "id": "8ac9aab5",
   "metadata": {},
   "outputs": [
    {
     "data": {
      "text/html": [
       "<div>\n",
       "<style scoped>\n",
       "    .dataframe tbody tr th:only-of-type {\n",
       "        vertical-align: middle;\n",
       "    }\n",
       "\n",
       "    .dataframe tbody tr th {\n",
       "        vertical-align: top;\n",
       "    }\n",
       "\n",
       "    .dataframe thead th {\n",
       "        text-align: right;\n",
       "    }\n",
       "</style>\n",
       "<table border=\"1\" class=\"dataframe\">\n",
       "  <thead>\n",
       "    <tr style=\"text-align: right;\">\n",
       "      <th></th>\n",
       "      <th>column_name</th>\n",
       "      <th>percent_missing</th>\n",
       "    </tr>\n",
       "  </thead>\n",
       "  <tbody>\n",
       "    <tr>\n",
       "      <th>Female_accusers</th>\n",
       "      <td>Female_accusers</td>\n",
       "      <td>15.467721</td>\n",
       "    </tr>\n",
       "    <tr>\n",
       "      <th>Male_accusers</th>\n",
       "      <td>Male_accusers</td>\n",
       "      <td>15.441370</td>\n",
       "    </tr>\n",
       "    <tr>\n",
       "      <th>TrialType</th>\n",
       "      <td>TrialType</td>\n",
       "      <td>15.388669</td>\n",
       "    </tr>\n",
       "    <tr>\n",
       "      <th>Noreftocentral</th>\n",
       "      <td>Noreftocentral</td>\n",
       "      <td>15.388669</td>\n",
       "    </tr>\n",
       "    <tr>\n",
       "      <th>Localwithcrep</th>\n",
       "      <td>Localwithcrep</td>\n",
       "      <td>15.388669</td>\n",
       "    </tr>\n",
       "  </tbody>\n",
       "</table>\n",
       "</div>"
      ],
      "text/plain": [
       "                     column_name  percent_missing\n",
       "Female_accusers  Female_accusers        15.467721\n",
       "Male_accusers      Male_accusers        15.441370\n",
       "TrialType              TrialType        15.388669\n",
       "Noreftocentral    Noreftocentral        15.388669\n",
       "Localwithcrep      Localwithcrep        15.388669"
      ]
     },
     "execution_count": 14,
     "metadata": {},
     "output_type": "execute_result"
    }
   ],
   "source": [
    "missing_value_df.sort_values(\"percent_missing\", ascending=False).head(5)"
   ]
  },
  {
   "cell_type": "code",
   "execution_count": 15,
   "id": "e1098909",
   "metadata": {},
   "outputs": [],
   "source": [
    "percent_missing = df.isna().sum() * 100 / len(df)\n",
    "missing_value_df = pd.DataFrame({'column_name': df.columns,\n",
    "                                 'percent_missing': percent_missing})"
   ]
  },
  {
   "cell_type": "code",
   "execution_count": 16,
   "id": "cc40a035",
   "metadata": {},
   "outputs": [
    {
     "data": {
      "text/html": [
       "<div>\n",
       "<style scoped>\n",
       "    .dataframe tbody tr th:only-of-type {\n",
       "        vertical-align: middle;\n",
       "    }\n",
       "\n",
       "    .dataframe tbody tr th {\n",
       "        vertical-align: top;\n",
       "    }\n",
       "\n",
       "    .dataframe thead th {\n",
       "        text-align: right;\n",
       "    }\n",
       "</style>\n",
       "<table border=\"1\" class=\"dataframe\">\n",
       "  <thead>\n",
       "    <tr style=\"text-align: right;\">\n",
       "      <th></th>\n",
       "      <th>column_name</th>\n",
       "      <th>percent_missing</th>\n",
       "    </tr>\n",
       "  </thead>\n",
       "  <tbody>\n",
       "    <tr>\n",
       "      <th>WhiteMagic_p</th>\n",
       "      <td>WhiteMagic_p</td>\n",
       "      <td>0.184453</td>\n",
       "    </tr>\n",
       "    <tr>\n",
       "      <th>DevilWorship</th>\n",
       "      <td>DevilWorship</td>\n",
       "      <td>0.184453</td>\n",
       "    </tr>\n",
       "    <tr>\n",
       "      <th>CommunalSex</th>\n",
       "      <td>CommunalSex</td>\n",
       "      <td>0.184453</td>\n",
       "    </tr>\n",
       "    <tr>\n",
       "      <th>Maleficium</th>\n",
       "      <td>Maleficium</td>\n",
       "      <td>0.184453</td>\n",
       "    </tr>\n",
       "    <tr>\n",
       "      <th>DevilPresent</th>\n",
       "      <td>DevilPresent</td>\n",
       "      <td>0.184453</td>\n",
       "    </tr>\n",
       "  </tbody>\n",
       "</table>\n",
       "</div>"
      ],
      "text/plain": [
       "               column_name  percent_missing\n",
       "WhiteMagic_p  WhiteMagic_p         0.184453\n",
       "DevilWorship  DevilWorship         0.184453\n",
       "CommunalSex    CommunalSex         0.184453\n",
       "Maleficium      Maleficium         0.184453\n",
       "DevilPresent  DevilPresent         0.184453"
      ]
     },
     "execution_count": 16,
     "metadata": {},
     "output_type": "execute_result"
    }
   ],
   "source": [
    "missing_value_df.sort_values(\"percent_missing\", ascending=True).head(5)\n"
   ]
  },
  {
   "cell_type": "code",
   "execution_count": 17,
   "id": "8f722bf3",
   "metadata": {},
   "outputs": [],
   "source": [
    "important_features = ['Execution', 'Arrest', 'Fled', 'ActionDropped', 'High_status', 'Male_accusers', 'Female_accusers', \n",
    "                      'WhiteMagic_p', 'WhiteMagic_s', 'Folk_healing_p', 'Folk_healing_s', 'Demonic_possess_p', 'Demonic_possess_s', \n",
    "                     'UNorthodoxRelPract_p', 'UNorthodoxRelPract_s', 'UnorthodoxReligiousPractice', 'HealingHumans', 'HealingAnimals', \n",
    "                     'Neighbhd_dispute_p', 'Neighbhd_dispute_s', 'PoliticalMotive_p', 'PoliticalMotive_s', 'PropertyMotive_p', 'PropertyMotive_s', \n",
    "                     'RefusedCharity_p', 'RefusedCharity_s', 'Treason_p', 'Treason_s', 'Quarreling', 'Cursing', 'Poisoning', 'RecHealer', \n",
    "                     'Dancing', 'Singing', 'Midwifery']"
   ]
  },
  {
   "cell_type": "code",
   "execution_count": 18,
   "id": "5743f7b3",
   "metadata": {},
   "outputs": [],
   "source": [
    "df_important_features = df[important_features]"
   ]
  },
  {
   "cell_type": "code",
   "execution_count": 19,
   "id": "431ef19d",
   "metadata": {},
   "outputs": [],
   "source": [
    "# Add the sex column, but changed to 0-1 format\n",
    "df_sex = pd.get_dummies(df.Sex)\n",
    "df_important_features = pd.concat((df_sex, df_important_features), axis = 1)"
   ]
  },
  {
   "cell_type": "code",
   "execution_count": 20,
   "id": "fae21d7d",
   "metadata": {},
   "outputs": [],
   "source": [
    "df_important_features = df_important_features.drop(['Male'], axis = 1)\n",
    "df_important_features = df_important_features.rename(columns={\"Female\": \"Sex\"})"
   ]
  },
  {
   "cell_type": "code",
   "execution_count": 21,
   "id": "e3528dba",
   "metadata": {},
   "outputs": [],
   "source": [
    "important_features.insert(1, \"Sex\")\n",
    "df_important_features = df_important_features.reindex(columns = important_features)"
   ]
  },
  {
   "cell_type": "code",
   "execution_count": 22,
   "id": "04575c7b",
   "metadata": {},
   "outputs": [
    {
     "name": "stdout",
     "output_type": "stream",
     "text": [
      "Female --> 1\n",
      "Male --> 0\n"
     ]
    },
    {
     "data": {
      "text/plain": [
       "1    3030\n",
       "0     765\n",
       "Name: Sex, dtype: int64"
      ]
     },
     "execution_count": 22,
     "metadata": {},
     "output_type": "execute_result"
    }
   ],
   "source": [
    "print(\"Female --> 1\")\n",
    "print(\"Male --> 0\")\n",
    "df_important_features.Sex.value_counts()"
   ]
  },
  {
   "cell_type": "code",
   "execution_count": 23,
   "id": "83c2df62",
   "metadata": {},
   "outputs": [],
   "source": [
    "def summary(feature):\n",
    "    \"\"\" quick function to print out summaries of features of interest\"\"\"\n",
    "    #Print out all feature values\n",
    "    #print(\"The rows of the feature are,\" , str(feature))\n",
    "    \n",
    "    #print value counts\n",
    "    print('' )\n",
    "    print(\"The values are, \",feature.value_counts() )\n",
    "    print('')\n",
    "    \n",
    "    #print most seen value\n",
    "    mode = max(feature.value_counts())\n",
    "    print(\"The most seen value is,\", mode )\n",
    "    print('')\n",
    "    \n",
    "    #Get unique values of feature\n",
    "    output = []\n",
    "    for x in feature.value_counts():\n",
    "        if x not in output:\n",
    "            output.append(x)\n",
    "    print(\"The unique value counts are\", output)"
   ]
  },
  {
   "cell_type": "code",
   "execution_count": 24,
   "id": "47463148",
   "metadata": {},
   "outputs": [
    {
     "name": "stdout",
     "output_type": "stream",
     "text": [
      "\n",
      "The values are,  0.0    2981\n",
      "1.0     230\n",
      "Name: Execution, dtype: int64\n",
      "\n",
      "The most seen value is, 2981\n",
      "\n",
      "The unique value counts are [2981, 230]\n"
     ]
    }
   ],
   "source": [
    "summary(df_important_features.Execution)"
   ]
  },
  {
   "cell_type": "markdown",
   "id": "448ac3f3",
   "metadata": {},
   "source": [
    "### Replacing Null Values\n",
    "Deleted data columns that were not of type float. Then filled in NaN values with a random value from the column with probability proportional to the frequency of value in the column."
   ]
  },
  {
   "cell_type": "code",
   "execution_count": 25,
   "id": "e9c470a9",
   "metadata": {},
   "outputs": [
    {
     "name": "stdout",
     "output_type": "stream",
     "text": [
      "Total null values before transformation: 8020.0\n"
     ]
    }
   ],
   "source": [
    "df_important_features['Sex']=df_important_features['Sex'].astype('float64')\n",
    "integer_columns = df_important_features.select_dtypes(include=['int64']).columns #this list is empty but here to show I looked for integer types\n",
    "float_columns = df_important_features.select_dtypes(include=['float64']).columns\n",
    "\n",
    "#get columns with float dtypes\n",
    "df_important_features = df_important_features[float_columns]\n",
    "\n",
    "#For each column, sum all the values vertically and skip the null values\n",
    "#Show the column and how many Null values\n",
    "print('Total null values before transformation: ' + str(df_important_features.sum(axis = 0, skipna = True).sum()))\n",
    "#sum up the values (to be used if we wanna incorporate filling with mean but I don't do it in this cell)\n",
    "sum_series = df_important_features.sum(axis = 0, skipna = True)\n",
    "columns = sum_series.index\n",
    "    \n",
    "for col in df_important_features:\n",
    "    values = []\n",
    "    for value in df_important_features[col]:\n",
    "        if not np.isnan(value):\n",
    "            values.append(value)\n",
    "    if len(values) > 0:\n",
    "        while df_important_features[col].isna().sum() > 0:\n",
    "            df_important_features[col].fillna(random.choice(values), inplace = True, limit = 1)\n",
    "    "
   ]
  },
  {
   "cell_type": "code",
   "execution_count": 26,
   "id": "5e346a98",
   "metadata": {},
   "outputs": [
    {
     "name": "stdout",
     "output_type": "stream",
     "text": [
      "Total null values left in the data: 0\n"
     ]
    }
   ],
   "source": [
    "print('Total null values left in the data: ' + str(df_important_features[columns].isna().sum().sum()))"
   ]
  },
  {
   "cell_type": "markdown",
   "id": "c81a5fcf",
   "metadata": {},
   "source": [
    "### Train/Test Split"
   ]
  },
  {
   "cell_type": "code",
   "execution_count": 27,
   "id": "84be92fe",
   "metadata": {},
   "outputs": [
    {
     "name": "stdout",
     "output_type": "stream",
     "text": [
      "training data shape is: (2024, 35) Dev data shape is: (1012, 35) Test data shape is: (759, 35)\n"
     ]
    },
    {
     "name": "stderr",
     "output_type": "stream",
     "text": [
      "C:\\Users\\ELDA~1.PER\\AppData\\Local\\Temp/ipykernel_10316/4029769344.py:1: FutureWarning: In a future version of pandas all arguments of DataFrame.drop except for the argument 'labels' will be keyword-only\n",
      "  X = df_important_features.drop('Execution', 1)\n"
     ]
    }
   ],
   "source": [
    "X = df_important_features.drop('Execution', 1)\n",
    "Y = df_important_features.Execution\n",
    "\n",
    "train_test_split = int(0.8 * X.shape[0])\n",
    "train_dev_split = (int)(2/3 * train_test_split)\n",
    "train_data, train_labels = X[:train_dev_split], Y[:train_dev_split]\n",
    "dev_data, dev_labels = X[train_dev_split:train_test_split], Y[train_dev_split:train_test_split]\n",
    "test_data, test_labels = X[train_test_split:], Y[train_test_split:]\n",
    "\n",
    "print(\"training data shape is:\",train_data.shape, \"Dev data shape is:\", dev_data.shape, \"Test data shape is:\", test_data.shape)"
   ]
  },
  {
   "cell_type": "markdown",
   "id": "86245c1c",
   "metadata": {},
   "source": [
    "### Applying SMOTE for Imbalanced Classes"
   ]
  },
  {
   "cell_type": "code",
   "execution_count": 28,
   "id": "41028285",
   "metadata": {},
   "outputs": [
    {
     "name": "stdout",
     "output_type": "stream",
     "text": [
      "Rebalancing training data:\n",
      "Classes before SMOTE: \n",
      "Counter({0.0: 1852, 1.0: 172})\n",
      "Classes after SMOTE: \n",
      "Counter({0.0: 1852, 1.0: 1852})\n",
      "------------------------------\n",
      "Rebalancing development data:\n",
      "Classes before SMOTE: \n",
      "Counter({0.0: 948, 1.0: 64})\n",
      "Classes after SMOTE: \n",
      "Counter({0.0: 948, 1.0: 948})\n",
      "------------------------------\n"
     ]
    }
   ],
   "source": [
    "#For Training Data: \n",
    "print(\"Rebalancing training data:\")\n",
    "# summarize class distribution\n",
    "print(\"Classes before SMOTE: \")\n",
    "counter = Counter(train_labels)\n",
    "print(counter)\n",
    "# transform the dataset\n",
    "oversample_train = SMOTE(random_state=0)\n",
    "train_data, train_labels = oversample_train.fit_resample(train_data, train_labels)\n",
    "# summarize the new class distribution\n",
    "print(\"Classes after SMOTE: \")\n",
    "counter = Counter(train_labels)\n",
    "print(counter)\n",
    "print(\"-\"*30)\n",
    "\n",
    "#For Dev Data: \n",
    "print(\"Rebalancing development data:\")\n",
    "# summarize class distribution\n",
    "print(\"Classes before SMOTE: \")\n",
    "counter = Counter(dev_labels)\n",
    "print(counter)\n",
    "# transform the dataset\n",
    "oversample_dev = SMOTE(random_state=0)\n",
    "dev_data, dev_labels = oversample_dev.fit_resample(dev_data, dev_labels)\n",
    "# summarize the new class distribution\n",
    "print(\"Classes after SMOTE: \")\n",
    "counter = Counter(dev_labels)\n",
    "print(counter)\n",
    "print(\"-\"*30)"
   ]
  },
  {
   "cell_type": "markdown",
   "id": "d67a7bdc",
   "metadata": {},
   "source": [
    "### PCA, Fraction of Total Variance"
   ]
  },
  {
   "cell_type": "code",
   "execution_count": 29,
   "id": "a9d5ec90",
   "metadata": {},
   "outputs": [
    {
     "data": {
      "text/html": [
       "<div>\n",
       "<style scoped>\n",
       "    .dataframe tbody tr th:only-of-type {\n",
       "        vertical-align: middle;\n",
       "    }\n",
       "\n",
       "    .dataframe tbody tr th {\n",
       "        vertical-align: top;\n",
       "    }\n",
       "\n",
       "    .dataframe thead th {\n",
       "        text-align: right;\n",
       "    }\n",
       "</style>\n",
       "<table border=\"1\" class=\"dataframe\">\n",
       "  <thead>\n",
       "    <tr style=\"text-align: right;\">\n",
       "      <th></th>\n",
       "      <th>0</th>\n",
       "    </tr>\n",
       "  </thead>\n",
       "  <tbody>\n",
       "    <tr>\n",
       "      <th>n = 2</th>\n",
       "      <td>0.919702</td>\n",
       "    </tr>\n",
       "    <tr>\n",
       "      <th>n = 5</th>\n",
       "      <td>0.970317</td>\n",
       "    </tr>\n",
       "    <tr>\n",
       "      <th>n = 4</th>\n",
       "      <td>0.978316</td>\n",
       "    </tr>\n",
       "    <tr>\n",
       "      <th>n = 3</th>\n",
       "      <td>0.982731</td>\n",
       "    </tr>\n",
       "    <tr>\n",
       "      <th>n = 1</th>\n",
       "      <td>0.986501</td>\n",
       "    </tr>\n",
       "  </tbody>\n",
       "</table>\n",
       "</div>"
      ],
      "text/plain": [
       "              0\n",
       "n = 2  0.919702\n",
       "n = 5  0.970317\n",
       "n = 4  0.978316\n",
       "n = 3  0.982731\n",
       "n = 1  0.986501"
      ]
     },
     "metadata": {},
     "output_type": "display_data"
    },
    {
     "data": {
      "image/png": "[encoded data removed]",
      "text/plain": [
       "<Figure size 432x288 with 1 Axes>"
      ]
     },
     "metadata": {
      "needs_background": "light"
     },
     "output_type": "display_data"
    }
   ],
   "source": [
    "pca = PCA(n_components = train_data.shape[1])\n",
    "X_train_pca = pca.fit_transform(train_data.fillna(0))\n",
    "explained_variances = np.cumsum(pca.explained_variance_ratio_)\n",
    "\n",
    "display(pd.DataFrame(explained_variances[:5], index={\"n = 1\",\"n = 2\",'n = 3','n = 4','n = 5'}))\n",
    "\n",
    "plt.plot(explained_variances);\n",
    "plt.xlabel(\"Number of principal components\");\n",
    "plt.ylabel(\"Proportion of total variance explained\");\n",
    "plt.title(\"Total variance explained vs number of PC's\");"
   ]
  },
  {
   "cell_type": "markdown",
   "id": "88c8cfe3",
   "metadata": {},
   "source": [
    "Let's see what 2 principal components can capture in terms of the executed versus not executed!"
   ]
  },
  {
   "cell_type": "code",
   "execution_count": 30,
   "id": "abe51b4b",
   "metadata": {},
   "outputs": [
    {
     "data": {
      "text/plain": [
       "Text(0.5, 1.0, \"First two PC's, distinguished by executed vs non-executed\")"
      ]
     },
     "execution_count": 30,
     "metadata": {},
     "output_type": "execute_result"
    },
    {
     "data": {
      "image/png": "[encoded data removed]",
      "text/plain": [
       "<Figure size 432x288 with 1 Axes>"
      ]
     },
     "metadata": {
      "needs_background": "light"
     },
     "output_type": "display_data"
    }
   ],
   "source": [
    "pca = PCA(n_components=2)\n",
    "X_train_pca = pca.fit_transform(train_data)\n",
    "X_train_pca_df = pd.DataFrame(X_train_pca)\n",
    "X_train_pca_df = X_train_pca_df.assign(label = train_labels)\n",
    "X_train_pca_df_non_executed, X_train_pca_df_executed = X_train_pca_df[X_train_pca_df['label'] == 0], X_train_pca_df[X_train_pca_df['label'] == 1]\n",
    "plt.scatter(X_train_pca_df_non_executed.loc[:, 0], X_train_pca_df_non_executed.loc[:, 1], color = 'blue', label = \"non-executed\")\n",
    "plt.scatter(X_train_pca_df_executed.loc[:, 0], X_train_pca_df_executed.loc[:, 1], color = 'red', label = \"executed\")\n",
    "plt.legend()\n",
    "plt.xlabel(\"1st Principal Component\")\n",
    "plt.ylabel(\"2nd Principal Component\")\n",
    "plt.title(\"First two PC's, distinguished by executed vs non-executed\")"
   ]
  },
  {
   "cell_type": "code",
   "execution_count": 31,
   "id": "f929ed2d",
   "metadata": {},
   "outputs": [
    {
     "data": {
      "text/html": [
       "<div>\n",
       "<style scoped>\n",
       "    .dataframe tbody tr th:only-of-type {\n",
       "        vertical-align: middle;\n",
       "    }\n",
       "\n",
       "    .dataframe tbody tr th {\n",
       "        vertical-align: top;\n",
       "    }\n",
       "\n",
       "    .dataframe thead th {\n",
       "        text-align: right;\n",
       "    }\n",
       "</style>\n",
       "<table border=\"1\" class=\"dataframe\">\n",
       "  <thead>\n",
       "    <tr style=\"text-align: right;\">\n",
       "      <th></th>\n",
       "      <th>0</th>\n",
       "      <th>1</th>\n",
       "      <th>2</th>\n",
       "      <th>3</th>\n",
       "      <th>4</th>\n",
       "    </tr>\n",
       "  </thead>\n",
       "  <tbody>\n",
       "    <tr>\n",
       "      <th>0</th>\n",
       "      <td>-1.932373</td>\n",
       "      <td>-0.016344</td>\n",
       "      <td>-0.199211</td>\n",
       "      <td>0.102571</td>\n",
       "      <td>0.815585</td>\n",
       "    </tr>\n",
       "    <tr>\n",
       "      <th>1</th>\n",
       "      <td>-1.924583</td>\n",
       "      <td>0.008564</td>\n",
       "      <td>-0.180448</td>\n",
       "      <td>-0.355303</td>\n",
       "      <td>-0.226563</td>\n",
       "    </tr>\n",
       "    <tr>\n",
       "      <th>2</th>\n",
       "      <td>-1.934896</td>\n",
       "      <td>0.027492</td>\n",
       "      <td>-0.171323</td>\n",
       "      <td>0.000472</td>\n",
       "      <td>-0.169362</td>\n",
       "    </tr>\n",
       "    <tr>\n",
       "      <th>3</th>\n",
       "      <td>-1.934896</td>\n",
       "      <td>0.027492</td>\n",
       "      <td>-0.171323</td>\n",
       "      <td>0.000472</td>\n",
       "      <td>-0.169362</td>\n",
       "    </tr>\n",
       "    <tr>\n",
       "      <th>4</th>\n",
       "      <td>-1.932373</td>\n",
       "      <td>-0.016344</td>\n",
       "      <td>-0.199211</td>\n",
       "      <td>0.102571</td>\n",
       "      <td>0.815585</td>\n",
       "    </tr>\n",
       "  </tbody>\n",
       "</table>\n",
       "</div>"
      ],
      "text/plain": [
       "          0         1         2         3         4\n",
       "0 -1.932373 -0.016344 -0.199211  0.102571  0.815585\n",
       "1 -1.924583  0.008564 -0.180448 -0.355303 -0.226563\n",
       "2 -1.934896  0.027492 -0.171323  0.000472 -0.169362\n",
       "3 -1.934896  0.027492 -0.171323  0.000472 -0.169362\n",
       "4 -1.932373 -0.016344 -0.199211  0.102571  0.815585"
      ]
     },
     "execution_count": 31,
     "metadata": {},
     "output_type": "execute_result"
    }
   ],
   "source": [
    "# List of additional PC's\n",
    "pca_train_dataframes = []\n",
    "pca_test_dataframes = []\n",
    "for i in range(2, 7):\n",
    "    pca_model = PCA(n_components=i)\n",
    "    \n",
    "    # Feature selection for training data\n",
    "    pca_data = pca_model.fit_transform(train_data)\n",
    "    pca_train_dataframes.append(pd.DataFrame(pca_data))\n",
    "    \n",
    "    # Feature selection for test data \n",
    "    # Currently replacing all NaN values with 0. Might change this \n",
    "    # based on what Alejandro figures out \n",
    "    pca_test = pca_model.transform(test_data.fillna(0))\n",
    "    pca_test_dataframes.append(pd.DataFrame(pca_test))\n",
    "\n",
    "pca_train_dataframes[3].head()"
   ]
  },
  {
   "cell_type": "markdown",
   "id": "2c96f93f",
   "metadata": {},
   "source": [
    "### Logistic Regression"
   ]
  },
  {
   "cell_type": "markdown",
   "id": "2a15d959",
   "metadata": {},
   "source": [
    "Our baseline model for this project will be a logistic regression model since we are working on a binary classification problem. After applying the transformations above, we experimented with different parameters such as using L1 regularization instead of the default L2. Although this would have reduce some features, the performance metrics did not improve (accuracy = 0.826) and so we kept the default value. "
   ]
  },
  {
   "cell_type": "code",
   "execution_count": 32,
   "id": "4333957b",
   "metadata": {},
   "outputs": [
    {
     "name": "stdout",
     "output_type": "stream",
     "text": [
      "The model accuracy for the test data is: 0.8642951251646904\n"
     ]
    },
    {
     "name": "stderr",
     "output_type": "stream",
     "text": [
      "C:\\Users\\elda.pere\\Anaconda3\\lib\\site-packages\\sklearn\\linear_model\\_logistic.py:763: ConvergenceWarning: lbfgs failed to converge (status=1):\n",
      "STOP: TOTAL NO. of ITERATIONS REACHED LIMIT.\n",
      "\n",
      "Increase the number of iterations (max_iter) or scale the data as shown in:\n",
      "    https://scikit-learn.org/stable/modules/preprocessing.html\n",
      "Please also refer to the documentation for alternative solver options:\n",
      "    https://scikit-learn.org/stable/modules/linear_model.html#logistic-regression\n",
      "  n_iter_i = _check_optimize_result(\n"
     ]
    }
   ],
   "source": [
    "lr_model = LogisticRegression(random_state = 0)\n",
    "\n",
    "#Fit model then print the features with their coefficient values from the logistic regression model \n",
    "lr_model.fit(train_data, train_labels)\n",
    "features_coef = []\n",
    "for i in range(0, 35):\n",
    "    features_coef.append((lr_model.coef_[0][i], train_data.columns[i]))\n",
    "\n",
    "#score data\n",
    "print(\"The model accuracy for the test data is: \" + str(lr_model.score(test_data, test_labels)))\n",
    "#Turn to data frame\n",
    "coefs = pd.DataFrame(features_coef, columns=['Coefficient_value', 'Feature_name'])"
   ]
  },
  {
   "cell_type": "markdown",
   "id": "5a04e8c2",
   "metadata": {},
   "source": [
    "Below, we check p-values to see if we can reject the null hypothesis that the variables have no real effect on the 'Execution' variable. "
   ]
  },
  {
   "cell_type": "code",
   "execution_count": 33,
   "id": "668540f9",
   "metadata": {},
   "outputs": [],
   "source": [
    "#Referenced from stackoverflow.com/questions/25122999/scikit-learn-how-to-check-coefficients-significance  \n",
    "def logit_pvalue(model, x):\n",
    "    \"\"\" Calculate z-scores for scikit-learn LogisticRegression.\n",
    "    parameters:\n",
    "        model: fitted sklearn.linear_model.LogisticRegression with intercept and large C\n",
    "        x:     matrix on which the model was fit\n",
    "    This function uses asymtptics for maximum likelihood estimates.\n",
    "    \"\"\"\n",
    "    #Adding noise to avoid perfect collinearity\n",
    "    x = x+0.00001*np.random.rand(len(x), len(x.columns))\n",
    "    p = model.predict_proba(x)\n",
    "    n = len(p)\n",
    "    m = len(model.coef_[0]) + 1\n",
    "    coefs = np.concatenate([model.intercept_, model.coef_[0]])\n",
    "    x_full = np.matrix(np.insert(np.array(x), 0, 1, axis = 1))\n",
    "    ans = np.zeros((m, m))\n",
    "    for i in range(n):\n",
    "        ans = ans + np.dot(np.transpose(x_full[i, :]), x_full[i, :]) * p[i,1] * p[i, 0]\n",
    "    vcov = np.linalg.inv(np.matrix(ans))\n",
    "    se = np.sqrt(np.diag(vcov))\n",
    "    t =  coefs/se  \n",
    "    p = (1 - norm.cdf(abs(t))) * 2\n",
    "    return p\n",
    "\n",
    "# test p-values\n",
    "coefs['P Value'] = pd.DataFrame(logit_pvalue(lr_model, train_data))\n",
    "coefs['Is Significant'] = coefs['P Value'] < 0.05\n",
    "coefs['Odds Ratio'] = np.exp(coefs['Coefficient_value'])"
   ]
  },
  {
   "cell_type": "code",
   "execution_count": 34,
   "id": "cf76d2aa",
   "metadata": {},
   "outputs": [],
   "source": [
    "coefs = coefs.sort_values(by = 'Coefficient_value', ascending = False)"
   ]
  },
  {
   "cell_type": "code",
   "execution_count": 35,
   "id": "d536e996",
   "metadata": {},
   "outputs": [
    {
     "data": {
      "text/html": [
       "<div>\n",
       "<style scoped>\n",
       "    .dataframe tbody tr th:only-of-type {\n",
       "        vertical-align: middle;\n",
       "    }\n",
       "\n",
       "    .dataframe tbody tr th {\n",
       "        vertical-align: top;\n",
       "    }\n",
       "\n",
       "    .dataframe thead th {\n",
       "        text-align: right;\n",
       "    }\n",
       "</style>\n",
       "<table border=\"1\" class=\"dataframe\">\n",
       "  <thead>\n",
       "    <tr style=\"text-align: right;\">\n",
       "      <th></th>\n",
       "      <th>Coefficient_value</th>\n",
       "      <th>Feature_name</th>\n",
       "      <th>P Value</th>\n",
       "      <th>Is Significant</th>\n",
       "      <th>Odds Ratio</th>\n",
       "    </tr>\n",
       "  </thead>\n",
       "  <tbody>\n",
       "    <tr>\n",
       "      <th>20</th>\n",
       "      <td>4.077777</td>\n",
       "      <td>PoliticalMotive_p</td>\n",
       "      <td>9.991454e-05</td>\n",
       "      <td>True</td>\n",
       "      <td>59.014164</td>\n",
       "    </tr>\n",
       "    <tr>\n",
       "      <th>31</th>\n",
       "      <td>2.064099</td>\n",
       "      <td>RecHealer</td>\n",
       "      <td>8.068678e-01</td>\n",
       "      <td>False</td>\n",
       "      <td>7.878195</td>\n",
       "    </tr>\n",
       "    <tr>\n",
       "      <th>29</th>\n",
       "      <td>1.711239</td>\n",
       "      <td>Cursing</td>\n",
       "      <td>6.222596e-01</td>\n",
       "      <td>False</td>\n",
       "      <td>5.535814</td>\n",
       "    </tr>\n",
       "    <tr>\n",
       "      <th>32</th>\n",
       "      <td>1.192313</td>\n",
       "      <td>Dancing</td>\n",
       "      <td>9.703188e-05</td>\n",
       "      <td>True</td>\n",
       "      <td>3.294694</td>\n",
       "    </tr>\n",
       "    <tr>\n",
       "      <th>10</th>\n",
       "      <td>0.916776</td>\n",
       "      <td>Folk_healing_s</td>\n",
       "      <td>1.409910e-01</td>\n",
       "      <td>False</td>\n",
       "      <td>2.501215</td>\n",
       "    </tr>\n",
       "    <tr>\n",
       "      <th>1</th>\n",
       "      <td>0.784584</td>\n",
       "      <td>Arrest</td>\n",
       "      <td>1.514316e-04</td>\n",
       "      <td>True</td>\n",
       "      <td>2.191495</td>\n",
       "    </tr>\n",
       "    <tr>\n",
       "      <th>11</th>\n",
       "      <td>0.738648</td>\n",
       "      <td>Demonic_possess_p</td>\n",
       "      <td>3.665947e-03</td>\n",
       "      <td>True</td>\n",
       "      <td>2.093104</td>\n",
       "    </tr>\n",
       "    <tr>\n",
       "      <th>4</th>\n",
       "      <td>0.674415</td>\n",
       "      <td>High_status</td>\n",
       "      <td>8.666257e-02</td>\n",
       "      <td>False</td>\n",
       "      <td>1.962884</td>\n",
       "    </tr>\n",
       "    <tr>\n",
       "      <th>18</th>\n",
       "      <td>0.649461</td>\n",
       "      <td>Neighbhd_dispute_p</td>\n",
       "      <td>3.040270e-01</td>\n",
       "      <td>False</td>\n",
       "      <td>1.914509</td>\n",
       "    </tr>\n",
       "    <tr>\n",
       "      <th>0</th>\n",
       "      <td>0.464937</td>\n",
       "      <td>Sex</td>\n",
       "      <td>3.823808e-11</td>\n",
       "      <td>True</td>\n",
       "      <td>1.591913</td>\n",
       "    </tr>\n",
       "    <tr>\n",
       "      <th>14</th>\n",
       "      <td>0.363505</td>\n",
       "      <td>UNorthodoxRelPract_s</td>\n",
       "      <td>1.000000e+00</td>\n",
       "      <td>False</td>\n",
       "      <td>1.438363</td>\n",
       "    </tr>\n",
       "    <tr>\n",
       "      <th>15</th>\n",
       "      <td>0.363505</td>\n",
       "      <td>UnorthodoxReligiousPractice</td>\n",
       "      <td>9.999682e-01</td>\n",
       "      <td>False</td>\n",
       "      <td>1.438363</td>\n",
       "    </tr>\n",
       "    <tr>\n",
       "      <th>21</th>\n",
       "      <td>0.330772</td>\n",
       "      <td>PoliticalMotive_s</td>\n",
       "      <td>2.184481e-07</td>\n",
       "      <td>True</td>\n",
       "      <td>1.392042</td>\n",
       "    </tr>\n",
       "    <tr>\n",
       "      <th>5</th>\n",
       "      <td>0.184426</td>\n",
       "      <td>Male_accusers</td>\n",
       "      <td>1.825377e-01</td>\n",
       "      <td>False</td>\n",
       "      <td>1.202528</td>\n",
       "    </tr>\n",
       "    <tr>\n",
       "      <th>30</th>\n",
       "      <td>0.147884</td>\n",
       "      <td>Poisoning</td>\n",
       "      <td>1.420466e-07</td>\n",
       "      <td>True</td>\n",
       "      <td>1.159379</td>\n",
       "    </tr>\n",
       "    <tr>\n",
       "      <th>2</th>\n",
       "      <td>0.059673</td>\n",
       "      <td>Fled</td>\n",
       "      <td>6.661338e-16</td>\n",
       "      <td>True</td>\n",
       "      <td>1.061490</td>\n",
       "    </tr>\n",
       "    <tr>\n",
       "      <th>13</th>\n",
       "      <td>0.000000</td>\n",
       "      <td>UNorthodoxRelPract_p</td>\n",
       "      <td>2.228380e-01</td>\n",
       "      <td>False</td>\n",
       "      <td>1.000000</td>\n",
       "    </tr>\n",
       "    <tr>\n",
       "      <th>26</th>\n",
       "      <td>0.000000</td>\n",
       "      <td>Treason_p</td>\n",
       "      <td>9.306790e-01</td>\n",
       "      <td>False</td>\n",
       "      <td>1.000000</td>\n",
       "    </tr>\n",
       "    <tr>\n",
       "      <th>6</th>\n",
       "      <td>-0.049096</td>\n",
       "      <td>Female_accusers</td>\n",
       "      <td>3.382670e-10</td>\n",
       "      <td>True</td>\n",
       "      <td>0.952090</td>\n",
       "    </tr>\n",
       "    <tr>\n",
       "      <th>25</th>\n",
       "      <td>-0.052569</td>\n",
       "      <td>RefusedCharity_s</td>\n",
       "      <td>7.833159e-01</td>\n",
       "      <td>False</td>\n",
       "      <td>0.948789</td>\n",
       "    </tr>\n",
       "    <tr>\n",
       "      <th>16</th>\n",
       "      <td>-0.059778</td>\n",
       "      <td>HealingHumans</td>\n",
       "      <td>9.999682e-01</td>\n",
       "      <td>False</td>\n",
       "      <td>0.941973</td>\n",
       "    </tr>\n",
       "    <tr>\n",
       "      <th>28</th>\n",
       "      <td>-0.169505</td>\n",
       "      <td>Quarreling</td>\n",
       "      <td>6.773776e-01</td>\n",
       "      <td>False</td>\n",
       "      <td>0.844082</td>\n",
       "    </tr>\n",
       "    <tr>\n",
       "      <th>34</th>\n",
       "      <td>-0.179571</td>\n",
       "      <td>Midwifery</td>\n",
       "      <td>1.125022e-02</td>\n",
       "      <td>True</td>\n",
       "      <td>0.835629</td>\n",
       "    </tr>\n",
       "    <tr>\n",
       "      <th>27</th>\n",
       "      <td>-0.241210</td>\n",
       "      <td>Treason_s</td>\n",
       "      <td>1.000000e+00</td>\n",
       "      <td>False</td>\n",
       "      <td>0.785677</td>\n",
       "    </tr>\n",
       "    <tr>\n",
       "      <th>17</th>\n",
       "      <td>-0.344227</td>\n",
       "      <td>HealingAnimals</td>\n",
       "      <td>8.603298e-01</td>\n",
       "      <td>False</td>\n",
       "      <td>0.708768</td>\n",
       "    </tr>\n",
       "    <tr>\n",
       "      <th>8</th>\n",
       "      <td>-0.424242</td>\n",
       "      <td>WhiteMagic_s</td>\n",
       "      <td>4.753056e-01</td>\n",
       "      <td>False</td>\n",
       "      <td>0.654265</td>\n",
       "    </tr>\n",
       "    <tr>\n",
       "      <th>24</th>\n",
       "      <td>-0.481234</td>\n",
       "      <td>RefusedCharity_p</td>\n",
       "      <td>2.312320e-03</td>\n",
       "      <td>True</td>\n",
       "      <td>0.618021</td>\n",
       "    </tr>\n",
       "    <tr>\n",
       "      <th>9</th>\n",
       "      <td>-0.772322</td>\n",
       "      <td>Folk_healing_p</td>\n",
       "      <td>1.142720e-01</td>\n",
       "      <td>False</td>\n",
       "      <td>0.461939</td>\n",
       "    </tr>\n",
       "    <tr>\n",
       "      <th>3</th>\n",
       "      <td>-0.783027</td>\n",
       "      <td>ActionDropped</td>\n",
       "      <td>8.220982e-01</td>\n",
       "      <td>False</td>\n",
       "      <td>0.457021</td>\n",
       "    </tr>\n",
       "    <tr>\n",
       "      <th>22</th>\n",
       "      <td>-0.790643</td>\n",
       "      <td>PropertyMotive_p</td>\n",
       "      <td>4.854283e-01</td>\n",
       "      <td>False</td>\n",
       "      <td>0.453553</td>\n",
       "    </tr>\n",
       "    <tr>\n",
       "      <th>7</th>\n",
       "      <td>-0.855425</td>\n",
       "      <td>WhiteMagic_p</td>\n",
       "      <td>2.169377e-01</td>\n",
       "      <td>False</td>\n",
       "      <td>0.425102</td>\n",
       "    </tr>\n",
       "    <tr>\n",
       "      <th>12</th>\n",
       "      <td>-1.056583</td>\n",
       "      <td>Demonic_possess_s</td>\n",
       "      <td>5.884564e-01</td>\n",
       "      <td>False</td>\n",
       "      <td>0.347642</td>\n",
       "    </tr>\n",
       "    <tr>\n",
       "      <th>23</th>\n",
       "      <td>-1.403780</td>\n",
       "      <td>PropertyMotive_s</td>\n",
       "      <td>5.507089e-01</td>\n",
       "      <td>False</td>\n",
       "      <td>0.245667</td>\n",
       "    </tr>\n",
       "    <tr>\n",
       "      <th>33</th>\n",
       "      <td>-1.488907</td>\n",
       "      <td>Singing</td>\n",
       "      <td>3.590750e-11</td>\n",
       "      <td>True</td>\n",
       "      <td>0.225619</td>\n",
       "    </tr>\n",
       "    <tr>\n",
       "      <th>19</th>\n",
       "      <td>-1.531616</td>\n",
       "      <td>Neighbhd_dispute_s</td>\n",
       "      <td>1.142577e-01</td>\n",
       "      <td>False</td>\n",
       "      <td>0.216186</td>\n",
       "    </tr>\n",
       "  </tbody>\n",
       "</table>\n",
       "</div>"
      ],
      "text/plain": [
       "    Coefficient_value                 Feature_name       P Value  \\\n",
       "20           4.077777            PoliticalMotive_p  9.991454e-05   \n",
       "31           2.064099                    RecHealer  8.068678e-01   \n",
       "29           1.711239                      Cursing  6.222596e-01   \n",
       "32           1.192313                      Dancing  9.703188e-05   \n",
       "10           0.916776               Folk_healing_s  1.409910e-01   \n",
       "1            0.784584                       Arrest  1.514316e-04   \n",
       "11           0.738648            Demonic_possess_p  3.665947e-03   \n",
       "4            0.674415                  High_status  8.666257e-02   \n",
       "18           0.649461           Neighbhd_dispute_p  3.040270e-01   \n",
       "0            0.464937                          Sex  3.823808e-11   \n",
       "14           0.363505         UNorthodoxRelPract_s  1.000000e+00   \n",
       "15           0.363505  UnorthodoxReligiousPractice  9.999682e-01   \n",
       "21           0.330772            PoliticalMotive_s  2.184481e-07   \n",
       "5            0.184426                Male_accusers  1.825377e-01   \n",
       "30           0.147884                    Poisoning  1.420466e-07   \n",
       "2            0.059673                         Fled  6.661338e-16   \n",
       "13           0.000000         UNorthodoxRelPract_p  2.228380e-01   \n",
       "26           0.000000                    Treason_p  9.306790e-01   \n",
       "6           -0.049096              Female_accusers  3.382670e-10   \n",
       "25          -0.052569             RefusedCharity_s  7.833159e-01   \n",
       "16          -0.059778                HealingHumans  9.999682e-01   \n",
       "28          -0.169505                   Quarreling  6.773776e-01   \n",
       "34          -0.179571                    Midwifery  1.125022e-02   \n",
       "27          -0.241210                    Treason_s  1.000000e+00   \n",
       "17          -0.344227               HealingAnimals  8.603298e-01   \n",
       "8           -0.424242                 WhiteMagic_s  4.753056e-01   \n",
       "24          -0.481234             RefusedCharity_p  2.312320e-03   \n",
       "9           -0.772322               Folk_healing_p  1.142720e-01   \n",
       "3           -0.783027                ActionDropped  8.220982e-01   \n",
       "22          -0.790643             PropertyMotive_p  4.854283e-01   \n",
       "7           -0.855425                 WhiteMagic_p  2.169377e-01   \n",
       "12          -1.056583            Demonic_possess_s  5.884564e-01   \n",
       "23          -1.403780             PropertyMotive_s  5.507089e-01   \n",
       "33          -1.488907                      Singing  3.590750e-11   \n",
       "19          -1.531616           Neighbhd_dispute_s  1.142577e-01   \n",
       "\n",
       "    Is Significant  Odds Ratio  \n",
       "20            True   59.014164  \n",
       "31           False    7.878195  \n",
       "29           False    5.535814  \n",
       "32            True    3.294694  \n",
       "10           False    2.501215  \n",
       "1             True    2.191495  \n",
       "11            True    2.093104  \n",
       "4            False    1.962884  \n",
       "18           False    1.914509  \n",
       "0             True    1.591913  \n",
       "14           False    1.438363  \n",
       "15           False    1.438363  \n",
       "21            True    1.392042  \n",
       "5            False    1.202528  \n",
       "30            True    1.159379  \n",
       "2             True    1.061490  \n",
       "13           False    1.000000  \n",
       "26           False    1.000000  \n",
       "6             True    0.952090  \n",
       "25           False    0.948789  \n",
       "16           False    0.941973  \n",
       "28           False    0.844082  \n",
       "34            True    0.835629  \n",
       "27           False    0.785677  \n",
       "17           False    0.708768  \n",
       "8            False    0.654265  \n",
       "24            True    0.618021  \n",
       "9            False    0.461939  \n",
       "3            False    0.457021  \n",
       "22           False    0.453553  \n",
       "7            False    0.425102  \n",
       "12           False    0.347642  \n",
       "23           False    0.245667  \n",
       "33            True    0.225619  \n",
       "19           False    0.216186  "
      ]
     },
     "execution_count": 35,
     "metadata": {},
     "output_type": "execute_result"
    }
   ],
   "source": [
    "coefs"
   ]
  },
  {
   "cell_type": "code",
   "execution_count": 36,
   "id": "3e59ea5d",
   "metadata": {},
   "outputs": [
    {
     "name": "stdout",
     "output_type": "stream",
     "text": [
      "The top 5 significant features with an inverse relationship to 'Execution': \n"
     ]
    },
    {
     "data": {
      "text/plain": [
       "20    PoliticalMotive_p\n",
       "32              Dancing\n",
       "1                Arrest\n",
       "11    Demonic_possess_p\n",
       "0                   Sex\n",
       "Name: Feature_name, dtype: object"
      ]
     },
     "execution_count": 36,
     "metadata": {},
     "output_type": "execute_result"
    }
   ],
   "source": [
    "#The coefficients with the maximum distance away from 0 are the more influential features. \n",
    "print(\"The top 5 significant features with an inverse relationship to 'Execution': \")\n",
    "coefs['Feature_name'][coefs['Is Significant'] == True].head(5)\n"
   ]
  },
  {
   "cell_type": "code",
   "execution_count": 37,
   "id": "fc4eed01",
   "metadata": {},
   "outputs": [
    {
     "name": "stdout",
     "output_type": "stream",
     "text": [
      "The top 5 significant features with a linear relationship to 'Execution': \n"
     ]
    },
    {
     "data": {
      "text/plain": [
       "2                 Fled\n",
       "6      Female_accusers\n",
       "34           Midwifery\n",
       "24    RefusedCharity_p\n",
       "33             Singing\n",
       "Name: Feature_name, dtype: object"
      ]
     },
     "execution_count": 37,
     "metadata": {},
     "output_type": "execute_result"
    }
   ],
   "source": [
    "#The coefficients with the maximum distance away from 0 are the more influential features. \n",
    "print(\"The top 5 significant features with a linear relationship to 'Execution': \")\n",
    "coefs['Feature_name'][coefs['Is Significant'] == True].tail(5)\n"
   ]
  },
  {
   "cell_type": "markdown",
   "id": "d24dae5e",
   "metadata": {},
   "source": [
    "#### Logistic On Transformed PCA Data"
   ]
  },
  {
   "cell_type": "code",
   "execution_count": 38,
   "id": "bb1712d1",
   "metadata": {},
   "outputs": [
    {
     "name": "stdout",
     "output_type": "stream",
     "text": [
      "The model accuracy for the test data is: 0.9262187088274044\n"
     ]
    }
   ],
   "source": [
    "#Evaluate the logistic regression performance on the transformed PCA data\n",
    "logreg = LogisticRegression(random_state = 0)\n",
    "logreg.fit(X_train_pca, train_labels)\n",
    "X_test_pca = pca.transform(test_data)\n",
    "print(\"The model accuracy for the test data is: \" + str(logreg.score(X_test_pca, test_labels)))"
   ]
  },
  {
   "cell_type": "markdown",
   "id": "4c555679",
   "metadata": {},
   "source": [
    "### Logistic Regression Performance"
   ]
  },
  {
   "cell_type": "markdown",
   "id": "c0bbd2d5",
   "metadata": {},
   "source": [
    "Finally, we visualize the performance of our model."
   ]
  },
  {
   "cell_type": "markdown",
   "id": "7c6a65a9",
   "metadata": {},
   "source": [
    "##### No PCA"
   ]
  },
  {
   "cell_type": "code",
   "execution_count": 39,
   "id": "a4e7d704",
   "metadata": {},
   "outputs": [
    {
     "name": "stdout",
     "output_type": "stream",
     "text": [
      "<sklearn.metrics._plot.confusion_matrix.ConfusionMatrixDisplay object at 0x0000022449D18BB0>\n"
     ]
    },
    {
     "data": {
      "image/png": "[encoded data removed]",
      "text/plain": [
       "<Figure size 432x288 with 2 Axes>"
      ]
     },
     "metadata": {
      "needs_background": "light"
     },
     "output_type": "display_data"
    }
   ],
   "source": [
    "confusion_matrix = plot_confusion_matrix(lr_model, test_data, test_labels)\n",
    "print(confusion_matrix)"
   ]
  },
  {
   "cell_type": "code",
   "execution_count": 40,
   "id": "c092484f",
   "metadata": {},
   "outputs": [
    {
     "name": "stdout",
     "output_type": "stream",
     "text": [
      "              precision    recall  f1-score   support\n",
      "\n",
      "         0.0       0.95      0.91      0.93       713\n",
      "         1.0       0.12      0.20      0.15        46\n",
      "\n",
      "    accuracy                           0.86       759\n",
      "   macro avg       0.53      0.55      0.54       759\n",
      "weighted avg       0.90      0.86      0.88       759\n",
      "\n"
     ]
    }
   ],
   "source": [
    "y_pred_lr = lr_model.predict(test_data)\n",
    "print(classification_report(test_labels, y_pred_lr))"
   ]
  },
  {
   "cell_type": "code",
   "execution_count": 41,
   "id": "94824dd5",
   "metadata": {},
   "outputs": [
    {
     "data": {
      "image/png": "[encoded data removed]",
      "text/plain": [
       "<Figure size 432x288 with 1 Axes>"
      ]
     },
     "metadata": {
      "needs_background": "light"
     },
     "output_type": "display_data"
    }
   ],
   "source": [
    "log_roc_auc = roc_auc_score(test_labels, lr_model.predict_proba(test_data)[:,1])\n",
    "fpr, tpr, thresholds = roc_curve(test_labels, lr_model.predict_proba(test_data)[:,1])\n",
    "plt.figure()\n",
    "plt.plot(fpr, tpr, label='Logistic Regression (area = %0.2f)' % log_roc_auc)\n",
    "plt.plot([0, 1], [0, 1],'r--')\n",
    "plt.xlim([0.0, 1.0])\n",
    "plt.ylim([0.0, 1.05])\n",
    "plt.xlabel('False Positive Rate')\n",
    "plt.ylabel('True Positive Rate')\n",
    "plt.title('Receiver operating characteristic')\n",
    "plt.legend(loc=\"lower right\")\n",
    "plt.savefig('Log_ROC')\n",
    "plt.show()"
   ]
  },
  {
   "cell_type": "markdown",
   "id": "42534a39",
   "metadata": {},
   "source": [
    "##### PCA"
   ]
  },
  {
   "cell_type": "code",
   "execution_count": 43,
   "id": "6b4c9de8",
   "metadata": {},
   "outputs": [
    {
     "name": "stdout",
     "output_type": "stream",
     "text": [
      "<sklearn.metrics._plot.confusion_matrix.ConfusionMatrixDisplay object at 0x0000022446426DF0>\n"
     ]
    },
    {
     "data": {
      "image/png": "[encoded data removed]",
      "text/plain": [
       "<Figure size 432x288 with 2 Axes>"
      ]
     },
     "metadata": {
      "needs_background": "light"
     },
     "output_type": "display_data"
    }
   ],
   "source": [
    "confusion_matrix = plot_confusion_matrix(logreg, X_test_pca, test_labels)\n",
    "print(confusion_matrix)"
   ]
  },
  {
   "cell_type": "code",
   "execution_count": 44,
   "id": "c7fadad7",
   "metadata": {},
   "outputs": [
    {
     "name": "stdout",
     "output_type": "stream",
     "text": [
      "              precision    recall  f1-score   support\n",
      "\n",
      "         0.0       0.94      0.98      0.96       713\n",
      "         1.0       0.25      0.11      0.15        46\n",
      "\n",
      "    accuracy                           0.93       759\n",
      "   macro avg       0.60      0.54      0.56       759\n",
      "weighted avg       0.90      0.93      0.91       759\n",
      "\n"
     ]
    }
   ],
   "source": [
    "y_pred_logreg = logreg.predict(X_test_pca)\n",
    "print(classification_report(test_labels, y_pred_logreg))"
   ]
  },
  {
   "cell_type": "code",
   "execution_count": 46,
   "id": "fb60bc23",
   "metadata": {},
   "outputs": [
    {
     "data": {
      "image/png": "[encoded data removed]",
      "text/plain": [
       "<Figure size 432x288 with 1 Axes>"
      ]
     },
     "metadata": {
      "needs_background": "light"
     },
     "output_type": "display_data"
    }
   ],
   "source": [
    "logreg_roc_auc = roc_auc_score(test_labels, logreg.predict_proba(X_test_pca)[:,1])\n",
    "fpr, tpr, thresholds = roc_curve(test_labels, logreg.predict_proba(X_test_pca)[:,1])\n",
    "plt.figure()\n",
    "plt.plot(fpr, tpr, label='Logistic Regression (area = %0.2f)' % logreg_roc_auc)\n",
    "plt.plot([0, 1], [0, 1],'r--')\n",
    "plt.xlim([0.0, 1.0])\n",
    "plt.ylim([0.0, 1.05])\n",
    "plt.xlabel('False Positive Rate')\n",
    "plt.ylabel('True Positive Rate')\n",
    "plt.title('Receiver operating characteristic')\n",
    "plt.legend(loc=\"lower right\")\n",
    "plt.savefig('Log_ROC')\n",
    "plt.show()"
   ]
  },
  {
   "cell_type": "markdown",
   "id": "3c632581",
   "metadata": {},
   "source": [
    "To conclude the results of our baseline model, we learned that despite the performance shown in the first ROC curve, there are a number of significant relationships within the data (see significance table above). Between the model that uses PCA and the one that does not, the model with PCA performs significantly better by 10 percentage points. **Most importantly, we found that gender related variables such as 'Sex', 'Midwifery', 'Dancing' and 'Singing' had statistically significant effects on whether the accused was executed. The model results show that the odds of a female accusee being executed were 1.6 times that of a male accusee, when controlling for all other variables.**"
   ]
  },
  {
   "cell_type": "markdown",
   "id": "e16f7063",
   "metadata": {},
   "source": [
    "### Neural Net "
   ]
  },
  {
   "cell_type": "markdown",
   "id": "1b92df39",
   "metadata": {},
   "source": [
    "Below, we try to use more robust models that may find nonlinear patterns in the data. Although the nonlinear nature prevents us from interpreting the results and finding relationships as in the logistic regression, we hope to increase our model performance with additional freedoms."
   ]
  },
  {
   "cell_type": "code",
   "execution_count": 36,
   "id": "69317f01",
   "metadata": {},
   "outputs": [
    {
     "name": "stdout",
     "output_type": "stream",
     "text": [
      "Training Binary Accuracy = 0.6347708702087402\n",
      "Testing Binary Accuracy = 0.8155467510223389\n"
     ]
    }
   ],
   "source": [
    "# First, attempting to see whether I can get a keras neural net working \n",
    "\n",
    "# Applying dimensionality reduction to our data\n",
    "X_train_nn = X_train_pca_df.iloc[:, 0:2]\n",
    "train_labels_nn = X_train_pca_df.iloc[:, 2]\n",
    "\n",
    "test_data_pca = pca.transform(test_data.fillna(0))\n",
    "test_data_nn = pd.DataFrame(test_data_pca)\n",
    "\n",
    "# Define the keras model \n",
    "model = Sequential()\n",
    "model.add(Dense(12, input_dim=2, activation=\"relu\"))\n",
    "model.add(Dense(8, activation=\"relu\"))\n",
    "model.add(Dense(1, activation=\"sigmoid\"))\n",
    "\n",
    "# Compile the keras model \n",
    "model.compile(loss=keras.losses.BinaryCrossentropy(), \n",
    "              optimizer=\"adam\", \n",
    "              metrics=[keras.metrics.BinaryAccuracy()])\n",
    "\n",
    "# Fit the keras model \n",
    "model.fit(X_train_nn, train_labels_nn, epochs=150, batch_size=10, verbose=0)\n",
    "\n",
    "# Evaluate the keras model \n",
    "_, binary_accuracy = model.evaluate(X_train_nn, train_labels_nn, verbose=0)\n",
    "print(f\"Training Binary Accuracy = {binary_accuracy}\")\n",
    "\n",
    "_, binary_accuracy= model.evaluate(test_data_nn, test_labels, verbose=0)     \n",
    "\n",
    "#######Could the accuracy be different because you need test_labels_nn? ^\n",
    "print(f\"Testing Binary Accuracy = {binary_accuracy}\")"
   ]
  },
  {
   "cell_type": "code",
   "execution_count": 37,
   "id": "b143372e",
   "metadata": {},
   "outputs": [],
   "source": [
    "# Applying dimensionality reduction to our data\n",
    "X_train_nn = X_train_pca_df.iloc[:, 0:2]\n",
    "train_labels_nn = X_train_pca_df.iloc[:, 2]\n",
    "\n",
    "test_data_pca = pca.transform(test_data.fillna(0))\n",
    "test_data_nn = pd.DataFrame(test_data_pca)"
   ]
  },
  {
   "cell_type": "code",
   "execution_count": 38,
   "id": "e4a9a4f7-aba8-418e-ba31-ea88a3bc04be",
   "metadata": {},
   "outputs": [],
   "source": [
    "inputs = np.concatenate((X_train_nn, test_data_nn), axis=0)\n",
    "targets = np.concatenate((train_labels_nn, test_labels), axis=0)"
   ]
  },
  {
   "cell_type": "code",
   "execution_count": 39,
   "id": "491356e0-4c27-4693-9c28-f17d0c001798",
   "metadata": {},
   "outputs": [],
   "source": [
    "def cross_validation(train_data, train_labels, test_data, test_labels, num_components):\n",
    "    \n",
    "    inputs = np.concatenate((train_data, test_data), axis=0)\n",
    "    targets = np.concatenate((train_labels, test_labels), axis=0)\n",
    "    \n",
    "    num_folds = 10\n",
    "\n",
    "    # Define the K-fold Cross Validator\n",
    "    kfold = KFold(n_splits=num_folds, shuffle=True)\n",
    "\n",
    "    acc_per_fold = []\n",
    "    loss_per_fold = []\n",
    "\n",
    "    # K-fold Cross Validation model evaluation\n",
    "    fold_no = 1\n",
    "    for train, test in kfold.split(inputs, targets):\n",
    "\n",
    "        # Define the keras model \n",
    "        model = Sequential()\n",
    "        model.add(Dense(12, input_dim=num_components, activation=\"relu\"))\n",
    "        model.add(Dense(8, activation=\"relu\"))\n",
    "        model.add(Dense(1, activation=\"sigmoid\"))\n",
    "\n",
    "        # Compile the keras model \n",
    "        model.compile(loss=keras.losses.BinaryCrossentropy(), \n",
    "                      optimizer=\"adam\", \n",
    "                      metrics=['accuracy'])\n",
    "\n",
    "\n",
    "        # Generate a print\n",
    "        print('------------------------------------------------------------------------')\n",
    "        print(f'Training for fold {fold_no} ...')\n",
    "\n",
    "        # Fit data to model\n",
    "        history = model.fit(inputs[train], \n",
    "                            targets[train], \n",
    "                            epochs=50, \n",
    "                            batch_size=10, \n",
    "                            verbose=0)\n",
    "\n",
    "        # Generate generalization metrics\n",
    "        scores = model.evaluate(inputs[test], targets[test], verbose=0)\n",
    "        print(f'Score for fold {fold_no}: {model.metrics_names[0]} of {scores[0]}; {model.metrics_names[1]} of {scores[1]*100}%')\n",
    "        acc_per_fold.append(scores[1] * 100)\n",
    "        loss_per_fold.append(scores[0])\n",
    "\n",
    "        # Increase fold number\n",
    "        fold_no = fold_no + 1\n",
    "        \n",
    "            # == Provide average scores ==\n",
    "    # == Provide average scores ==\n",
    "    print('------------------------------------------------------------------------')\n",
    "    print('Score per fold')\n",
    "    for i in range(0, len(acc_per_fold)):\n",
    "        print('------------------------------------------------------------------------')\n",
    "        print(f'> Fold {i+1} - Loss: {loss_per_fold[i]} - Accuracy: {acc_per_fold[i]}%')\n",
    "    print('------------------------------------------------------------------------')\n",
    "    print('Average scores for all folds:')\n",
    "    print(f'> Accuracy: {np.mean(acc_per_fold)} (+- {np.std(acc_per_fold)})')\n",
    "    print(f'> Loss: {np.mean(loss_per_fold)}')\n",
    "    print('------------------------------------------------------------------------')"
   ]
  },
  {
   "cell_type": "code",
   "execution_count": 40,
   "id": "0221bd6f",
   "metadata": {},
   "outputs": [
    {
     "name": "stdout",
     "output_type": "stream",
     "text": [
      "------------------------------\n",
      "Cross Validation Results for n=2 Principal Components\n",
      "------------------------------------------------------------------------\n",
      "Training for fold 1 ...\n",
      "Score for fold 1: loss of 0.5904633402824402; accuracy of 67.78523325920105%\n",
      "------------------------------------------------------------------------\n",
      "Training for fold 2 ...\n",
      "Score for fold 2: loss of 0.6126733422279358; accuracy of 68.90380382537842%\n",
      "------------------------------------------------------------------------\n",
      "Training for fold 3 ...\n",
      "Score for fold 3: loss of 0.5764731168746948; accuracy of 71.14093899726868%\n",
      "------------------------------------------------------------------------\n",
      "Training for fold 4 ...\n",
      "Score for fold 4: loss of 0.59419846534729; accuracy of 69.35123205184937%\n",
      "------------------------------------------------------------------------\n",
      "Training for fold 5 ...\n",
      "Score for fold 5: loss of 0.5923968553543091; accuracy of 70.24608254432678%\n",
      "------------------------------------------------------------------------\n",
      "Training for fold 6 ...\n",
      "Score for fold 6: loss of 0.6147722005844116; accuracy of 66.89038276672363%\n",
      "------------------------------------------------------------------------\n",
      "Training for fold 7 ...\n",
      "Score for fold 7: loss of 0.5991718173027039; accuracy of 68.232661485672%\n",
      "------------------------------------------------------------------------\n",
      "Training for fold 8 ...\n",
      "Score for fold 8: loss of 0.6319451928138733; accuracy of 64.87695574760437%\n",
      "------------------------------------------------------------------------\n",
      "Training for fold 9 ...\n",
      "Score for fold 9: loss of 0.6346702575683594; accuracy of 64.20581936836243%\n",
      "------------------------------------------------------------------------\n",
      "Training for fold 10 ...\n",
      "Score for fold 10: loss of 0.6031637787818909; accuracy of 67.04035997390747%\n",
      "------------------------------------------------------------------------\n",
      "Score per fold\n",
      "------------------------------------------------------------------------\n",
      "> Fold 1 - Loss: 0.5904633402824402 - Accuracy: 67.78523325920105%\n",
      "------------------------------------------------------------------------\n",
      "> Fold 2 - Loss: 0.6126733422279358 - Accuracy: 68.90380382537842%\n",
      "------------------------------------------------------------------------\n",
      "> Fold 3 - Loss: 0.5764731168746948 - Accuracy: 71.14093899726868%\n",
      "------------------------------------------------------------------------\n",
      "> Fold 4 - Loss: 0.59419846534729 - Accuracy: 69.35123205184937%\n",
      "------------------------------------------------------------------------\n",
      "> Fold 5 - Loss: 0.5923968553543091 - Accuracy: 70.24608254432678%\n",
      "------------------------------------------------------------------------\n",
      "> Fold 6 - Loss: 0.6147722005844116 - Accuracy: 66.89038276672363%\n",
      "------------------------------------------------------------------------\n",
      "> Fold 7 - Loss: 0.5991718173027039 - Accuracy: 68.232661485672%\n",
      "------------------------------------------------------------------------\n",
      "> Fold 8 - Loss: 0.6319451928138733 - Accuracy: 64.87695574760437%\n",
      "------------------------------------------------------------------------\n",
      "> Fold 9 - Loss: 0.6346702575683594 - Accuracy: 64.20581936836243%\n",
      "------------------------------------------------------------------------\n",
      "> Fold 10 - Loss: 0.6031637787818909 - Accuracy: 67.04035997390747%\n",
      "------------------------------------------------------------------------\n",
      "Average scores for all folds:\n",
      "> Accuracy: 67.86734700202942 (+- 2.092336812904339)\n",
      "> Loss: 0.6049928367137909\n",
      "------------------------------------------------------------------------\n",
      "------------------------------\n",
      "Cross Validation Results for n=3 Principal Components\n",
      "------------------------------------------------------------------------\n",
      "Training for fold 1 ...\n",
      "Score for fold 1: loss of 0.6108975410461426; accuracy of 67.56151914596558%\n",
      "------------------------------------------------------------------------\n",
      "Training for fold 2 ...\n",
      "Score for fold 2: loss of 0.5869026184082031; accuracy of 69.35123205184937%\n",
      "------------------------------------------------------------------------\n",
      "Training for fold 3 ...\n",
      "Score for fold 3: loss of 0.5680922865867615; accuracy of 71.58836722373962%\n",
      "------------------------------------------------------------------------\n",
      "Training for fold 4 ...\n",
      "Score for fold 4: loss of 0.5773251056671143; accuracy of 70.24608254432678%\n",
      "------------------------------------------------------------------------\n",
      "Training for fold 5 ...\n",
      "Score for fold 5: loss of 0.5886892676353455; accuracy of 68.90380382537842%\n",
      "------------------------------------------------------------------------\n",
      "Training for fold 6 ...\n",
      "Score for fold 6: loss of 0.5843263268470764; accuracy of 70.9172248840332%\n",
      "------------------------------------------------------------------------\n",
      "Training for fold 7 ...\n",
      "Score for fold 7: loss of 0.5806061625480652; accuracy of 70.9172248840332%\n",
      "------------------------------------------------------------------------\n",
      "Training for fold 8 ...\n",
      "Score for fold 8: loss of 0.5712136626243591; accuracy of 72.93064594268799%\n",
      "------------------------------------------------------------------------\n",
      "Training for fold 9 ...\n",
      "Score for fold 9: loss of 0.5960184335708618; accuracy of 67.78523325920105%\n",
      "------------------------------------------------------------------------\n",
      "Training for fold 10 ...\n",
      "Score for fold 10: loss of 0.614122211933136; accuracy of 67.93721914291382%\n",
      "------------------------------------------------------------------------\n",
      "Score per fold\n",
      "------------------------------------------------------------------------\n",
      "> Fold 1 - Loss: 0.6108975410461426 - Accuracy: 67.56151914596558%\n",
      "------------------------------------------------------------------------\n",
      "> Fold 2 - Loss: 0.5869026184082031 - Accuracy: 69.35123205184937%\n",
      "------------------------------------------------------------------------\n",
      "> Fold 3 - Loss: 0.5680922865867615 - Accuracy: 71.58836722373962%\n",
      "------------------------------------------------------------------------\n",
      "> Fold 4 - Loss: 0.5773251056671143 - Accuracy: 70.24608254432678%\n",
      "------------------------------------------------------------------------\n",
      "> Fold 5 - Loss: 0.5886892676353455 - Accuracy: 68.90380382537842%\n",
      "------------------------------------------------------------------------\n",
      "> Fold 6 - Loss: 0.5843263268470764 - Accuracy: 70.9172248840332%\n",
      "------------------------------------------------------------------------\n",
      "> Fold 7 - Loss: 0.5806061625480652 - Accuracy: 70.9172248840332%\n",
      "------------------------------------------------------------------------\n",
      "> Fold 8 - Loss: 0.5712136626243591 - Accuracy: 72.93064594268799%\n",
      "------------------------------------------------------------------------\n",
      "> Fold 9 - Loss: 0.5960184335708618 - Accuracy: 67.78523325920105%\n",
      "------------------------------------------------------------------------\n",
      "> Fold 10 - Loss: 0.614122211933136 - Accuracy: 67.93721914291382%\n",
      "------------------------------------------------------------------------\n",
      "Average scores for all folds:\n",
      "> Accuracy: 69.8138552904129 (+- 1.7098903036153654)\n",
      "> Loss: 0.5878193616867066\n",
      "------------------------------------------------------------------------\n",
      "------------------------------\n",
      "Cross Validation Results for n=4 Principal Components\n",
      "------------------------------------------------------------------------\n",
      "Training for fold 1 ...\n",
      "Score for fold 1: loss of 0.5795114636421204; accuracy of 70.24608254432678%\n",
      "------------------------------------------------------------------------\n",
      "Training for fold 2 ...\n",
      "Score for fold 2: loss of 0.5701945424079895; accuracy of 68.68008971214294%\n",
      "------------------------------------------------------------------------\n",
      "Training for fold 3 ...\n",
      "Score for fold 3: loss of 0.5611826777458191; accuracy of 71.14093899726868%\n",
      "------------------------------------------------------------------------\n",
      "Training for fold 4 ...\n",
      "Score for fold 4: loss of 0.5525192618370056; accuracy of 71.14093899726868%\n",
      "------------------------------------------------------------------------\n",
      "Training for fold 5 ...\n",
      "Score for fold 5: loss of 0.5710888504981995; accuracy of 71.36465311050415%\n",
      "------------------------------------------------------------------------\n",
      "Training for fold 6 ...\n",
      "Score for fold 6: loss of 0.5712756514549255; accuracy of 69.79866027832031%\n",
      "------------------------------------------------------------------------\n",
      "Training for fold 7 ...\n"
     ]
    },
    {
     "name": "stdout",
     "output_type": "stream",
     "text": [
      "Score for fold 7: loss of 0.5558775663375854; accuracy of 72.48322367668152%\n",
      "------------------------------------------------------------------------\n",
      "Training for fold 8 ...\n",
      "Score for fold 8: loss of 0.5521815419197083; accuracy of 73.82550239562988%\n",
      "------------------------------------------------------------------------\n",
      "Training for fold 9 ...\n",
      "Score for fold 9: loss of 0.5328426361083984; accuracy of 75.3915011882782%\n",
      "------------------------------------------------------------------------\n",
      "Training for fold 10 ...\n",
      "Score for fold 10: loss of 0.5691804885864258; accuracy of 71.74887657165527%\n",
      "------------------------------------------------------------------------\n",
      "Score per fold\n",
      "------------------------------------------------------------------------\n",
      "> Fold 1 - Loss: 0.5795114636421204 - Accuracy: 70.24608254432678%\n",
      "------------------------------------------------------------------------\n",
      "> Fold 2 - Loss: 0.5701945424079895 - Accuracy: 68.68008971214294%\n",
      "------------------------------------------------------------------------\n",
      "> Fold 3 - Loss: 0.5611826777458191 - Accuracy: 71.14093899726868%\n",
      "------------------------------------------------------------------------\n",
      "> Fold 4 - Loss: 0.5525192618370056 - Accuracy: 71.14093899726868%\n",
      "------------------------------------------------------------------------\n",
      "> Fold 5 - Loss: 0.5710888504981995 - Accuracy: 71.36465311050415%\n",
      "------------------------------------------------------------------------\n",
      "> Fold 6 - Loss: 0.5712756514549255 - Accuracy: 69.79866027832031%\n",
      "------------------------------------------------------------------------\n",
      "> Fold 7 - Loss: 0.5558775663375854 - Accuracy: 72.48322367668152%\n",
      "------------------------------------------------------------------------\n",
      "> Fold 8 - Loss: 0.5521815419197083 - Accuracy: 73.82550239562988%\n",
      "------------------------------------------------------------------------\n",
      "> Fold 9 - Loss: 0.5328426361083984 - Accuracy: 75.3915011882782%\n",
      "------------------------------------------------------------------------\n",
      "> Fold 10 - Loss: 0.5691804885864258 - Accuracy: 71.74887657165527%\n",
      "------------------------------------------------------------------------\n",
      "Average scores for all folds:\n",
      "> Accuracy: 71.58204674720764 (+- 1.8495410999248878)\n",
      "> Loss: 0.5615854680538177\n",
      "------------------------------------------------------------------------\n",
      "------------------------------\n",
      "Cross Validation Results for n=5 Principal Components\n",
      "------------------------------------------------------------------------\n",
      "Training for fold 1 ...\n",
      "Score for fold 1: loss of 0.5599277019500732; accuracy of 73.37807416915894%\n",
      "------------------------------------------------------------------------\n",
      "Training for fold 2 ...\n",
      "Score for fold 2: loss of 0.5632327198982239; accuracy of 71.58836722373962%\n",
      "------------------------------------------------------------------------\n",
      "Training for fold 3 ...\n",
      "Score for fold 3: loss of 0.5662652254104614; accuracy of 70.9172248840332%\n",
      "------------------------------------------------------------------------\n",
      "Training for fold 4 ...\n",
      "Score for fold 4: loss of 0.5392006635665894; accuracy of 74.04921650886536%\n",
      "------------------------------------------------------------------------\n",
      "Training for fold 5 ...\n",
      "Score for fold 5: loss of 0.5806437730789185; accuracy of 72.25950956344604%\n",
      "------------------------------------------------------------------------\n",
      "Training for fold 6 ...\n",
      "Score for fold 6: loss of 0.5940536856651306; accuracy of 70.9172248840332%\n",
      "------------------------------------------------------------------------\n",
      "Training for fold 7 ...\n",
      "Score for fold 7: loss of 0.5570464134216309; accuracy of 72.70693778991699%\n",
      "------------------------------------------------------------------------\n",
      "Training for fold 8 ...\n",
      "Score for fold 8: loss of 0.550136148929596; accuracy of 73.82550239562988%\n",
      "------------------------------------------------------------------------\n",
      "Training for fold 9 ...\n",
      "Score for fold 9: loss of 0.5425254702568054; accuracy of 73.15436005592346%\n",
      "------------------------------------------------------------------------\n",
      "Training for fold 10 ...\n",
      "Score for fold 10: loss of 0.5717445611953735; accuracy of 70.85201740264893%\n",
      "------------------------------------------------------------------------\n",
      "Score per fold\n",
      "------------------------------------------------------------------------\n",
      "> Fold 1 - Loss: 0.5599277019500732 - Accuracy: 73.37807416915894%\n",
      "------------------------------------------------------------------------\n",
      "> Fold 2 - Loss: 0.5632327198982239 - Accuracy: 71.58836722373962%\n",
      "------------------------------------------------------------------------\n",
      "> Fold 3 - Loss: 0.5662652254104614 - Accuracy: 70.9172248840332%\n",
      "------------------------------------------------------------------------\n",
      "> Fold 4 - Loss: 0.5392006635665894 - Accuracy: 74.04921650886536%\n",
      "------------------------------------------------------------------------\n",
      "> Fold 5 - Loss: 0.5806437730789185 - Accuracy: 72.25950956344604%\n",
      "------------------------------------------------------------------------\n",
      "> Fold 6 - Loss: 0.5940536856651306 - Accuracy: 70.9172248840332%\n",
      "------------------------------------------------------------------------\n",
      "> Fold 7 - Loss: 0.5570464134216309 - Accuracy: 72.70693778991699%\n",
      "------------------------------------------------------------------------\n",
      "> Fold 8 - Loss: 0.550136148929596 - Accuracy: 73.82550239562988%\n",
      "------------------------------------------------------------------------\n",
      "> Fold 9 - Loss: 0.5425254702568054 - Accuracy: 73.15436005592346%\n",
      "------------------------------------------------------------------------\n",
      "> Fold 10 - Loss: 0.5717445611953735 - Accuracy: 70.85201740264893%\n",
      "------------------------------------------------------------------------\n",
      "Average scores for all folds:\n",
      "> Accuracy: 72.36484348773956 (+- 1.1760735898646404)\n",
      "> Loss: 0.5624776363372803\n",
      "------------------------------------------------------------------------\n",
      "------------------------------\n",
      "Cross Validation Results for n=6 Principal Components\n",
      "------------------------------------------------------------------------\n",
      "Training for fold 1 ...\n",
      "Score for fold 1: loss of 0.5434699654579163; accuracy of 75.16778707504272%\n",
      "------------------------------------------------------------------------\n",
      "Training for fold 2 ...\n",
      "Score for fold 2: loss of 0.5128638744354248; accuracy of 76.28635168075562%\n",
      "------------------------------------------------------------------------\n",
      "Training for fold 3 ...\n",
      "Score for fold 3: loss of 0.5161664485931396; accuracy of 75.83892345428467%\n",
      "------------------------------------------------------------------------\n",
      "Training for fold 4 ...\n",
      "Score for fold 4: loss of 0.58607417345047; accuracy of 69.57494616508484%\n",
      "------------------------------------------------------------------------\n",
      "Training for fold 5 ...\n",
      "Score for fold 5: loss of 0.5689478516578674; accuracy of 70.9172248840332%\n",
      "------------------------------------------------------------------------\n",
      "Training for fold 6 ...\n",
      "Score for fold 6: loss of 0.5688344836235046; accuracy of 72.03579545021057%\n",
      "------------------------------------------------------------------------\n",
      "Training for fold 7 ...\n",
      "Score for fold 7: loss of 0.5568520426750183; accuracy of 72.93064594268799%\n",
      "------------------------------------------------------------------------\n",
      "Training for fold 8 ...\n",
      "Score for fold 8: loss of 0.556384265422821; accuracy of 72.25950956344604%\n",
      "------------------------------------------------------------------------\n",
      "Training for fold 9 ...\n",
      "Score for fold 9: loss of 0.5868916511535645; accuracy of 70.69351077079773%\n",
      "------------------------------------------------------------------------\n",
      "Training for fold 10 ...\n",
      "Score for fold 10: loss of 0.5806864500045776; accuracy of 73.09417128562927%\n",
      "------------------------------------------------------------------------\n",
      "Score per fold\n",
      "------------------------------------------------------------------------\n",
      "> Fold 1 - Loss: 0.5434699654579163 - Accuracy: 75.16778707504272%\n",
      "------------------------------------------------------------------------\n",
      "> Fold 2 - Loss: 0.5128638744354248 - Accuracy: 76.28635168075562%\n",
      "------------------------------------------------------------------------\n",
      "> Fold 3 - Loss: 0.5161664485931396 - Accuracy: 75.83892345428467%\n",
      "------------------------------------------------------------------------\n",
      "> Fold 4 - Loss: 0.58607417345047 - Accuracy: 69.57494616508484%\n",
      "------------------------------------------------------------------------\n",
      "> Fold 5 - Loss: 0.5689478516578674 - Accuracy: 70.9172248840332%\n",
      "------------------------------------------------------------------------\n",
      "> Fold 6 - Loss: 0.5688344836235046 - Accuracy: 72.03579545021057%\n",
      "------------------------------------------------------------------------\n",
      "> Fold 7 - Loss: 0.5568520426750183 - Accuracy: 72.93064594268799%\n",
      "------------------------------------------------------------------------\n",
      "> Fold 8 - Loss: 0.556384265422821 - Accuracy: 72.25950956344604%\n",
      "------------------------------------------------------------------------\n",
      "> Fold 9 - Loss: 0.5868916511535645 - Accuracy: 70.69351077079773%\n",
      "------------------------------------------------------------------------\n",
      "> Fold 10 - Loss: 0.5806864500045776 - Accuracy: 73.09417128562927%\n",
      "------------------------------------------------------------------------\n",
      "Average scores for all folds:\n",
      "> Accuracy: 72.87988662719727 (+- 2.1516309062035592)\n",
      "> Loss: 0.5577171206474304\n",
      "------------------------------------------------------------------------\n"
     ]
    }
   ],
   "source": [
    "for i in range(2, 7):\n",
    "    \n",
    "    cv_train_data = pca_train_dataframes[i - 2]\n",
    "    cv_test_data = pca_test_dataframes[i - 2]\n",
    "    cv_train_labels = train_labels\n",
    "    cv_test_labels = test_labels\n",
    "    \n",
    "    print(\"-\" * 30)\n",
    "    print(f\"Cross Validation Results for n={i} Principal Components\")\n",
    "    cross_validation(cv_train_data, cv_train_labels, cv_test_data, cv_test_labels, i)\n"
   ]
  },
  {
   "cell_type": "markdown",
   "id": "7ff61ce1",
   "metadata": {},
   "source": [
    "### Neural Net Performance"
   ]
  },
  {
   "cell_type": "markdown",
   "id": "a46f5039",
   "metadata": {},
   "source": [
    "Visualizing model performance with the best hyperparameters."
   ]
  },
  {
   "cell_type": "code",
   "execution_count": 41,
   "id": "2f34a451",
   "metadata": {},
   "outputs": [],
   "source": [
    "y_pred = model.predict(test_data_nn)"
   ]
  },
  {
   "cell_type": "code",
   "execution_count": 42,
   "id": "969daf8e",
   "metadata": {},
   "outputs": [
    {
     "data": {
      "image/png": "[encoded data removed]",
      "text/plain": [
       "<Figure size 432x288 with 2 Axes>"
      ]
     },
     "metadata": {
      "needs_background": "light"
     },
     "output_type": "display_data"
    }
   ],
   "source": [
    "cf_matrix = pd.DataFrame(metrics.confusion_matrix(test_labels, 1*(y_pred>=0.5)))\n",
    "\n",
    "ax = sns.heatmap(cf_matrix, annot=True, cmap='Blues')\n",
    "\n",
    "ax.set_xlabel('\\nPredicted Values')\n",
    "ax.set_ylabel('Actual Values ');\n",
    "\n",
    "## Ticket labels - List must be in alphabetical order\n",
    "ax.xaxis.set_ticklabels(['False','True'])\n",
    "ax.yaxis.set_ticklabels(['False','True'])\n",
    "\n",
    "## Display the visualization of the Confusion Matrix.\n",
    "plt.show()"
   ]
  },
  {
   "cell_type": "code",
   "execution_count": 43,
   "id": "8782efb8",
   "metadata": {},
   "outputs": [
    {
     "name": "stdout",
     "output_type": "stream",
     "text": [
      "              precision    recall  f1-score   support\n",
      "\n",
      "         0.0       0.95      0.85      0.90       719\n",
      "         1.0       0.05      0.12      0.07        40\n",
      "\n",
      "    accuracy                           0.82       759\n",
      "   macro avg       0.50      0.49      0.48       759\n",
      "weighted avg       0.90      0.82      0.85       759\n",
      "\n"
     ]
    }
   ],
   "source": [
    "print(classification_report(test_labels, 1*(y_pred>=0.5)))"
   ]
  },
  {
   "cell_type": "code",
   "execution_count": 44,
   "id": "4e561d63",
   "metadata": {},
   "outputs": [
    {
     "data": {
      "image/png": "[encoded data removed]",
      "text/plain": [
       "<Figure size 432x288 with 1 Axes>"
      ]
     },
     "metadata": {
      "needs_background": "light"
     },
     "output_type": "display_data"
    }
   ],
   "source": [
    "nn_roc_auc = roc_auc_score(test_labels, y_pred)\n",
    "fpr, tpr, thresholds = roc_curve(test_labels, y_pred)\n",
    "plt.figure()\n",
    "plt.plot(fpr, tpr, label='Neural Network (area = %0.2f)' % nn_roc_auc)\n",
    "plt.plot([0, 1], [0, 1],'r--')\n",
    "plt.xlim([0.0, 1.0])\n",
    "plt.ylim([0.0, 1.05])\n",
    "plt.xlabel('False Positive Rate')\n",
    "plt.ylabel('True Positive Rate')\n",
    "plt.title('Receiver operating characteristic')\n",
    "plt.legend(loc=\"lower right\")\n",
    "plt.savefig('Log_ROC')\n",
    "plt.show()"
   ]
  },
  {
   "cell_type": "markdown",
   "id": "a4a37d42",
   "metadata": {},
   "source": [
    "**In conclusion, although in general cases neural networks perform better compared to the logistic regression model, the logistic regression outperforms in this case. In addition, explainability is very important in this case, so we would choose the logistic regression.** Today, it is no longer necessary to predict witch trial executions, but it is necessary to be able to interpret the causes of these historical effects and to be able to make connections to gender issues that continue to exist today. "
   ]
  },
  {
   "cell_type": "markdown",
   "id": "26eaf766",
   "metadata": {},
   "source": [
    "#### Contributions\n",
    "\n",
    "**Elda Pere**: Worked on collecting the data, researching 15th-18th century witchcraft in Scotland and how it relates to gender, balancing the target variable with SMOTE, determining significance and interpreting results of logistic regression, evaluating and visualizing the performance of the models that are run, and working on the presentation. "
   ]
  },
  {
   "cell_type": "markdown",
   "id": "c778f10e",
   "metadata": {},
   "source": [
    "### Thank you!"
   ]
  },
  {
   "cell_type": "code",
   "execution_count": null,
   "id": "60eda2b0",
   "metadata": {},
   "outputs": [],
   "source": []
  }
 ],
 "metadata": {
  "kernelspec": {
   "display_name": "Python 3 (ipykernel)",
   "language": "python",
   "name": "python3"
  },
  "language_info": {
   "codemirror_mode": {
    "name": "ipython",
    "version": 3
   },
   "file_extension": ".py",
   "mimetype": "text/x-python",
   "name": "python",
   "nbconvert_exporter": "python",
   "pygments_lexer": "ipython3",
   "version": "3.9.7"
  }
 },
 "nbformat": 4,
 "nbformat_minor": 5
}
