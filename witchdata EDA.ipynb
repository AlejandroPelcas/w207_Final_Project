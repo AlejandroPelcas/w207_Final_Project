{
 "cells": [
  {
   "cell_type": "code",
   "execution_count": 3,
   "id": "d658edbd",
   "metadata": {},
   "outputs": [],
   "source": [
    "import pandas as pd\n",
    "data = pd.read_csv('./WDB_Trial.csv')\n"
   ]
  },
  {
   "cell_type": "code",
   "execution_count": 4,
   "id": "c08ba22e",
   "metadata": {},
   "outputs": [
    {
     "data": {
      "text/plain": [
       "0    2981\n",
       "1     230\n",
       "Name: Execution, dtype: int64"
      ]
     },
     "execution_count": 4,
     "metadata": {},
     "output_type": "execute_result"
    }
   ],
   "source": [
    "data.Execution.value_counts()\n"
   ]
  },
  {
   "cell_type": "code",
   "execution_count": 5,
   "id": "7134bc5d",
   "metadata": {},
   "outputs": [
    {
     "data": {
      "text/plain": [
       "0    3184\n",
       "1      27\n",
       "Name: High_status, dtype: int64"
      ]
     },
     "execution_count": 5,
     "metadata": {},
     "output_type": "execute_result"
    }
   ],
   "source": [
    "data.High_status.value_counts()"
   ]
  },
  {
   "cell_type": "code",
   "execution_count": 6,
   "id": "62ed50ec",
   "metadata": {},
   "outputs": [
    {
     "data": {
      "text/plain": [
       "0.0     3051\n",
       "6.0       17\n",
       "2.0       17\n",
       "4.0       16\n",
       "7.0       14\n",
       "3.0       14\n",
       "1.0       11\n",
       "22.0       9\n",
       "5.0        9\n",
       "9.0        8\n",
       "8.0        8\n",
       "11.0       5\n",
       "12.0       4\n",
       "25.0       4\n",
       "10.0       4\n",
       "14.0       3\n",
       "21.0       3\n",
       "15.0       3\n",
       "13.0       2\n",
       "16.0       1\n",
       "24.0       1\n",
       "48.0       1\n",
       "20.0       1\n",
       "23.0       1\n",
       "43.0       1\n",
       "19.0       1\n",
       "Name: Male_accusers, dtype: int64"
      ]
     },
     "execution_count": 6,
     "metadata": {},
     "output_type": "execute_result"
    }
   ],
   "source": [
    "data.Male_accusers.value_counts()\n"
   ]
  },
  {
   "cell_type": "code",
   "execution_count": 7,
   "id": "2ec148b3",
   "metadata": {},
   "outputs": [
    {
     "data": {
      "text/plain": [
       "<AxesSubplot:ylabel='Frequency'>"
      ]
     },
     "execution_count": 7,
     "metadata": {},
     "output_type": "execute_result"
    },
    {
     "data": {
      "image/png": "[encoded data removed]",
      "text/plain": [
       "<Figure size 432x288 with 1 Axes>"
      ]
     },
     "metadata": {
      "needs_background": "light"
     },
     "output_type": "display_data"
    }
   ],
   "source": [
    "data.Female_accusers.plot.hist(bins = 10, xlim = (0,10))"
   ]
  },
  {
   "cell_type": "code",
   "execution_count": 8,
   "id": "1a6cd0c3",
   "metadata": {},
   "outputs": [
    {
     "data": {
      "text/plain": [
       "<AxesSubplot:ylabel='Frequency'>"
      ]
     },
     "execution_count": 8,
     "metadata": {},
     "output_type": "execute_result"
    },
    {
     "data": {
      "image/png": "[encoded data removed]",
      "text/plain": [
       "<Figure size 432x288 with 1 Axes>"
      ]
     },
     "metadata": {
      "needs_background": "light"
     },
     "output_type": "display_data"
    }
   ],
   "source": [
    "data.Male_accusers.plot.hist(bins = 10, xlim = (0,10))"
   ]
  },
  {
   "cell_type": "code",
   "execution_count": 9,
   "id": "9951329d",
   "metadata": {},
   "outputs": [
    {
     "data": {
      "text/plain": [
       "Edinburgh     47\n",
       "Aberdeen      34\n",
       "Renfrew       32\n",
       "Dumfries      23\n",
       "Haddington    18\n",
       "Orkney        18\n",
       "Fife          15\n",
       "Stirling      14\n",
       "Ayr           10\n",
       "Peebles       10\n",
       "Perth         10\n",
       "Shetland       9\n",
       "Linlithgow     9\n",
       "Ross           6\n",
       "Lanark         5\n",
       "Moray          4\n",
       "Roxburgh       3\n",
       "Dunbarton      3\n",
       "Selkirk        2\n",
       "Banff          2\n",
       "Bute           1\n",
       "Berwick        1\n",
       "Argyll         1\n",
       "Name: Trial_county, dtype: int64"
      ]
     },
     "execution_count": 9,
     "metadata": {},
     "output_type": "execute_result"
    }
   ],
   "source": [
    "data.Trial_county.value_counts()"
   ]
  },
  {
   "cell_type": "code",
   "execution_count": 10,
   "id": "5471f869",
   "metadata": {},
   "outputs": [
    {
     "data": {
      "text/plain": [
       "0    2725\n",
       "1     486\n",
       "Name: Arrest, dtype: int64"
      ]
     },
     "execution_count": 10,
     "metadata": {},
     "output_type": "execute_result"
    }
   ],
   "source": [
    "data.Arrest.value_counts()"
   ]
  },
  {
   "cell_type": "code",
   "execution_count": 11,
   "id": "ac629e5a",
   "metadata": {},
   "outputs": [
    {
     "data": {
      "text/plain": [
       "0    3113\n",
       "1      98\n",
       "Name: Fled, dtype: int64"
      ]
     },
     "execution_count": 11,
     "metadata": {},
     "output_type": "execute_result"
    }
   ],
   "source": [
    "data.Fled.value_counts()"
   ]
  },
  {
   "cell_type": "code",
   "execution_count": 52,
   "id": "6d0a7b39",
   "metadata": {},
   "outputs": [
    {
     "data": {
      "text/plain": [
       "0    3171\n",
       "1      40\n",
       "Name: ActionDropped, dtype: int64"
      ]
     },
     "execution_count": 52,
     "metadata": {},
     "output_type": "execute_result"
    }
   ],
   "source": [
    "data.ActionDropped.value_counts()"
   ]
  },
  {
   "cell_type": "code",
   "execution_count": null,
   "id": "893ee431",
   "metadata": {},
   "outputs": [],
   "source": []
  }
 ],
 "metadata": {
  "kernelspec": {
   "display_name": "Python 3",
   "language": "python",
   "name": "python3"
  },
  "language_info": {
   "codemirror_mode": {
    "name": "ipython",
    "version": 3
   },
   "file_extension": ".py",
   "mimetype": "text/x-python",
   "name": "python",
   "nbconvert_exporter": "python",
   "pygments_lexer": "ipython3",
   "version": "3.8.8"
  }
 },
 "nbformat": 4,
 "nbformat_minor": 5
}
